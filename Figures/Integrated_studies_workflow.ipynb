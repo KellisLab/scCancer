{
 "cells": [
  {
   "cell_type": "markdown",
   "id": "e992e3cf",
   "metadata": {},
   "source": [
    "# Integrate studies for Supplementary Figure 1/2B\n",
    "\n",
    "#Note: integrated_studies_102023.qs is the same as 2_RNA_integrated_studies.rds with the metadata filtered"
   ]
  },
  {
   "cell_type": "code",
   "execution_count": 1,
   "id": "3b851783",
   "metadata": {
    "scrolled": true
   },
   "outputs": [
    {
     "name": "stderr",
     "output_type": "stream",
     "text": [
      "Attaching SeuratObject\n",
      "\n",
      "‘SeuratObject’ was built with package ‘Matrix’ 1.6.4 but the current\n",
      "version is 1.6.5; it is recomended that you reinstall ‘SeuratObject’ as\n",
      "the ABI for ‘Matrix’ may have changed\n",
      "\n",
      "Seurat v4 was just loaded with SeuratObject v5; disabling v5 assays and\n",
      "validation routines, and ensuring assays work in strict v3/v4\n",
      "compatibility mode\n",
      "\n"
     ]
    }
   ],
   "source": [
    "library(Seurat)"
   ]
  },
  {
   "cell_type": "markdown",
   "id": "097124fd",
   "metadata": {},
   "source": [
    "# 0. Integrate studies one by one by either RNA or TPM - ran in slurm\n",
    "\n",
    "https://satijalab.org/seurat/articles/integration_introduction.html"
   ]
  },
  {
   "cell_type": "code",
   "execution_count": null,
   "id": "b31241e2",
   "metadata": {},
   "outputs": [],
   "source": [
    "#### integrate studies\n",
    "\n",
    "#get all studies\n",
    "library(Seurat)\n",
    "\n",
    "#STUDY 1#\n",
    "study1 <- readRDS('/path_to_file/SuppF1_Study1_obj_TPM_counts.rds')\n",
    "#rename assay \n",
    "DefaultAssay(study1) <- 'RNA'\n",
    "#find variable features\n",
    "study1 <- FindVariableFeatures(study1, selection.method = \"vst\", nfeatures = 3000) \n",
    "\n",
    "#STUDY 2#\n",
    "study2 <- readRDS('/path_to_file/SuppF1_Study2_obj_TPM_counts.rds')\n",
    "DefaultAssay(study2) <- 'RNA'\n",
    "#find variable features\n",
    "study2 <- FindVariableFeatures(study2, selection.method = \"vst\", nfeatures = 3000) \n",
    "\n",
    "#STUDY 3#\n",
    "study3 <- readRDS('/path_to_file/SuppF1_Study3_obj_TPM_counts.rds')\n",
    "DefaultAssay(study3) <- 'RNA'\n",
    "study3 <- FindVariableFeatures(study3, selection.method = \"vst\", nfeatures = 3000) \n",
    "\n",
    "#STUDY 4\n",
    "study4 <- readRDS('/path_to_file/SuppF1_Study4_merged_obj_raw_counts.rds')\n",
    "DefaultAssay(study4) <- 'RNA'\n",
    "study4 <- NormalizeData(study4)\n",
    "study4 <- FindVariableFeatures(study4, selection.method = \"vst\", nfeatures = 3000)\n",
    "study4 <- ScaleData(study4)\n",
    "\n",
    "#OUR OBJECT#\n",
    "obj <- readRDS('/path_to_file/1_RNA_all.rds')\n",
    "DefaultAssay(obj) <- 'RNA'\n",
    "obj <- FindVariableFeatures(obj, selection.method = \"vst\", nfeatures = 3000)\n",
    "\n",
    "#INTEGRATE#\n",
    "#nfeatures_to_integrate <- min(c(length(VariableFeatures(study1)), length(VariableFeatures(study2)), length(VariableFeatures(study3)), length(VariableFeatures(study4))))\n",
    "\n",
    "all_objects <- list(obj, study1, study2, study3, study4)\n",
    "features <- SelectIntegrationFeatures(object.list = all_objects) #default of 2000 features\n",
    "\n",
    "#find integration anchors\n",
    "anchors <- FindIntegrationAnchors(object.list = all_objects, anchor.features = features, \n",
    "                                  normalization.method= 'LogNormalize')\n",
    "\n",
    "objects.integrated <- IntegrateData(anchorset = anchors) #by default, will use the features used in anchor finding.\n",
    "\n",
    "#save integrated objects and anchors\n",
    "saveRDS(objects.integrated, '/path_to_file/integrated_objects_101623.rds')\n",
    "\n",
    "saveRDS(anchors, '/path_to_filehome/cbw3/data/figure_generation/Figure1/integration_anchors_101623.rds')     "
   ]
  },
  {
   "cell_type": "markdown",
   "id": "364899f8",
   "metadata": {},
   "source": [
    "# 1. Predict cell types - ran in slurm\n",
    "use RNA assay"
   ]
  },
  {
   "cell_type": "code",
   "execution_count": null,
   "id": "f702a5e3",
   "metadata": {},
   "outputs": [],
   "source": [
    "library(Seurat)\n",
    "\n",
    "objects.integrated <- readRDS('/home/cbw3/data/figure_generation/Figure1/integrated_objects_101623.rds')\n",
    "DefaultAssay(objects.integrated) <- 'RNA'\n",
    "\n",
    "#change study from \"NA\" to 0 for the reference \n",
    "#objects.integrated@meta.data[is.na(objects.integrated@meta.data$study),]$study = 0\n",
    "\n",
    "obj.query <- subset(objects.integrated, subset = study == 0, \n",
    "\t\t\t\tinvert = TRUE)\n",
    "\n",
    "obj.reference <- readRDS('/path_to_file/1_RNA_all.rds')\n",
    "DefaultAssay(obj.reference) <- 'RNA'\n",
    "obj.reference <- NormalizeData(obj.reference) \n",
    "obj.reference <- FindVariableFeatures(obj.reference, selection.method = 'vst', nfeatures = 3000)\n",
    "#\n",
    "anchors <- FindTransferAnchors(reference = obj.reference, query = obj.query,\n",
    "    dims = 1:30, reference.reduction = \"pca\")\n",
    "\n",
    "#\n",
    "predictions <- TransferData(anchorset = anchors, refdata = obj.reference$cell_type,\n",
    "    dims = 1:30)\n",
    "\n",
    "#save predictions of cell types \n",
    "saveRDS(predictions, \"/home/cbw3/data/figure_generation/Figure1/predicted_celltypes_101923.rds\")\n"
   ]
  },
  {
   "cell_type": "markdown",
   "id": "844672f3",
   "metadata": {},
   "source": [
    "## 2. get the celltype predictions and add them to object - done here"
   ]
  },
  {
   "cell_type": "code",
   "execution_count": 37,
   "id": "1ef6d9bb",
   "metadata": {},
   "outputs": [],
   "source": [
    "predicted_celltypes <- readRDS('/path_to_file/predicted_celltypes_101923.rds')\n",
    "objects.integrated <- readRDS('/path_to_file/integrated_objects_101623.rds')\n",
    "\n",
    "#objects.integrated.test <- objects.integrated.harmony\n",
    "objects.integrated@meta.data[rownames(objects.integrated@meta.data) %in% rownames(predicted_celltypes),]$cell_type <- predicted_celltypes$predicted.id"
   ]
  },
  {
   "cell_type": "code",
   "execution_count": null,
   "id": "60d28129",
   "metadata": {},
   "outputs": [],
   "source": [
    "# save as qs object for faster loading\n",
    "library(qs)\n",
    "\n",
    "saveRDS(objects.integrated, '/path_to_file/integrated_objects_102023.qs')\n"
   ]
  },
  {
   "cell_type": "markdown",
   "id": "bd692d26",
   "metadata": {},
   "source": [
    "## 3. Perform scaling/PCA/UMAP on object (independent of the predicted cell types )"
   ]
  },
  {
   "cell_type": "code",
   "execution_count": 8,
   "id": "2c8945a4",
   "metadata": {},
   "outputs": [
    {
     "name": "stderr",
     "output_type": "stream",
     "text": [
      "Centering and scaling data matrix\n",
      "\n",
      "PC_ 1 \n",
      "Positive:  IFITM3, VIM, SPARC, LGALS1, CALD1, CRIP2, RRAS, HTRA1, SERPINH1, PRRX1 \n",
      "\t   IGFBP7, PRSS23, HSPB1, PPIC, EFEMP2, IGFBP4, FOS, CAV1, TSC22D1, NNMT \n",
      "\t   BGN, NRP1, CD9, SERPING1, EMILIN1, FSTL1, COL6A2, PCOLCE, MT2A, HSPE1 \n",
      "Negative:  CXCR4, CD69, CCL5, NKG7, GZMA, GZMK, IL7R, CST7, CD8A, TIGIT \n",
      "\t   KLRB1, GZMH, CTSW, KLRD1, ICOS, PRF1, IFNG, CD8B, GZMB, TNFRSF9 \n",
      "\t   CCR7, CTLA4, GNLY, BATF, S1PR4, CREM, CD79A, CRTAM, MS4A1, GPR18 \n",
      "PC_ 2 \n",
      "Positive:  MZT2A, PLP1, GSTP1, HSPE1, GAPDH, STMN1, CDK4, SERPINE2, CKS1B, MLANA \n",
      "\t   ERBB3, NSG1, H2AFZ, TUBA1B, PFN2, CKS2, HSPB1, SNF8, UBE2T, COL9A3 \n",
      "\t   PMEL, GPNMB, RHOBTB3, S100B, MDK, SLC39A4, GMPR, UPP1, TYMS, BAMBI \n",
      "Negative:  IGFBP4, IGFBP7, PDGFRB, THY1, SERPING1, COL6A2, C1R, COL6A3, GGT5, COL4A2 \n",
      "\t   CDH11, MXRA8, COL3A1, C1S, COL6A1, COL1A1, FBN1, CFH, COL18A1, HSPG2 \n",
      "\t   COL5A1, PXDN, ADAMTS2, FBLN2, PPIC, FILIP1L, EPAS1, FSTL1, PRRX2, ESAM \n",
      "PC_ 3 \n",
      "Positive:  C1S, C1R, COL6A2, COL6A3, COL6A1, COL3A1, COL1A2, MXRA8, CDH11, MRC2 \n",
      "\t   LUM, COL1A1, DCN, COL5A1, FAP, PDGFRA, MXRA5, RCN3, PRRX1, PRRX2 \n",
      "\t   LOXL1, ADAMTS2, RARRES2, SERPINF1, SERPING1, PDGFRB, CCDC80, LRRC15, DPT, BGN \n",
      "Negative:  PLVAP, CDH5, CLEC14A, CD93, RAMP2, CYYR1, MMRN2, VWF, RAMP3, ESAM \n",
      "\t   ENG, EMCN, EGFL7, CALCRL, PTPRB, CXorf36, NPDC1, CD34, KDR, TIE1 \n",
      "\t   PALMD, VWA1, ROBO4, SLCO2A1, HSPG2, FLT1, GNG11, PODXL, PCDH17, ARHGAP29 \n",
      "PC_ 4 \n",
      "Positive:  IGFBP7, CRIP2, RAMP2, COL4A2, CALD1, EGFL7, MCAM, GNG11, NR2F2, SPARC \n",
      "\t   HSPG2, FAM167B, PLP1, ESAM, NPDC1, PRSS23, MDK, ARHGAP29, VWA1, COL18A1 \n",
      "\t   PLVAP, MLANA, EMCN, CLEC14A, PXDN, CDH5, SLC9A3R2, CD34, RASIP1, TINAGL1 \n",
      "Negative:  TYROBP, FCER1G, SPI1, CYBB, SRGN, CD74, CTSS, MS4A6A, CLEC7A, HLA-DQB1 \n",
      "\t   CSF1R, MNDA, CD14, C1orf162, PLEK, CD68, LYZ, MS4A7, IGSF6, NCF2 \n",
      "\t   FGL2, C1QA, CD83, PLAUR, MS4A4A, C1QB, CD86, TNFSF13B, FTL, CD163 \n",
      "PC_ 5 \n",
      "Positive:  HMGB2, NUSAP1, TOP2A, GTSE1, BIRC5, MKI67, NUF2, CDKN3, CDK1, TPX2 \n",
      "\t   AURKB, CCNB2, UBE2C, CCNA2, MAD2L1, PBK, TUBA1B, CCNB1, CENPA, ASPM \n",
      "\t   TYMS, CDC20, CENPF, DLGAP5, UBE2T, SMC4, CDCA3, HMMR, STMN1, RRM2 \n",
      "Negative:  PLP1, PMEL, DCT, MLANA, PLTP, GPNMB, TSPAN10, NSG1, BIRC7, TYR \n",
      "\t   APOE, SNAI2, GMPR, LGALS3, SLC39A4, MFGE8, BLVRB, MFSD12, PHACTR1, RHOBTB3 \n",
      "\t   TYRP1, HSPB1, NENF, APOC1, QPCT, SCD, ERBB3, TRPM1, SLC45A2, S100B \n",
      "\n",
      "Warning message:\n",
      "“The default method for RunUMAP has changed from calling Python UMAP via reticulate to the R-native UWOT using the cosine metric\n",
      "To use Python UMAP via reticulate, set umap.method to 'umap-learn' and metric to 'correlation'\n",
      "This message will be shown once per session”\n",
      "17:57:34 UMAP embedding parameters a = 0.9922 b = 1.112\n",
      "\n",
      "17:57:34 Read 352966 rows and found 30 numeric columns\n",
      "\n",
      "17:57:34 Using Annoy for neighbor search, n_neighbors = 30\n",
      "\n",
      "17:57:34 Building Annoy index with metric = cosine, n_trees = 50\n",
      "\n",
      "0%   10   20   30   40   50   60   70   80   90   100%\n",
      "\n",
      "[----|----|----|----|----|----|----|----|----|----|\n",
      "\n",
      "*\n",
      "*\n",
      "*\n",
      "*\n",
      "*\n",
      "*\n",
      "*\n",
      "*\n",
      "*\n",
      "*\n",
      "*\n",
      "*\n",
      "*\n",
      "*\n",
      "*\n",
      "*\n",
      "*\n",
      "*\n",
      "*\n",
      "*\n",
      "*\n",
      "*\n",
      "*\n",
      "*\n",
      "*\n",
      "*\n",
      "*\n",
      "*\n",
      "*\n",
      "*\n",
      "*\n",
      "*\n",
      "*\n",
      "*\n",
      "*\n",
      "*\n",
      "*\n",
      "*\n",
      "*\n",
      "*\n",
      "*\n",
      "*\n",
      "*\n",
      "*\n",
      "*\n",
      "*\n",
      "*\n",
      "*\n",
      "*\n",
      "*\n",
      "|\n",
      "\n",
      "17:58:57 Writing NN index file to temp file /tmp/RtmpdEHsoh/file370023e3cc660\n",
      "\n",
      "17:58:58 Searching Annoy index using 1 thread, search_k = 3000\n",
      "\n",
      "18:02:16 Annoy recall = 75.28%\n",
      "\n",
      "18:02:18 Commencing smooth kNN distance calibration using 1 thread\n",
      " with target n_neighbors = 30\n",
      "\n",
      "18:02:40 Initializing from normalized Laplacian + noise (using irlba)\n",
      "\n",
      "18:06:46 Commencing optimization for 200 epochs, with 17333144 positive edges\n",
      "\n",
      "18:15:50 Optimization finished\n",
      "\n"
     ]
    },
    {
     "data": {
      "text/plain": [
       "An object of class Seurat \n",
       "68629 features across 352966 samples within 3 assays \n",
       "Active assay: integrated (2000 features, 2000 variable features)\n",
       " 2 other assays present: RNA, SCT\n",
       " 2 dimensional reductions calculated: pca, umap"
      ]
     },
     "metadata": {},
     "output_type": "display_data"
    }
   ],
   "source": [
    "#check that the integration looks okay\n",
    "DefaultAssay(objects.integrated) <- 'integrated'\n",
    "all.genes <- rownames(objects.integrated)\n",
    "objects.integrated <- ScaleData(objects.integrated, features = all.genes, assay= 'integrated')\n",
    "objects.integrated <- RunPCA(objects.integrated, features = VariableFeatures(object = objects.integrated))\n",
    "objects.integrated <- RunUMAP(objects.integrated, dims = 1:30)\n",
    "objects.integrated"
   ]
  },
  {
   "cell_type": "code",
   "execution_count": null,
   "id": "2f726d1b",
   "metadata": {},
   "outputs": [],
   "source": [
    "saveRDS(objects.integrated, '/path_to_file/integrated_objects_102023.qs')"
   ]
  },
  {
   "cell_type": "code",
   "execution_count": 19,
   "id": "7ce13e57",
   "metadata": {},
   "outputs": [],
   "source": [
    "objects.integrated@meta.data[is.na(objects.integrated$orig.ident),]$orig.ident <- 'Post_P6_T_enriched'"
   ]
  },
  {
   "cell_type": "code",
   "execution_count": 7,
   "id": "be5e9547",
   "metadata": {},
   "outputs": [],
   "source": [
    "objects.integrated@meta.data[is.na(objects.integrated$orig.ident),]$orig.ident <- objects.integrated@meta.data[is.na(objects.integrated$orig.ident),]$sample_ID"
   ]
  },
  {
   "cell_type": "markdown",
   "id": "5d34130a",
   "metadata": {},
   "source": [
    "# 4. Predict subtypes by subsetting the integrated object in clusters - done in slurm"
   ]
  },
  {
   "cell_type": "code",
   "execution_count": 2,
   "id": "4c049011",
   "metadata": {},
   "outputs": [
    {
     "name": "stderr",
     "output_type": "stream",
     "text": [
      "qs 0.25.5\n",
      "\n"
     ]
    }
   ],
   "source": [
    "library(qs)"
   ]
  },
  {
   "cell_type": "code",
   "execution_count": 3,
   "id": "c49a8dff",
   "metadata": {},
   "outputs": [],
   "source": [
    "objects.integrated <- qread(\"./integrated_objects_102023.qs\")"
   ]
  },
  {
   "cell_type": "code",
   "execution_count": 5,
   "id": "79d5cecd",
   "metadata": {},
   "outputs": [
    {
     "data": {
      "text/plain": [
       "An object of class Seurat \n",
       "68629 features across 352966 samples within 3 assays \n",
       "Active assay: integrated (2000 features, 2000 variable features)\n",
       " 2 other assays present: RNA, SCT\n",
       " 2 dimensional reductions calculated: pca, umap"
      ]
     },
     "metadata": {},
     "output_type": "display_data"
    }
   ],
   "source": [
    "objects.integrated"
   ]
  },
  {
   "cell_type": "code",
   "execution_count": 24,
   "id": "4a87ff7d",
   "metadata": {
    "collapsed": true
   },
   "outputs": [
    {
     "ename": "ERROR",
     "evalue": "Error in parse(text = x, srcfile = src): <text>:15:13: unexpected input\n14: for(ct in unique(objects.integrated$reannotated_cell_type)){\n15:     if(!(ct %in unique(objects.reference$subtyped_cell_type))) {\n                ^\n",
     "output_type": "error",
     "traceback": [
      "Error in parse(text = x, srcfile = src): <text>:15:13: unexpected input\n14: for(ct in unique(objects.integrated$reannotated_cell_type)){\n15:     if(!(ct %in unique(objects.reference$subtyped_cell_type))) {\n                ^\nTraceback:\n"
     ]
    }
   ],
   "source": [
    "library(Seurat)\n",
    "library(qs)\n",
    "\n",
    "objects.integrated <- qread('/path_to_file/integrated_objects_102023.qs')\n",
    "\n",
    "obj.query <- subset(objects.integrated, subset = study == 0, invert = TRUE)\n",
    "DefaultAssay(obj.query) <- 'RNA'\n",
    "\n",
    "obj.reference <- readRDS('/path_to_file/1_RNA_all.rds')\n",
    "DefaultAssay(obj.reference) <- 'RNA'\n",
    "#subset(objects.integrated, subset = study == 0, invert = TRUE)\n",
    "\n",
    "for(ct in unique(objects.integrated$cell_type)){\n",
    "    if(!(ct %in% unique(obj.reference$cell_subtype))) {\n",
    "        #subset both objects\n",
    "        print(paste0('celltype: ', ct))\n",
    "        obj.query.subset <- subset(obj.query, subset = reannotated_cell_type == ct)\n",
    "        obj.ref.subset <- subset(obj.reference, subset = reannotated_cell_type == ct)\n",
    "        \n",
    "        #perform scaling and PCA reduction again on the reference subset  \n",
    "        obj.ref.subset <- NormalizeData(obj.ref.subset) #don't know if this is absolutely necessary..\n",
    "        obj.ref.subset <- FindVariableFeatures(obj.ref.subset, selection.method = 'vst', nfeatures = 3000)\n",
    "        obj.ref.subset <- ScaleData(obj.ref.subset, features = VariableFeatures(obj.ref.subset))\n",
    "        \n",
    "        #PCA\n",
    "        obj.ref.subset <- RunPCA(obj.ref.subset, features = VariableFeatures(object = obj.ref.subset))\n",
    "        \n",
    "        anchors <- FindTransferAnchors(reference = obj.ref.subset, query = obj.query.subset,\n",
    "                    dims = 1:30, reference.reduction = \"pca\")\n",
    "        \n",
    "        predictions <- TransferData(anchorset = anchors, refdata = obj.ref.subset$cell_subtype,\n",
    "                dims = 1:30)\n",
    "\n",
    "        ct_file <- gsub(' ', '_', ct)\n",
    "        ct_file <- gsub('/', '_', ct_file)\n",
    "        \n",
    "        saveRDS(predictions, paste0(\"/path_to_file/predicted_subtypes_\", ct_file, \".rds\"))\n",
    "        \n",
    "        #predict subtypes within the object \n",
    "        \n",
    "    }\n",
    "}"
   ]
  },
  {
   "cell_type": "markdown",
   "id": "2fa77fe0",
   "metadata": {},
   "source": [
    "- files of predicted subtypes: predicted_subtypes_B.rds, predicted_subtypes_CD4_T.rds, predicted_subtypes_CD8_T.rds, predicted_subtypes_cDC.rds, predicted_subtypes_Fibroblast.rds, predicted_subtypes_Monocyte_Macrophage.rds, predicted_subtypes_Other_T.rds"
   ]
  },
  {
   "cell_type": "markdown",
   "id": "8ced5eb1",
   "metadata": {},
   "source": [
    "## 5. Integrate subtypes in the integrated object "
   ]
  },
  {
   "cell_type": "code",
   "execution_count": 6,
   "id": "9c590991",
   "metadata": {},
   "outputs": [],
   "source": [
    "B_predicted_subtypes <- readRDS(\"./predicted_subtypes_B.rds\")\n",
    "cDC_predicted_subtypes <- readRDS(\"./predicted_subtypes_cDC.rds\")\n",
    "CD4_predicted_subtypes <- readRDS(\"./predicted_subtypes_CD4_T.rds\")\n",
    "CD8_predicted_subtypes <- readRDS(\"./predicted_subtypes_CD8_T.rds\")\n",
    "fibro_predicted_subtypes <- readRDS(\"./predicted_subtypes_Fibroblast.rds\")\n",
    "mon_macro_predicted_subtypes <- readRDS(\"./predicted_subtypes_Monocyte_Macrophage.rds\")\n",
    "Other_T_predicted_subtypes <- readRDS(\"./predicted_subtypes_Other_T.rds\")"
   ]
  },
  {
   "cell_type": "code",
   "execution_count": 7,
   "id": "e3ac6d8a",
   "metadata": {},
   "outputs": [],
   "source": [
    "#B cells\n",
    "objects.integrated@meta.data[rownames(objects.integrated@meta.data) %in% rownames(B_predicted_subtypes),]$subtyped_cell_type <- B_predicted_subtypes$predicted.id\n",
    "\n",
    "#cDC cells\n",
    "objects.integrated@meta.data[rownames(objects.integrated@meta.data) %in% rownames(cDC_predicted_subtypes),]$subtyped_cell_type <- cDC_predicted_subtypes$predicted.id\n",
    "\n",
    "#CD4\n",
    "objects.integrated@meta.data[rownames(objects.integrated@meta.data) %in% rownames(CD4_predicted_subtypes),]$subtyped_cell_type <- CD4_predicted_subtypes$predicted.id\n",
    "\n",
    "#CD8 \n",
    "objects.integrated@meta.data[rownames(objects.integrated@meta.data) %in% rownames(CD8_predicted_subtypes),]$subtyped_cell_type <- CD8_predicted_subtypes$predicted.id\n",
    "\n",
    "#Fibroblast\n",
    "objects.integrated@meta.data[rownames(objects.integrated@meta.data) %in% rownames(fibro_predicted_subtypes),]$subtyped_cell_type <- fibro_predicted_subtypes$predicted.id\n",
    "\n",
    "#Monocyte/Macrophage\n",
    "objects.integrated@meta.data[rownames(objects.integrated@meta.data) %in% rownames(mon_macro_predicted_subtypes),]$subtyped_cell_type <- mon_macro_predicted_subtypes$predicted.id\n",
    "\n",
    "#Other T\n",
    "objects.integrated@meta.data[rownames(objects.integrated@meta.data) %in% rownames(Other_T_predicted_subtypes),]$subtyped_cell_type <- Other_T_predicted_subtypes$predicted.id\n"
   ]
  },
  {
   "cell_type": "markdown",
   "id": "4dd73ab0",
   "metadata": {},
   "source": [
    "### Integrate tumor MPs from original object \n",
    "Tumor metaprograms were found on the subset of predicted tumor cells from all studies in the same way they were found for our RNA-seq data."
   ]
  },
  {
   "cell_type": "code",
   "execution_count": 68,
   "id": "5e803c55",
   "metadata": {},
   "outputs": [],
   "source": [
    "#MPs for the integrated study\n",
    "tumor_mps_integrated <- readRDS(\"/path_to_file/integrated_mps.RDS\")"
   ]
  },
  {
   "cell_type": "code",
   "execution_count": 11,
   "id": "a961f3b2",
   "metadata": {},
   "outputs": [
    {
     "data": {
      "text/html": [
       "<style>\n",
       ".list-inline {list-style: none; margin:0; padding: 0}\n",
       ".list-inline>li {display: inline-block}\n",
       ".list-inline>li:not(:last-child)::after {content: \"\\00b7\"; padding: 0 .5ex}\n",
       "</style>\n",
       "<ol class=list-inline><li>'Tumor'</li><li>'Tumor - NA'</li><li>'Tumor - Secreted I'</li><li>'Tumor - Hypoxia'</li><li>'Tumor - Unassigned'</li><li>'Tumor - Stress'</li><li>'Tumor - Respiration'</li><li>'Tumor - Cell Cycle HMG-rich'</li><li>'Tumor - Cell Cycle - G2/M'</li><li>'Tumor - Cell Cycle - G1/S'</li><li>'Tumor - Unfolded protein response'</li><li>'Tumor - EMT-III'</li><li>'Tumor - MYC'</li><li>'Tumor - Protein maturation'</li><li>'Tumor - Skin-pigmentation'</li><li>'Tumor - Interferon/MHC-II (I)'</li><li>'Tumor - Stress (in vitro)'</li><li>'Tumor - Translation initiation'</li><li>'Tumor - Chromatin'</li><li>'Tumor - EMT-I'</li></ol>\n"
      ],
      "text/latex": [
       "\\begin{enumerate*}\n",
       "\\item 'Tumor'\n",
       "\\item 'Tumor - NA'\n",
       "\\item 'Tumor - Secreted I'\n",
       "\\item 'Tumor - Hypoxia'\n",
       "\\item 'Tumor - Unassigned'\n",
       "\\item 'Tumor - Stress'\n",
       "\\item 'Tumor - Respiration'\n",
       "\\item 'Tumor - Cell Cycle HMG-rich'\n",
       "\\item 'Tumor - Cell Cycle - G2/M'\n",
       "\\item 'Tumor - Cell Cycle - G1/S'\n",
       "\\item 'Tumor - Unfolded protein response'\n",
       "\\item 'Tumor - EMT-III'\n",
       "\\item 'Tumor - MYC'\n",
       "\\item 'Tumor - Protein maturation'\n",
       "\\item 'Tumor - Skin-pigmentation'\n",
       "\\item 'Tumor - Interferon/MHC-II (I)'\n",
       "\\item 'Tumor - Stress (in vitro)'\n",
       "\\item 'Tumor - Translation initiation'\n",
       "\\item 'Tumor - Chromatin'\n",
       "\\item 'Tumor - EMT-I'\n",
       "\\end{enumerate*}\n"
      ],
      "text/markdown": [
       "1. 'Tumor'\n",
       "2. 'Tumor - NA'\n",
       "3. 'Tumor - Secreted I'\n",
       "4. 'Tumor - Hypoxia'\n",
       "5. 'Tumor - Unassigned'\n",
       "6. 'Tumor - Stress'\n",
       "7. 'Tumor - Respiration'\n",
       "8. 'Tumor - Cell Cycle HMG-rich'\n",
       "9. 'Tumor - Cell Cycle - G2/M'\n",
       "10. 'Tumor - Cell Cycle - G1/S'\n",
       "11. 'Tumor - Unfolded protein response'\n",
       "12. 'Tumor - EMT-III'\n",
       "13. 'Tumor - MYC'\n",
       "14. 'Tumor - Protein maturation'\n",
       "15. 'Tumor - Skin-pigmentation'\n",
       "16. 'Tumor - Interferon/MHC-II (I)'\n",
       "17. 'Tumor - Stress (in vitro)'\n",
       "18. 'Tumor - Translation initiation'\n",
       "19. 'Tumor - Chromatin'\n",
       "20. 'Tumor - EMT-I'\n",
       "\n",
       "\n"
      ],
      "text/plain": [
       " [1] \"Tumor\"                             \"Tumor - NA\"                       \n",
       " [3] \"Tumor - Secreted I\"                \"Tumor - Hypoxia\"                  \n",
       " [5] \"Tumor - Unassigned\"                \"Tumor - Stress\"                   \n",
       " [7] \"Tumor - Respiration\"               \"Tumor - Cell Cycle HMG-rich\"      \n",
       " [9] \"Tumor - Cell Cycle - G2/M\"         \"Tumor - Cell Cycle - G1/S\"        \n",
       "[11] \"Tumor - Unfolded protein response\" \"Tumor - EMT-III\"                  \n",
       "[13] \"Tumor - MYC\"                       \"Tumor - Protein maturation\"       \n",
       "[15] \"Tumor - Skin-pigmentation\"         \"Tumor - Interferon/MHC-II (I)\"    \n",
       "[17] \"Tumor - Stress (in vitro)\"         \"Tumor - Translation initiation\"   \n",
       "[19] \"Tumor - Chromatin\"                 \"Tumor - EMT-I\"                    "
      ]
     },
     "metadata": {},
     "output_type": "display_data"
    }
   ],
   "source": [
    "unique(objects.integrated@meta.data[objects.integrated$reannotated_cell_type == 'Tumor',]$subtyped_cell_type)\n",
    "#NA values are from the other studies"
   ]
  },
  {
   "cell_type": "code",
   "execution_count": 9,
   "id": "b1ea7924",
   "metadata": {},
   "outputs": [],
   "source": [
    "#Copy of integrated objects\n",
    "objects.integrated.copy <- objects.integrated"
   ]
  },
  {
   "cell_type": "code",
   "execution_count": 10,
   "id": "fbda7fb5",
   "metadata": {},
   "outputs": [
    {
     "data": {
      "text/plain": [
       "An object of class Seurat \n",
       "92507 features across 137020 samples within 4 assays \n",
       "Active assay: integrated (2000 features, 2000 variable features)\n",
       " 3 other assays present: RNA, SCT, TPM\n",
       " 2 dimensional reductions calculated: pca, umap"
      ]
     },
     "metadata": {},
     "output_type": "display_data"
    }
   ],
   "source": [
    "other_studies_cells <- subset(tumor_mps_integrated, subset = (study != '0'))\n",
    "other_studies_cells"
   ]
  },
  {
   "cell_type": "code",
   "execution_count": 11,
   "id": "c58a03dc",
   "metadata": {},
   "outputs": [],
   "source": [
    "other_studies_cells_copy <- other_studies_cells"
   ]
  },
  {
   "cell_type": "code",
   "execution_count": 12,
   "id": "1c2a6ed1",
   "metadata": {},
   "outputs": [],
   "source": [
    "other_studies_cells$mp_annotations <- unlist(lapply(other_studies_cells$mp_annotations, function(x) gsub(head(unlist(strsplit(x, ' ')), 1), \"Tumor -\", x)))"
   ]
  },
  {
   "cell_type": "code",
   "execution_count": 15,
   "id": "84d75cab",
   "metadata": {},
   "outputs": [],
   "source": [
    "integrated_obj_other_study_tumor_cells <- subset(objects.integrated, subset = (cell_type == 'Tumor' & study != 0))"
   ]
  },
  {
   "cell_type": "code",
   "execution_count": 21,
   "id": "34851c6e",
   "metadata": {},
   "outputs": [],
   "source": [
    "other_study_tumor_cellnames <- rownames(integrated_obj_other_study_tumor_cells@meta.data)"
   ]
  },
  {
   "cell_type": "code",
   "execution_count": 24,
   "id": "730774cc",
   "metadata": {},
   "outputs": [],
   "source": [
    "objects.integrated.copy <- objects.integrated"
   ]
  },
  {
   "cell_type": "code",
   "execution_count": 24,
   "id": "baf09f2b",
   "metadata": {},
   "outputs": [],
   "source": [
    "#transfer tumor annotations to integrated object for the OTHER studies \n",
    "objects.integrated@meta.data[rownames(objects.integrated@meta.data) %in% other_study_tumor_cellnames,]$subtyped_cell_type <- \n",
    "other_studies_cells@meta.data[rownames(other_studies_cells@meta.data) %in% other_study_tumor_cellnames,]$mp_annotations"
   ]
  },
  {
   "cell_type": "markdown",
   "id": "edcec8c0",
   "metadata": {},
   "source": [
    "## add tumor annotations from original study "
   ]
  },
  {
   "cell_type": "code",
   "execution_count": 26,
   "id": "f3fa47ff",
   "metadata": {},
   "outputs": [],
   "source": [
    "study0_tumor_cells <- readRDS(\"/net/bmc-lab5/data/kellis/group/scCancer2023/tumor_mps.RDS\")\n",
    "study0_tumor_cells$mp_trim2 <- unlist(lapply(study0_tumor_cells$mp_trim2, function(x) paste0(\"Tumor - \",x)))"
   ]
  },
  {
   "cell_type": "code",
   "execution_count": 27,
   "id": "2b0f4835",
   "metadata": {
    "scrolled": true
   },
   "outputs": [
    {
     "data": {
      "text/html": [
       "<style>\n",
       ".list-inline {list-style: none; margin:0; padding: 0}\n",
       ".list-inline>li {display: inline-block}\n",
       ".list-inline>li:not(:last-child)::after {content: \"\\00b7\"; padding: 0 .5ex}\n",
       "</style>\n",
       "<ol class=list-inline><li>'Tumor - NA'</li><li>'Tumor - Secreted I'</li><li>'Tumor - Hypoxia'</li><li>'Tumor - Unassigned'</li><li>'Tumor - Stress'</li><li>'Tumor - Respiration'</li><li>'Tumor - Cell Cylce HMG-rich'</li><li>'Tumor - Cell Cycle - G2/M'</li><li>'Tumor - Cell Cycle - G1/S'</li><li>'Tumor - Unfolded protein response'</li><li>'Tumor - EMT-III'</li><li>'Tumor - MYC'</li><li>'Tumor - Protein maturation'</li><li>'Tumor - Skin-pigmentation'</li><li>'Tumor - Interferon/MHC-II (I)'</li><li>'Tumor - Stress (in vitro)'</li><li>'Tumor - Translation initiation'</li><li>'Tumor - Chromatin'</li></ol>\n"
      ],
      "text/latex": [
       "\\begin{enumerate*}\n",
       "\\item 'Tumor - NA'\n",
       "\\item 'Tumor - Secreted I'\n",
       "\\item 'Tumor - Hypoxia'\n",
       "\\item 'Tumor - Unassigned'\n",
       "\\item 'Tumor - Stress'\n",
       "\\item 'Tumor - Respiration'\n",
       "\\item 'Tumor - Cell Cylce HMG-rich'\n",
       "\\item 'Tumor - Cell Cycle - G2/M'\n",
       "\\item 'Tumor - Cell Cycle - G1/S'\n",
       "\\item 'Tumor - Unfolded protein response'\n",
       "\\item 'Tumor - EMT-III'\n",
       "\\item 'Tumor - MYC'\n",
       "\\item 'Tumor - Protein maturation'\n",
       "\\item 'Tumor - Skin-pigmentation'\n",
       "\\item 'Tumor - Interferon/MHC-II (I)'\n",
       "\\item 'Tumor - Stress (in vitro)'\n",
       "\\item 'Tumor - Translation initiation'\n",
       "\\item 'Tumor - Chromatin'\n",
       "\\end{enumerate*}\n"
      ],
      "text/markdown": [
       "1. 'Tumor - NA'\n",
       "2. 'Tumor - Secreted I'\n",
       "3. 'Tumor - Hypoxia'\n",
       "4. 'Tumor - Unassigned'\n",
       "5. 'Tumor - Stress'\n",
       "6. 'Tumor - Respiration'\n",
       "7. 'Tumor - Cell Cylce HMG-rich'\n",
       "8. 'Tumor - Cell Cycle - G2/M'\n",
       "9. 'Tumor - Cell Cycle - G1/S'\n",
       "10. 'Tumor - Unfolded protein response'\n",
       "11. 'Tumor - EMT-III'\n",
       "12. 'Tumor - MYC'\n",
       "13. 'Tumor - Protein maturation'\n",
       "14. 'Tumor - Skin-pigmentation'\n",
       "15. 'Tumor - Interferon/MHC-II (I)'\n",
       "16. 'Tumor - Stress (in vitro)'\n",
       "17. 'Tumor - Translation initiation'\n",
       "18. 'Tumor - Chromatin'\n",
       "\n",
       "\n"
      ],
      "text/plain": [
       " [1] \"Tumor - NA\"                        \"Tumor - Secreted I\"               \n",
       " [3] \"Tumor - Hypoxia\"                   \"Tumor - Unassigned\"               \n",
       " [5] \"Tumor - Stress\"                    \"Tumor - Respiration\"              \n",
       " [7] \"Tumor - Cell Cylce HMG-rich\"       \"Tumor - Cell Cycle - G2/M\"        \n",
       " [9] \"Tumor - Cell Cycle - G1/S\"         \"Tumor - Unfolded protein response\"\n",
       "[11] \"Tumor - EMT-III\"                   \"Tumor - MYC\"                      \n",
       "[13] \"Tumor - Protein maturation\"        \"Tumor - Skin-pigmentation\"        \n",
       "[15] \"Tumor - Interferon/MHC-II (I)\"     \"Tumor - Stress (in vitro)\"        \n",
       "[17] \"Tumor - Translation initiation\"    \"Tumor - Chromatin\"                "
      ]
     },
     "metadata": {},
     "output_type": "display_data"
    }
   ],
   "source": [
    "unique(mp_annotations)"
   ]
  },
  {
   "cell_type": "code",
   "execution_count": 28,
   "id": "25211735",
   "metadata": {},
   "outputs": [],
   "source": [
    "study0_tumor_cells$mp_trim2 <- unlist(lapply(study0_tumor_cells$mp_trim2, function(x) paste0(\"Tumor - \",x)))"
   ]
  },
  {
   "cell_type": "code",
   "execution_count": 29,
   "id": "96ea17b2",
   "metadata": {
    "scrolled": true
   },
   "outputs": [],
   "source": [
    "#rownames in teh integrated object for the original study has _1 appended \n",
    "modified_rownames <- unlist(lapply(rownames(study0_tumor_cells@meta.data), function(x) paste0(x, '_1')))"
   ]
  },
  {
   "cell_type": "code",
   "execution_count": 32,
   "id": "0e869bf4",
   "metadata": {},
   "outputs": [],
   "source": [
    "objects.integrated@meta.data[rownames(objects.integrated@meta.data) %in% modified_rownames,]$subtyped_cell_type <- study0_tumor_cells$mp_trim2"
   ]
  },
  {
   "cell_type": "code",
   "execution_count": 33,
   "id": "32b1c761",
   "metadata": {},
   "outputs": [],
   "source": [
    "objects.integrated.copy <- objects.integrated"
   ]
  },
  {
   "cell_type": "markdown",
   "id": "aac02a4d",
   "metadata": {},
   "source": [
    "#### add cell type to the subtypes that do not have more levels "
   ]
  },
  {
   "cell_type": "code",
   "execution_count": 34,
   "id": "04a298ed",
   "metadata": {},
   "outputs": [
    {
     "data": {
      "text/html": [
       "<style>\n",
       ".list-inline {list-style: none; margin:0; padding: 0}\n",
       ".list-inline>li {display: inline-block}\n",
       ".list-inline>li:not(:last-child)::after {content: \"\\00b7\"; padding: 0 .5ex}\n",
       "</style>\n",
       "<ol class=list-inline><li>B</li><li>Monocyte/Macrophage</li><li>Endothelial</li><li>cDC</li><li>Fibroblast</li><li>Other T</li><li>pDC</li><li>NK</li><li>CD8 T</li><li>Tumor</li><li>Cycling T</li><li>Keratinocyte</li><li>CD4 T</li><li>Mast</li></ol>\n",
       "\n",
       "<details>\n",
       "\t<summary style=display:list-item;cursor:pointer>\n",
       "\t\t<strong>Levels</strong>:\n",
       "\t</summary>\n",
       "\t<style>\n",
       "\t.list-inline {list-style: none; margin:0; padding: 0}\n",
       "\t.list-inline>li {display: inline-block}\n",
       "\t.list-inline>li:not(:last-child)::after {content: \"\\00b7\"; padding: 0 .5ex}\n",
       "\t</style>\n",
       "\t<ol class=list-inline><li>'Keratinocyte'</li><li>'Fibroblast'</li><li>'Endothelial'</li><li>'Mast'</li><li>'pDC'</li><li>'cDC'</li><li>'Monocyte/Macrophage'</li><li>'B'</li><li>'NK'</li><li>'Cycling T'</li><li>'Other T'</li><li>'CD4 T'</li><li>'CD8 T'</li><li>'Tumor'</li></ol>\n",
       "</details>"
      ],
      "text/latex": [
       "\\begin{enumerate*}\n",
       "\\item B\n",
       "\\item Monocyte/Macrophage\n",
       "\\item Endothelial\n",
       "\\item cDC\n",
       "\\item Fibroblast\n",
       "\\item Other T\n",
       "\\item pDC\n",
       "\\item NK\n",
       "\\item CD8 T\n",
       "\\item Tumor\n",
       "\\item Cycling T\n",
       "\\item Keratinocyte\n",
       "\\item CD4 T\n",
       "\\item Mast\n",
       "\\end{enumerate*}\n",
       "\n",
       "\\emph{Levels}: \\begin{enumerate*}\n",
       "\\item 'Keratinocyte'\n",
       "\\item 'Fibroblast'\n",
       "\\item 'Endothelial'\n",
       "\\item 'Mast'\n",
       "\\item 'pDC'\n",
       "\\item 'cDC'\n",
       "\\item 'Monocyte/Macrophage'\n",
       "\\item 'B'\n",
       "\\item 'NK'\n",
       "\\item 'Cycling T'\n",
       "\\item 'Other T'\n",
       "\\item 'CD4 T'\n",
       "\\item 'CD8 T'\n",
       "\\item 'Tumor'\n",
       "\\end{enumerate*}\n"
      ],
      "text/markdown": [
       "1. B\n",
       "2. Monocyte/Macrophage\n",
       "3. Endothelial\n",
       "4. cDC\n",
       "5. Fibroblast\n",
       "6. Other T\n",
       "7. pDC\n",
       "8. NK\n",
       "9. CD8 T\n",
       "10. Tumor\n",
       "11. Cycling T\n",
       "12. Keratinocyte\n",
       "13. CD4 T\n",
       "14. Mast\n",
       "\n",
       "\n",
       "\n",
       "**Levels**: 1. 'Keratinocyte'\n",
       "2. 'Fibroblast'\n",
       "3. 'Endothelial'\n",
       "4. 'Mast'\n",
       "5. 'pDC'\n",
       "6. 'cDC'\n",
       "7. 'Monocyte/Macrophage'\n",
       "8. 'B'\n",
       "9. 'NK'\n",
       "10. 'Cycling T'\n",
       "11. 'Other T'\n",
       "12. 'CD4 T'\n",
       "13. 'CD8 T'\n",
       "14. 'Tumor'\n",
       "\n",
       "\n"
      ],
      "text/plain": [
       " [1] B                   Monocyte/Macrophage Endothelial        \n",
       " [4] cDC                 Fibroblast          Other T            \n",
       " [7] pDC                 NK                  CD8 T              \n",
       "[10] Tumor               Cycling T           Keratinocyte       \n",
       "[13] CD4 T               Mast               \n",
       "14 Levels: Keratinocyte Fibroblast Endothelial Mast pDC ... Tumor"
      ]
     },
     "metadata": {},
     "output_type": "display_data"
    }
   ],
   "source": [
    "#non subtyped objects\n",
    "unique(objects.integrated$cell_type)\n",
    "\n",
    "for(ct in c('Endothelial', 'pDC', 'NK', 'Cycling T', 'Keratinocyte', 'Mast')){\n",
    "    objects.integrated@meta.data[objects.integrated$cell_type == ct,]$cell_subtype = ct\n",
    "}"
   ]
  },
  {
   "cell_type": "code",
   "execution_count": 189,
   "id": "9cbe927d",
   "metadata": {},
   "outputs": [],
   "source": [
    "objects.integrated@meta.data[is.na(objects.integrated$cell_subtype),]$cell_subtype <- objects.integrated@meta.data[is.na(objects.integrated$cell_subtype),]$cell_type"
   ]
  },
  {
   "cell_type": "code",
   "execution_count": 2,
   "id": "63596523",
   "metadata": {},
   "outputs": [
    {
     "data": {
      "text/plain": [
       "R version 4.2.3 (2023-03-15)\n",
       "Platform: x86_64-conda-linux-gnu (64-bit)\n",
       "Running under: CentOS Linux 7 (Core)\n",
       "\n",
       "Matrix products: default\n",
       "BLAS/LAPACK: /net/bmc-lab5/data/kellis/users/cbw3/conda/envs/r-kernel/lib/libopenblasp-r0.3.21.so\n",
       "\n",
       "locale:\n",
       " [1] LC_CTYPE=en_US.UTF-8       LC_NUMERIC=C              \n",
       " [3] LC_TIME=en_US.UTF-8        LC_COLLATE=en_US.UTF-8    \n",
       " [5] LC_MONETARY=en_US.UTF-8    LC_MESSAGES=en_US.UTF-8   \n",
       " [7] LC_PAPER=en_US.UTF-8       LC_NAME=C                 \n",
       " [9] LC_ADDRESS=C               LC_TELEPHONE=C            \n",
       "[11] LC_MEASUREMENT=en_US.UTF-8 LC_IDENTIFICATION=C       \n",
       "\n",
       "attached base packages:\n",
       "[1] stats     graphics  grDevices utils     datasets  methods   base     \n",
       "\n",
       "other attached packages:\n",
       "[1] SeuratObject_5.0.1 Seurat_4.3.0.1    \n",
       "\n",
       "loaded via a namespace (and not attached):\n",
       "  [1] Rtsne_0.17             colorspace_2.1-0       deldir_2.0-4          \n",
       "  [4] ggridges_0.5.6         IRdisplay_1.1          base64enc_0.1-3       \n",
       "  [7] spatstat.data_3.0-4    leiden_0.4.3.1         listenv_0.9.1         \n",
       " [10] ggrepel_0.9.5          fansi_1.0.6            codetools_0.2-20      \n",
       " [13] splines_4.2.3          polyclip_1.10-4        IRkernel_1.3.2        \n",
       " [16] spam_2.10-0            jsonlite_1.8.8         ica_1.0-3             \n",
       " [19] cluster_2.1.6          png_0.1-8              uwot_0.1.16           \n",
       " [22] shiny_1.8.1.1          sctransform_0.3.5      spatstat.sparse_3.0-3 \n",
       " [25] compiler_4.2.3         httr_1.4.7             Matrix_1.6-5          \n",
       " [28] fastmap_1.1.1          lazyeval_0.2.2         cli_3.6.2             \n",
       " [31] later_1.3.2            htmltools_0.5.8        tools_4.2.3           \n",
       " [34] igraph_2.0.3           dotCall64_1.1-1        gtable_0.3.4          \n",
       " [37] glue_1.7.0             RANN_2.6.1             reshape2_1.4.4        \n",
       " [40] dplyr_1.1.4            Rcpp_1.0.12            scattermore_1.2       \n",
       " [43] vctrs_0.6.5            spatstat.explore_3.2-7 nlme_3.1-164          \n",
       " [46] progressr_0.14.0       lmtest_0.9-40          spatstat.random_3.2-3 \n",
       " [49] stringr_1.5.1          globals_0.16.3         mime_0.12             \n",
       " [52] miniUI_0.1.1.1         lifecycle_1.0.4        irlba_2.3.5.1         \n",
       " [55] goftest_1.2-3          future_1.33.2          MASS_7.3-60.0.1       \n",
       " [58] zoo_1.8-12             scales_1.3.0           promises_1.2.1        \n",
       " [61] spatstat.utils_3.0-4   parallel_4.2.3         RColorBrewer_1.1-3    \n",
       " [64] reticulate_1.35.0      pbapply_1.7-2          gridExtra_2.3         \n",
       " [67] ggplot2_3.5.0          stringi_1.8.3          repr_1.1.7            \n",
       " [70] rlang_1.1.3            pkgconfig_2.0.3        matrixStats_1.2.0     \n",
       " [73] evaluate_0.23          lattice_0.22-6         ROCR_1.0-11           \n",
       " [76] purrr_1.0.2            tensor_1.5             patchwork_1.2.0       \n",
       " [79] htmlwidgets_1.6.4      cowplot_1.1.3          tidyselect_1.2.1      \n",
       " [82] parallelly_1.37.1      RcppAnnoy_0.0.20       plyr_1.8.9            \n",
       " [85] magrittr_2.0.3         R6_2.5.1               generics_0.1.3        \n",
       " [88] pbdZMQ_0.3-11          pillar_1.9.0           fitdistrplus_1.1-11   \n",
       " [91] survival_3.5-8         abind_1.4-5            sp_2.1-3              \n",
       " [94] tibble_3.2.1           future.apply_1.11.2    crayon_1.5.2          \n",
       " [97] uuid_1.2-0             KernSmooth_2.23-22     utf8_1.2.4            \n",
       "[100] spatstat.geom_3.2-9    plotly_4.10.4          grid_4.2.3            \n",
       "[103] data.table_1.15.4      digest_0.6.35          xtable_1.8-4          \n",
       "[106] tidyr_1.3.1            httpuv_1.6.11          munsell_0.5.1         \n",
       "[109] viridisLite_0.4.2     "
      ]
     },
     "metadata": {},
     "output_type": "display_data"
    }
   ],
   "source": [
    "sessionInfo()"
   ]
  },
  {
   "cell_type": "code",
   "execution_count": null,
   "id": "f0187d21",
   "metadata": {},
   "outputs": [],
   "source": []
  }
 ],
 "metadata": {
  "kernelspec": {
   "display_name": "r-kernel",
   "language": "R",
   "name": "r-kernel"
  },
  "language_info": {
   "codemirror_mode": "r",
   "file_extension": ".r",
   "mimetype": "text/x-r-source",
   "name": "R",
   "pygments_lexer": "r",
   "version": "4.2.3"
  }
 },
 "nbformat": 4,
 "nbformat_minor": 5
}
