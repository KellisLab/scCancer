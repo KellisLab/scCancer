{
 "cells": [
  {
   "cell_type": "markdown",
   "id": "d82b6e13",
   "metadata": {},
   "source": [
    "# mDC proportion analysis: Differential gene expression by NEBULA \n",
    "Use notebook in conjunction with R files provided for each step of the analysis\n",
    "Initial steps to generate Figure 6 B-C, Extended Figure A-C (in another notebook)\n",
    "\n",
    "- Author: CW\n",
    "- File input: 1_RNA_all.rds\n",
    "- Output files: mDC_proportion_analysis/1_NEBULA_celltype_objs, 1_NEBULA_subtype_objs, 2_NEBULA2_celltype_res, 2_NEBULA_subtype_res, 3_NEBULA2_celltype_summaries, 3_NEBULA_subtype_summaries\n",
    "- Last updated: 04/13/24"
   ]
  },
  {
   "cell_type": "code",
   "execution_count": 7,
   "id": "d56e071a",
   "metadata": {
    "scrolled": true
   },
   "outputs": [
    {
     "name": "stderr",
     "output_type": "stream",
     "text": [
      "Warning message:\n",
      "“package ‘dplyr’ was built under R version 4.3.2”\n",
      "\n",
      "Attaching package: ‘dplyr’\n",
      "\n",
      "\n",
      "The following objects are masked from ‘package:stats’:\n",
      "\n",
      "    filter, lag\n",
      "\n",
      "\n",
      "The following objects are masked from ‘package:base’:\n",
      "\n",
      "    intersect, setdiff, setequal, union\n",
      "\n",
      "\n",
      "\n",
      "Attaching package: ‘Matrix’\n",
      "\n",
      "\n",
      "The following objects are masked from ‘package:tidyr’:\n",
      "\n",
      "    expand, pack, unpack\n",
      "\n",
      "\n"
     ]
    }
   ],
   "source": [
    "library('dplyr')\n",
    "library('tidyr')\n",
    "library('ggplot2')\n",
    "library('Matrix')\n",
    "library(tibble)\n",
    "library(ggpubr)"
   ]
  },
  {
   "cell_type": "code",
   "execution_count": null,
   "id": "4290e7e8",
   "metadata": {},
   "outputs": [],
   "source": [
    "library(nebula)"
   ]
  },
  {
   "cell_type": "markdown",
   "id": "5f91326d",
   "metadata": {},
   "source": [
    "# 1. create NEBULA objects\n",
    "see \"1_create_NEBULA_objects.R\" and \"1_create_NEBULA_objects.sh\" to run in parallel"
   ]
  },
  {
   "cell_type": "markdown",
   "id": "cf228e94",
   "metadata": {},
   "source": [
    "#### FUNCTION"
   ]
  },
  {
   "cell_type": "code",
   "execution_count": 1,
   "id": "523053e7",
   "metadata": {},
   "outputs": [],
   "source": [
    "create_NEBULA_object <- function(obj, cell_type, path_to_save) {\n",
    "    \n",
    "    #if path to save is not a path yet, make a directory\n",
    "    if (!dir.exists(path_to_save)){\n",
    "        dir.create(path_to_save)\n",
    "    } \n",
    "    else {\n",
    "        print(\"Dir already exists!\")\n",
    "    }\n",
    "    \n",
    "    #obj = seurat object with correct metadata\n",
    "\n",
    "    if(cell_type == 'celltype'){\n",
    "        ct_list <- unique(obj@meta.data$cell_type)\n",
    "    }\n",
    "    \n",
    "    if(cell_type == 'subtype'){\n",
    "        ct_list <- unique(obj@meta.data$cell_subtype)\n",
    "        \n",
    "    }\n",
    "\n",
    "    for (ct in ct_list) {\n",
    "    \tprint(ct)\n",
    "        nebula_df <- vector(mode = \"list\")\n",
    "\n",
    "        #subset cluster by cell type \n",
    "\n",
    "        if(cell_type == 'celltype') {\n",
    "            cluster <- subset(obj, subset = (cell_type == ct))\n",
    "        }\n",
    "\n",
    "        if(cell_type == 'subtype') {\n",
    "          {\n",
    "            \tcluster <- subset(obj, subset = (cell_subtype == ct))\n",
    "        \t}\n",
    "        }\n",
    "    \n",
    "        #head(cluster@meta.data)\n",
    "\n",
    "        #calculate offset - using nFeature_RNA\n",
    "        nebula_df$offset <-  cluster@meta.data$nCount_RNA\n",
    "\n",
    "        nebula_df$patient_sample <- cluster@meta.data$patient_sample\n",
    "\n",
    "        #extract raw count matrix \n",
    "        DefaultAssay(cluster) <- 'RNA'\n",
    "        count_mtx <- GetAssayData(object = cluster, slot = \"counts\")\n",
    "\n",
    "        nebula_df$count <- count_mtx\n",
    "\n",
    "        #design matrix for cluster \n",
    "        nebula_df$pred <- cluster@meta.data[c(\"age\", \"sex\", \"sample_ID_long\",\n",
    "                    \"tissue\",\"treatment_group\",\"state\", \"subtype\", \"percent_mt\",\n",
    "                    \"percent_ribo\", \"BRAF\", \"NRAS\", \"is_mDC_high\")]\n",
    "\n",
    "        #df = model.matrix(~mDC_low_vs_high, data = obj$pred)\n",
    "\n",
    "        #save object \n",
    "\n",
    "        #if any backslashes in the cell type name, replace with underscore\n",
    "        new_ct <- gsub(\"/\", \"_\", ct)\n",
    "        new_ct <- gsub(\" \", \"_\", new_ct)\n",
    "        new_ct <- gsub(\"-\", \"_\", new_ct)\n",
    "        full_path <- paste0(path_to_save, new_ct, '.rds')\n",
    "\n",
    "        #print(full_path)\n",
    "        saveRDS(nebula_df, full_path)\n",
    "    \n",
    "    }\n",
    "\n",
    "}"
   ]
  },
  {
   "cell_type": "markdown",
   "id": "73bfa397",
   "metadata": {},
   "source": [
    "#### create NEBULA objects by celltypes and subtypes with all samples "
   ]
  },
  {
   "cell_type": "code",
   "execution_count": null,
   "id": "8f50d6e5",
   "metadata": {},
   "outputs": [],
   "source": [
    "obj <- readRDS('/path_to_file/1_RNA_all.rds')\n",
    "\n",
    "#create NEBULA object to run later \n",
    "#1. ALL samples \n",
    "#reannotated\n",
    "create_NEBULA_object(obj, 'celltype', path_to_save = './mDC_proportion_analysis/1_NEBULA_celltype_objs/')\n",
    "\n",
    "#subtyped on all samples \n",
    "create_NEBULA_object(obj, 'subtyped', './mDC_proportion_analysis/1_NEBULA_subtype_objs/')"
   ]
  },
  {
   "cell_type": "markdown",
   "id": "63771e9a",
   "metadata": {},
   "source": [
    "## 2. Run NEBULA\n",
    "see \"2_run_NEBULA.R\" and \"2_run_NEBULA2_celltypes.sh, 2_run_NEBULA_subtypes.sh\" to run in parallel"
   ]
  },
  {
   "cell_type": "code",
   "execution_count": 8,
   "id": "a244c42e",
   "metadata": {},
   "outputs": [],
   "source": [
    "library(stringr)\n",
    "library(nebula3)"
   ]
  },
  {
   "cell_type": "markdown",
   "id": "2ebf035f",
   "metadata": {},
   "source": [
    "- in_file = one object from 1_NEBULA_celltype_objs or 1_NEBULA_subtype_objs\n",
    "- out_file = path to where immediate NEBULA results are stored \n",
    "\n",
    "- part = 'two' for celltypes: new version of NEBULA (NEBULA2) \n",
    "- part = 'one' for subtpyes: first version of NEBULA (NEBULA1)"
   ]
  },
  {
   "cell_type": "code",
   "execution_count": null,
   "id": "f1aba401",
   "metadata": {},
   "outputs": [],
   "source": [
    "#time \n",
    "start_time <- Sys.time()\n",
    "\n",
    "df <- readRDS(in_file)\n",
    "\n",
    "#####PRE-PROCESSING STEPS: Filter, select covariates, make design matrix####### \n",
    "\n",
    "#1. change response of patient 479_1\n",
    "if('479_1' %in% unique(df$patient_sample)) {\n",
    "  df$pred[df$patient_sample == '479_1',]$response_short = 'R'\n",
    "}\n",
    "\n",
    "#2. subset out patient 1122_1\n",
    "index = which(df$patient_sample !='1122_1')\n",
    "\n",
    "#Processing steps: \n",
    "#make all variables excluding that patient\n",
    "count = df$count[,index] #number of counts by cell \n",
    "id = df$patient_sample[index]\n",
    "offset = df$offset[index]\n",
    "\n",
    "#select predictor variable for mDC proportion analysis \n",
    "pred = df$pred[index,c('is_mDC_high','age','sex', 'percent_mt','percent_ribo',\n",
    "                        'tissue', 'state', 'treatment_group')]\n",
    "\n",
    "#format the covariates before encoding into the design matrix \n",
    "#for with ICI samples - with ICI, ICI only, antiPD1\n",
    "pred$treatment_group_new <- \"other\"\n",
    "if(dim(pred[pred$treatment_group %in% c('ICI_PD1','ICI_combo', 'targeted_plus_ICI', \n",
    "                                        'other_plus_ICI'),])[1] > 0){\n",
    "  pred[pred$treatment_group %in% c('ICI_PD1','ICI_combo', 'targeted_plus_ICI', \n",
    "                                   'other_plus_ICI'),]$treatment_group_new <-  \"with_ICI\"\n",
    "}\n",
    "if(dim(pred[pred$treatment_group %in% c('ICI_PD1','ICI_combo'),])[1] > 0){\n",
    "  pred[pred$treatment_group %in% c('ICI_PD1','ICI_combo'),]$treatment_group_new <-\"ICI_only\"\n",
    "}\n",
    "if('ICI_PD1' %in% pred$treatment_group) {\n",
    "  pred[pred$treatment_group == 'ICI_PD1',]$treatment_group_new <- \"ICI_PD1\"\n",
    "}\n",
    "pred$treatment_group <- pred$treatment_group_new\n",
    "pred$treatment_group_new <- NULL\n",
    "\n",
    "#all celltypes and groups, make tissue three categories \n",
    "if('skin' %in% pred$tissue) {\n",
    "  pred[pred$tissue == 'skin',]$tissue <- 'skin'\n",
    "}\n",
    "if('lymph' %in% pred$tissue) {\n",
    "  pred[pred$tissue == 'lymph', ]$tissue <- 'lymph'\n",
    "}\n",
    "if(length(pred[!pred$tissue %in% c('skin','lymph'),]$tissue > 0)){\n",
    "  pred[!pred$tissue %in% c('skin', 'lymph') , ]$tissue <- 'other' \n",
    "}\n",
    "\n",
    "### check for apparent collinearity: check for every column that there are two or more levels \n",
    "for(col in colnames(pred)) {\n",
    "  if(dim(unique(pred[col]))[1] == 1) {\n",
    "    pred[col] <- NULL\n",
    "  }\n",
    "}\n",
    "#remove columns that lead to collinearity (correlation of 1 with another column) - skip \n",
    "\n",
    "#Prediction columns \n",
    "print(paste0('prediction columns ', colnames(pred)))\n",
    "\n",
    "#####MAKE DESIGN MATRIX#####\n",
    "pred_design_matrix = model.matrix(~.,pred)\n",
    "\n",
    "#####RUN NEBULA1 for subtypes and save results#####\n",
    "if(part == 'one') {\n",
    "  re = nebula(count,id,offset=offset,pred=pred_design_matrix,ncore=4, \n",
    "    separation = 'normal')\n",
    "\n",
    "  #save results from nebula part 1\n",
    "  sep_in_file = strsplit(in_file, split = \"/\")\n",
    "  celltype = tail(sep_in_file[[1]], 1)\n",
    "\n",
    "  #save this result with the regularization\n",
    "  if(!dir.exists(paste0('./mDC_proportion_analysis/2_NEBULA_subtype_res/'))) {\n",
    "    dir.create(paste0('./mDC_proportion_analysis/2_NEBULA_subtype_res/'), recursive = TRUE) \n",
    "  }\n",
    "\n",
    "  saveRDS(re, paste0('./mDC_proportion_analysis/2_NEBULA_subtype_res/', celltype))\n",
    "    \n",
    "  end_time <- Sys.time()\n",
    "  print(paste0(\"Time to run nebula1: \", end_time - start_time))\n",
    "\n",
    "} else { \n",
    "##### RUN NEBULA2 - no regularization on nebula1 - on celltypes and save results #####\n",
    "  re = nebula(count,id,offset=offset,pred=pred_design_matrix,ncore=4)\n",
    "  #topdeg = 1:nrow(re$summary)\n",
    "  #Changes with NEBULA 1.0.9\n",
    "  topdeg = which(re$overdispersion[,2]>0.001)\n",
    "\n",
    "  #scale number of cores to use with the number of cells \n",
    "  num_cores = 2\n",
    "  if(length(index) > 40000) {\n",
    "    num_cores = 6\n",
    "  }\n",
    "\n",
    "  re2 = nebula_mi(nebula=re, index=2, nmc=300, gimp=topdeg,count=count,id=id,offset=offset,pred=pred_design_matrix,ncore=num_cores)\n",
    "\n",
    "  #save results from nebula part 2\n",
    "  #did this separately \n",
    "  if(!dir.exists(paste0('./mDC_proportion_analysis/2_NEBULA2_celltype_res/'))) {\n",
    "    dir.create(paste0('./mDC_proportion_analysis/2_NEBULA2_celltype_res/'), recursive = TRUE)\n",
    "  }\n",
    "    \n",
    "  sep_in_file = strsplit(in_file, split = \"/\")\n",
    "  celltype = tail(sep_in_file[[1]], 1)\n",
    "    \n",
    "  saveRDS(re2,paste0('./mDC_proportion_analysis/2_NEBULA2_celltype_res/', celltype))\n",
    "  end_time <- Sys.time()\n",
    "\n",
    "  print(paste0(\"Time to run nebula2: \", end_time - start_time))\n",
    "\n",
    "  end_time <- Sys.time()"
   ]
  },
  {
   "cell_type": "code",
   "execution_count": 3,
   "id": "94dda108",
   "metadata": {},
   "outputs": [],
   "source": [
    "### used job scripts to run via SLURM, 2_run_NEBULA2_celltypes.sh and 2_run_NEBULA_subtypes.sh"
   ]
  },
  {
   "cell_type": "markdown",
   "id": "aa948e47",
   "metadata": {},
   "source": [
    "## 3. Summarize NEBULA results  - done here\n"
   ]
  },
  {
   "cell_type": "code",
   "execution_count": 1,
   "id": "6b90212e",
   "metadata": {},
   "outputs": [
    {
     "name": "stderr",
     "output_type": "stream",
     "text": [
      "Warning message:\n",
      "“package ‘dplyr’ was built under R version 4.3.2”\n",
      "\n",
      "Attaching package: ‘dplyr’\n",
      "\n",
      "\n",
      "The following objects are masked from ‘package:stats’:\n",
      "\n",
      "    filter, lag\n",
      "\n",
      "\n",
      "The following objects are masked from ‘package:base’:\n",
      "\n",
      "    intersect, setdiff, setequal, union\n",
      "\n",
      "\n"
     ]
    }
   ],
   "source": [
    "library(dplyr)"
   ]
  },
  {
   "cell_type": "markdown",
   "id": "54c45d78",
   "metadata": {},
   "source": [
    "### A. For NEBULA1 results - subtypes"
   ]
  },
  {
   "cell_type": "code",
   "execution_count": 4,
   "id": "70bbcb65",
   "metadata": {},
   "outputs": [],
   "source": [
    "summarize_NEBULA_res_1 <- function(path_to_NEBULA_analysis, folder ) { \n",
    "    #path_to_NEBULA_res <-'/home/cbw3/data/differential_gene_expression/mDC_analysis_109/' #NEBULA_reannotated_w_ICI_res/part1/'\n",
    "    #print(path_to_NEBULA_res)\n",
    "    \n",
    "    for(f in list.files(paste0(path_to_NEBULA_analysis, folder))) {\n",
    "        celltype <- strsplit(f, '[.]')[[1]][1]\n",
    "        if(!file.exists(paste0(path_to_NEBULA_analysis, folder, '/', celltype, '.csv'))) {\n",
    "            #print(file)\n",
    "            res <- readRDS(paste0(path_to_NEBULA_analysis, folder, '/', celltype, '.csv'))\n",
    "        \n",
    "            if(dim(res$summary)[1] > 0 & 'p_is_mDC_high1' %in% colnames(res$summary)) {\n",
    "\n",
    "                #make a new column with adjusted p values (with FDR)\n",
    "                res$summary$pval_adj <- p.adjust(res$summary$p_is_mDC_high1, 'fdr')\n",
    "                volcano_df <- res$summary %>% arrange(desc(logFC_is_mDC_high1))\n",
    "\n",
    "                #change the column names to generic names for easier plotting \n",
    "                colnames(volcano_df)[colnames(volcano_df) == 'gene'] <- 'gene_symbol'\n",
    "                colnames(volcano_df)[colnames(volcano_df) == 'logFC_is_mDC_high1'] <- 'logfc'\n",
    "                colnames(volcano_df)[colnames(volcano_df) == 'p_is_mDC_high1'] <- 'pvalue'\n",
    "\n",
    "                #print(colnames(volcano_df))\n",
    "\n",
    "                volcano_df$diffexpressed = 'NO'\n",
    "\n",
    "                #make arbitrary cutoffs for now \n",
    "                lf_cutoff = 0\n",
    "                pval_cutoff = 0.05\n",
    "\n",
    "                volcano_df$diffexpressed[volcano_df$logfc > lf_cutoff & volcano_df$pval_adj < pval_cutoff] <- 'UP'\n",
    "                volcano_df$diffexpressed[volcano_df$logfc < -lf_cutoff & volcano_df$pval_adj < pval_cutoff] <- 'DOWN'\n",
    "\n",
    "                volcano_df$pval_adj <- volcano_df$pval_adj + 1e-319\n",
    "                #save volcano dfs as well\n",
    "\n",
    "                #overwrite results with the new columns added \n",
    "                if(!dir.exists(paste0(path_to_NEBULA_analysis, '3_NEBULA_subtype_summaries'))) {\n",
    "                    dir.create(paste0(path_to_NEBULA_analysis, '3_NEBULA_subtype_summaries'), recursive = TRUE)\n",
    "                }\n",
    "\n",
    "                write.csv(volcano_df, paste0(path_to_NEBULA_analysis, '3_NEBULA_subtype_summaries/', celltype, '.csv'))\n",
    "                }\n",
    "            }\n",
    "        \n",
    "        }\n",
    "        \n",
    "    }"
   ]
  },
  {
   "cell_type": "markdown",
   "id": "a3f504b1",
   "metadata": {},
   "source": [
    "- output: 3_NEBULA_subtype_summaries/"
   ]
  },
  {
   "cell_type": "code",
   "execution_count": null,
   "id": "4c174456",
   "metadata": {},
   "outputs": [],
   "source": [
    "path_to_NEBULA_analysis <- '/path_to_folder/mDC_proportion_analysis/'\n",
    "\n",
    "#change folder \n",
    "folder <- '2_NEBULA_subtype_res'\n",
    "summarize_NEBULA_res_1(path_to_NEBULA_analysis, folder)"
   ]
  },
  {
   "cell_type": "markdown",
   "id": "c734b6f5",
   "metadata": {},
   "source": [
    "### B. For NEBULA2 results - celltypes"
   ]
  },
  {
   "cell_type": "code",
   "execution_count": 5,
   "id": "2af6a4ed",
   "metadata": {},
   "outputs": [],
   "source": [
    "summarize_NEBULA_res_2 <- function(path_to_NEBULA_analysis, folder ) { \n",
    "    \n",
    "    for(f in list.files(paste0(path_to_NEBULA_analysis, folder))) {\n",
    "        celltype <- strsplit(f, '[.]')[[1]][1]\n",
    "        if(!file.exists(paste0(path_to_NEBULA_analysis, folder, '/', celltype, '.csv'))) {\n",
    "            print(f)\n",
    "            res <- readRDS(paste0(path_to_NEBULA_analysis, folder, '/', celltype, '.csv'))\n",
    "            #print(f)\n",
    "            if(dim(res$summary)[1] > 0) {\n",
    "\n",
    "                #make a new column with adjusted p values (with FDR)\n",
    "                res$summary$pval_adj <- p.adjust(res$summary$pvalue, 'fdr')\n",
    "                volcano_df <- res$summary %>% arrange(desc(logfc))\n",
    "\n",
    "                #change the column names to generic names for easier plotting \n",
    "                colnames(volcano_df)[colnames(volcano_df) == 'gene.gene'] <- 'gene_symbol'\n",
    "\n",
    "                volcano_df$diffexpressed = 'NO'\n",
    "\n",
    "                #make arbitrary cutoffs for now \n",
    "                lf_cutoff = 0\n",
    "                pval_cutoff = 0.05\n",
    "\n",
    "                volcano_df$diffexpressed[volcano_df$logfc > lf_cutoff & volcano_df$pval_adj < pval_cutoff] <- 'UP'\n",
    "                volcano_df$diffexpressed[volcano_df$logfc < -lf_cutoff & volcano_df$pval_adj < pval_cutoff] <- 'DOWN'\n",
    "\n",
    "                volcano_df$pval_adj <- volcano_df$pval_adj + 1e-319\n",
    "                #save volcano dfs as well\n",
    "\n",
    "                #overwrite results with the new columns added \n",
    "                if(!dir.exists(paste0(path_to_NEBULA_analysis, '3_NEBULA2_celltype_summaries'))) {\n",
    "                    dir.create(paste0(path_to_NEBULA_analysis, '3_NEBULA2_celltype_summaries'), recursive = TRUE)\n",
    "                }\n",
    "\n",
    "                write.csv(volcano_df, paste0(path_to_NEBULA_analysis, '3_NEBULA2_celltype_summaries', celltype, '.csv'))\n",
    "                } \n",
    "            }    \n",
    "        }   \n",
    "    }"
   ]
  },
  {
   "cell_type": "markdown",
   "id": "3e7126c8",
   "metadata": {},
   "source": [
    "- output: 3_NEBULA2_celltype_summaries/"
   ]
  },
  {
   "cell_type": "code",
   "execution_count": 7,
   "id": "f383af74",
   "metadata": {},
   "outputs": [
    {
     "data": {
      "text/html": [
       "'Tumor.rds'"
      ],
      "text/latex": [
       "'Tumor.rds'"
      ],
      "text/markdown": [
       "'Tumor.rds'"
      ],
      "text/plain": [
       "[1] \"Tumor.rds\""
      ]
     },
     "metadata": {},
     "output_type": "display_data"
    }
   ],
   "source": [
    "path_to_NEBULA_analysis <- '/path_to_folder/mDC_proportion_analysis/'\n",
    "\n",
    "#change folder \n",
    "folder <- '2_NEBULA_celltype_res'\n",
    "summarize_NEBULA_res_2(path_to_NEBULA_analysis, folder)"
   ]
  },
  {
   "cell_type": "markdown",
   "id": "518f3da4",
   "metadata": {},
   "source": [
    "NEBULA subtypes: that do not work at all \n",
    "if part 1 does not work or has collinearity, then part 2 won't work \n",
    "\n",
    "all: \n",
    " - mDC part 1: Tumor MYC, Tumor EMT III\n",
    " - mDC part 2: Memory_B.rds, Tumor___EMT_III.rds, Tumor___Hypoxia.rds, Tumor___MYC.rds, Tumor___NA.rds, Tumor___Secreted_I.rds, Tumor___Skin_pigmentation.rds, Tumor___Stress_(in_vitro).rds, Tumor___Translation_initiation.rds, Tumor___Unassigned.rds\n",
    " - response part 1: 'Memory_B.rds','Tumor___EMT_III.rds','Tumor___MYC.rds'\n",
    " - reponse part 2: 'Memory_B.rds', 'Tumor___EMT_III.rds', 'Tumor___Hypoxia.rds', 'Tumor___MYC.rds', 'Tumor___NA.rds''Tumor___Secreted_I.rds''Tumor___Skin_pigmentation.rds''Tumor___Stress_(in_vitro).rds''Tumor___Translation_initiation.rds'\n",
    " \n",
    "## RERUN\n",
    "- for ALL, part 2, try Tumor___NA again for mDC (8623967), Nebula 2"
   ]
  },
  {
   "cell_type": "markdown",
   "id": "a8803964",
   "metadata": {},
   "source": [
    "#mDC analysis: NEBULA subtype res - Part 1\n",
    "- Tumor___EMT_III.rds all cells are from mDC low, \"invalid 'type' (complex) of argument\"\n",
    "- Tumor___MYC.rds are cells from mDC low, \"invalid 'type' (complex) of argument\" \n",
    "- Tumor___Hypoxia.rds for NEBULA2, \"invalid 'type' (complex) of argument\" \n",
    "- Tumor___Stress_(in_vitro).rds has collinearity problem when all treatment groups\n",
    "- Tumor__Secreted_I.rds all samples are targeted_plus_ICI  \n"
   ]
  },
  {
   "cell_type": "code",
   "execution_count": 9,
   "id": "7052038a",
   "metadata": {},
   "outputs": [
    {
     "data": {
      "text/plain": [
       "R version 4.3.1 (2023-06-16)\n",
       "Platform: x86_64-conda-linux-gnu (64-bit)\n",
       "Running under: CentOS Linux 7 (Core)\n",
       "\n",
       "Matrix products: default\n",
       "BLAS/LAPACK: /net/bmc-lab5/data/kellis/users/cbw3/conda/envs/new_r/lib/libopenblasp-r0.3.24.so;  LAPACK version 3.11.0\n",
       "\n",
       "locale:\n",
       " [1] LC_CTYPE=en_US.UTF-8       LC_NUMERIC=C              \n",
       " [3] LC_TIME=en_US.UTF-8        LC_COLLATE=en_US.UTF-8    \n",
       " [5] LC_MONETARY=en_US.UTF-8    LC_MESSAGES=en_US.UTF-8   \n",
       " [7] LC_PAPER=en_US.UTF-8       LC_NAME=C                 \n",
       " [9] LC_ADDRESS=C               LC_TELEPHONE=C            \n",
       "[11] LC_MEASUREMENT=en_US.UTF-8 LC_IDENTIFICATION=C       \n",
       "\n",
       "time zone: America/New_York\n",
       "tzcode source: system (glibc)\n",
       "\n",
       "attached base packages:\n",
       "[1] stats     graphics  grDevices utils     datasets  methods   base     \n",
       "\n",
       "other attached packages:\n",
       "[1] nebula3_1.0.9  stringr_1.5.0  ggpubr_0.6.0   tibble_3.2.1   Matrix_1.6-1.1\n",
       "[6] ggplot2_3.4.4  tidyr_1.3.0    dplyr_1.1.4   \n",
       "\n",
       "loaded via a namespace (and not attached):\n",
       " [1] gtable_0.3.4        rstatix_0.7.2       lattice_0.21-9     \n",
       " [4] vctrs_0.6.5         tools_4.3.1         generics_0.1.3     \n",
       " [7] parallel_4.3.1      fansi_1.0.4         pkgconfig_2.0.3    \n",
       "[10] rngtools_1.5.2      uuid_1.1-1          lifecycle_1.0.3    \n",
       "[13] doFuture_1.0.0      compiler_4.3.1      munsell_0.5.0      \n",
       "[16] repr_1.1.6          codetools_0.2-19    carData_3.0-5      \n",
       "[19] htmltools_0.5.6     pillar_1.9.0        car_3.1-2          \n",
       "[22] nloptr_2.0.3        crayon_1.5.2        MASS_7.3-60        \n",
       "[25] doRNG_1.8.6         iterators_1.0.14    trust_0.1-8        \n",
       "[28] boot_1.3-28.1       abind_1.4-5         foreach_1.5.2      \n",
       "[31] nlme_3.1-163        parallelly_1.36.0   tidyselect_1.2.0   \n",
       "[34] digest_0.6.33       stringi_1.7.12      future_1.33.0      \n",
       "[37] purrr_1.0.2         listenv_0.9.0       splines_4.3.1      \n",
       "[40] fastmap_1.1.1       grid_4.3.1          colorspace_2.1-0   \n",
       "[43] cli_3.6.1           magrittr_2.0.3      base64enc_0.1-3    \n",
       "[46] Rfast_2.0.8         utf8_1.2.3          IRdisplay_1.1      \n",
       "[49] broom_1.0.5         future.apply_1.11.0 withr_2.5.1        \n",
       "[52] scales_1.2.1        backports_1.4.1     IRkernel_1.3.2     \n",
       "[55] RcppZiggurat_0.1.6  globals_0.16.2      lme4_1.1-34        \n",
       "[58] pbdZMQ_0.3-10       ggsignif_0.6.4      evaluate_0.22      \n",
       "[61] rlang_1.1.1         Rcpp_1.0.11         glue_1.6.2         \n",
       "[64] minqa_1.2.6         jsonlite_1.8.7      R6_2.5.1           "
      ]
     },
     "metadata": {},
     "output_type": "display_data"
    }
   ],
   "source": [
    "sessionInfo()"
   ]
  },
  {
   "cell_type": "code",
   "execution_count": null,
   "id": "3699c9fe",
   "metadata": {},
   "outputs": [],
   "source": []
  }
 ],
 "metadata": {
  "kernelspec": {
   "display_name": "new_r",
   "language": "R",
   "name": "new_r"
  },
  "language_info": {
   "codemirror_mode": "r",
   "file_extension": ".r",
   "mimetype": "text/x-r-source",
   "name": "R",
   "pygments_lexer": "r",
   "version": "4.3.1"
  }
 },
 "nbformat": 4,
 "nbformat_minor": 5
}
