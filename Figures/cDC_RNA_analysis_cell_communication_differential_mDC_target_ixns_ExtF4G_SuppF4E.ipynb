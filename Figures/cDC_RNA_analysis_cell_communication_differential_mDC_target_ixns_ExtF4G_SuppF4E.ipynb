{
 "cells": [
  {
   "cell_type": "markdown",
   "id": "f06d864d",
   "metadata": {},
   "source": [
    "### Cell-cell communication analysis to find differentially expressed or exclusive interactions found between mregDC and cDC subtypes; cDC subtypes as target (receptor on cDC)\n",
    "Figure 4G, Supp Figure 4D\n",
    "Updated 02/06/23\n",
    "\n",
    "- Author: CW\n",
    "- files needed: cell_communication_analysis/cpdb_subtype/2_significant_interactions_subtyped/all_samples_subtypedall.tsv, clinical_var_analysis/celltype_mapping.csv\n",
    "- folder output: ccc_mDC_diffexp_analysis_results/cDC_target and target_plots\n",
    "- Last updated: 04/11/24"
   ]
  },
  {
   "cell_type": "code",
   "execution_count": 1,
   "id": "turkish-houston",
   "metadata": {},
   "outputs": [
    {
     "name": "stderr",
     "output_type": "stream",
     "text": [
      "\n",
      "Attaching package: ‘dplyr’\n",
      "\n",
      "\n",
      "The following objects are masked from ‘package:stats’:\n",
      "\n",
      "    filter, lag\n",
      "\n",
      "\n",
      "The following objects are masked from ‘package:base’:\n",
      "\n",
      "    intersect, setdiff, setequal, union\n",
      "\n",
      "\n",
      "\n",
      "Attaching package: ‘Matrix’\n",
      "\n",
      "\n",
      "The following objects are masked from ‘package:tidyr’:\n",
      "\n",
      "    expand, pack, unpack\n",
      "\n",
      "\n"
     ]
    }
   ],
   "source": [
    "#library('Seurat')\n",
    "library('dplyr')\n",
    "library('tidyr')\n",
    "library('ggplot2')\n",
    "library('Matrix')\n",
    "library(patchwork)"
   ]
  },
  {
   "cell_type": "markdown",
   "id": "1e3c9c70",
   "metadata": {},
   "source": [
    "## 0. Load files"
   ]
  },
  {
   "cell_type": "markdown",
   "id": "1b9129a0",
   "metadata": {},
   "source": [
    "### a. subtype-level interactions "
   ]
  },
  {
   "cell_type": "code",
   "execution_count": 4,
   "id": "92612c6c",
   "metadata": {},
   "outputs": [],
   "source": [
    "all_interactions_df <- read.csv('/path_to_file/cpdb_subtyped/2_significant_interactions_subtyped/all_samples_subtypedall.tsv', \n",
    "                            sep = '\\t', row.names = 'X')"
   ]
  },
  {
   "cell_type": "code",
   "execution_count": 5,
   "id": "45ebf532",
   "metadata": {},
   "outputs": [
    {
     "data": {
      "text/html": [
       "<table class=\"dataframe\">\n",
       "<caption>A data.frame: 6 × 11</caption>\n",
       "<thead>\n",
       "\t<tr><th></th><th scope=col>interacting_pair</th><th scope=col>partner_a</th><th scope=col>partner_b</th><th scope=col>gene_a</th><th scope=col>gene_b</th><th scope=col>receptor_a</th><th scope=col>receptor_b</th><th scope=col>secreted</th><th scope=col>interacting_cells</th><th scope=col>significant_mean</th><th scope=col>sample</th></tr>\n",
       "\t<tr><th></th><th scope=col>&lt;chr&gt;</th><th scope=col>&lt;chr&gt;</th><th scope=col>&lt;chr&gt;</th><th scope=col>&lt;chr&gt;</th><th scope=col>&lt;chr&gt;</th><th scope=col>&lt;chr&gt;</th><th scope=col>&lt;chr&gt;</th><th scope=col>&lt;chr&gt;</th><th scope=col>&lt;chr&gt;</th><th scope=col>&lt;dbl&gt;</th><th scope=col>&lt;chr&gt;</th></tr>\n",
       "</thead>\n",
       "<tbody>\n",
       "\t<tr><th scope=row>0</th><td>CD70_CD27                   </td><td>simple:P32970</td><td>simple:P26842                </td><td>CD70  </td><td>CD27    </td><td>False</td><td>True </td><td>True </td><td>Cycling T|Cycling T</td><td>0.742</td><td>D18-11807</td></tr>\n",
       "\t<tr><th scope=row>1</th><td>LCK_CD8_receptor            </td><td>simple:P06239</td><td>complex:CD8_receptor         </td><td>LCK   </td><td>        </td><td>False</td><td>True </td><td>False</td><td>Cycling T|Cycling T</td><td>0.947</td><td>D18-11807</td></tr>\n",
       "\t<tr><th scope=row>2</th><td>CRTAM_CADM1                 </td><td>simple:O95727</td><td>simple:Q9BY67                </td><td>CRTAM </td><td>CADM1   </td><td>False</td><td>False</td><td>False</td><td>Cycling T|Cycling T</td><td>0.223</td><td>D18-11807</td></tr>\n",
       "\t<tr><th scope=row>3</th><td>LTA_TNFRSF1B                </td><td>simple:P01374</td><td>simple:P20333                </td><td>LTA   </td><td>TNFRSF1B</td><td>False</td><td>True </td><td>True </td><td>Cycling T|Cycling T</td><td>0.730</td><td>D18-11807</td></tr>\n",
       "\t<tr><th scope=row>4</th><td>CCL5_CCR5                   </td><td>simple:P13501</td><td>simple:P51681                </td><td>CCL5  </td><td>CCR5    </td><td>False</td><td>True </td><td>True </td><td>Cycling T|Cycling T</td><td>0.857</td><td>D18-11807</td></tr>\n",
       "\t<tr><th scope=row>5</th><td>CD40LG_integrin_a5b1_complex</td><td>simple:P29965</td><td>complex:integrin_a5b1_complex</td><td>CD40LG</td><td>        </td><td>False</td><td>False</td><td>True </td><td>Cycling T|Cycling T</td><td>0.527</td><td>D18-11807</td></tr>\n",
       "</tbody>\n",
       "</table>\n"
      ],
      "text/latex": [
       "A data.frame: 6 × 11\n",
       "\\begin{tabular}{r|lllllllllll}\n",
       "  & interacting\\_pair & partner\\_a & partner\\_b & gene\\_a & gene\\_b & receptor\\_a & receptor\\_b & secreted & interacting\\_cells & significant\\_mean & sample\\\\\n",
       "  & <chr> & <chr> & <chr> & <chr> & <chr> & <chr> & <chr> & <chr> & <chr> & <dbl> & <chr>\\\\\n",
       "\\hline\n",
       "\t0 & CD70\\_CD27                    & simple:P32970 & simple:P26842                 & CD70   & CD27     & False & True  & True  & Cycling T\\textbar{}Cycling T & 0.742 & D18-11807\\\\\n",
       "\t1 & LCK\\_CD8\\_receptor             & simple:P06239 & complex:CD8\\_receptor          & LCK    &          & False & True  & False & Cycling T\\textbar{}Cycling T & 0.947 & D18-11807\\\\\n",
       "\t2 & CRTAM\\_CADM1                  & simple:O95727 & simple:Q9BY67                 & CRTAM  & CADM1    & False & False & False & Cycling T\\textbar{}Cycling T & 0.223 & D18-11807\\\\\n",
       "\t3 & LTA\\_TNFRSF1B                 & simple:P01374 & simple:P20333                 & LTA    & TNFRSF1B & False & True  & True  & Cycling T\\textbar{}Cycling T & 0.730 & D18-11807\\\\\n",
       "\t4 & CCL5\\_CCR5                    & simple:P13501 & simple:P51681                 & CCL5   & CCR5     & False & True  & True  & Cycling T\\textbar{}Cycling T & 0.857 & D18-11807\\\\\n",
       "\t5 & CD40LG\\_integrin\\_a5b1\\_complex & simple:P29965 & complex:integrin\\_a5b1\\_complex & CD40LG &          & False & False & True  & Cycling T\\textbar{}Cycling T & 0.527 & D18-11807\\\\\n",
       "\\end{tabular}\n"
      ],
      "text/markdown": [
       "\n",
       "A data.frame: 6 × 11\n",
       "\n",
       "| <!--/--> | interacting_pair &lt;chr&gt; | partner_a &lt;chr&gt; | partner_b &lt;chr&gt; | gene_a &lt;chr&gt; | gene_b &lt;chr&gt; | receptor_a &lt;chr&gt; | receptor_b &lt;chr&gt; | secreted &lt;chr&gt; | interacting_cells &lt;chr&gt; | significant_mean &lt;dbl&gt; | sample &lt;chr&gt; |\n",
       "|---|---|---|---|---|---|---|---|---|---|---|---|\n",
       "| 0 | CD70_CD27                    | simple:P32970 | simple:P26842                 | CD70   | CD27     | False | True  | True  | Cycling T|Cycling T | 0.742 | D18-11807 |\n",
       "| 1 | LCK_CD8_receptor             | simple:P06239 | complex:CD8_receptor          | LCK    | <!----> | False | True  | False | Cycling T|Cycling T | 0.947 | D18-11807 |\n",
       "| 2 | CRTAM_CADM1                  | simple:O95727 | simple:Q9BY67                 | CRTAM  | CADM1    | False | False | False | Cycling T|Cycling T | 0.223 | D18-11807 |\n",
       "| 3 | LTA_TNFRSF1B                 | simple:P01374 | simple:P20333                 | LTA    | TNFRSF1B | False | True  | True  | Cycling T|Cycling T | 0.730 | D18-11807 |\n",
       "| 4 | CCL5_CCR5                    | simple:P13501 | simple:P51681                 | CCL5   | CCR5     | False | True  | True  | Cycling T|Cycling T | 0.857 | D18-11807 |\n",
       "| 5 | CD40LG_integrin_a5b1_complex | simple:P29965 | complex:integrin_a5b1_complex | CD40LG | <!----> | False | False | True  | Cycling T|Cycling T | 0.527 | D18-11807 |\n",
       "\n"
      ],
      "text/plain": [
       "  interacting_pair             partner_a     partner_b                    \n",
       "0 CD70_CD27                    simple:P32970 simple:P26842                \n",
       "1 LCK_CD8_receptor             simple:P06239 complex:CD8_receptor         \n",
       "2 CRTAM_CADM1                  simple:O95727 simple:Q9BY67                \n",
       "3 LTA_TNFRSF1B                 simple:P01374 simple:P20333                \n",
       "4 CCL5_CCR5                    simple:P13501 simple:P51681                \n",
       "5 CD40LG_integrin_a5b1_complex simple:P29965 complex:integrin_a5b1_complex\n",
       "  gene_a gene_b   receptor_a receptor_b secreted interacting_cells  \n",
       "0 CD70   CD27     False      True       True     Cycling T|Cycling T\n",
       "1 LCK             False      True       False    Cycling T|Cycling T\n",
       "2 CRTAM  CADM1    False      False      False    Cycling T|Cycling T\n",
       "3 LTA    TNFRSF1B False      True       True     Cycling T|Cycling T\n",
       "4 CCL5   CCR5     False      True       True     Cycling T|Cycling T\n",
       "5 CD40LG          False      False      True     Cycling T|Cycling T\n",
       "  significant_mean sample   \n",
       "0 0.742            D18-11807\n",
       "1 0.947            D18-11807\n",
       "2 0.223            D18-11807\n",
       "3 0.730            D18-11807\n",
       "4 0.857            D18-11807\n",
       "5 0.527            D18-11807"
      ]
     },
     "metadata": {},
     "output_type": "display_data"
    }
   ],
   "source": [
    "head(all_interactions_df)"
   ]
  },
  {
   "cell_type": "markdown",
   "id": "2a771be8",
   "metadata": {},
   "source": [
    "### b. list of interactions"
   ]
  },
  {
   "cell_type": "code",
   "execution_count": 4,
   "id": "7901ad54",
   "metadata": {},
   "outputs": [],
   "source": [
    "celltype_mapping <- read.csv('/path_to_file/clinical_var_analysis/celltype_mapping.csv', row.names ='X')"
   ]
  },
  {
   "cell_type": "code",
   "execution_count": 5,
   "id": "d999f773",
   "metadata": {},
   "outputs": [],
   "source": [
    "celltypes <- unique(celltype_mapping$reannotated)"
   ]
  },
  {
   "cell_type": "code",
   "execution_count": 6,
   "id": "90768154",
   "metadata": {},
   "outputs": [],
   "source": [
    "cDC_subtypes <- c('cDC1', 'cDC2', 'mDC')"
   ]
  },
  {
   "cell_type": "markdown",
   "id": "39c8b100",
   "metadata": {},
   "source": [
    "### c. compile list of celltypes and corresponding subtypes"
   ]
  },
  {
   "cell_type": "code",
   "execution_count": 7,
   "id": "e56cc2ae",
   "metadata": {},
   "outputs": [],
   "source": [
    "B <- c(\"Naive B\", \"Transitional B\", \"Memory B\", \"Plasma B\")\n",
    "mono_macro <- c(\"Monocyte classical\", \"Monocyte non-classical\", \"Macrophage M1\", \"Macrophage M2\", \"Macrophage tumor-associated\")\n",
    "endothelial <- c('Endothelial')\n",
    "fibroblast <- c(\"Inflammatory fibroblast\", \"Myofibroblast\")\n",
    "Other_T <- c(\"DN NKT\", \"other T\")\n",
    "pDC <- c('pDC')\n",
    "NK <- c('NK')\n",
    "CD8_T <- c(\"CD8 Tn\",  \"CD8 early activated Teff\", \"CD8 HNRNPH1+ Teff\", \"CD8 GZMK+ Teff\", \n",
    "           \"CD8 Tem\", \"CD8 Texme\",\"CD8 Tex/HS\", \"CD8 GNLY+ Tex\", \"CD8 FTL+ Tex\", \"CD8 NKT\")\n",
    "CD4_T <- c(\"CD4 Tn\", \"CD4 CD69+ T\", \"CD4 Tm\" , \"CD4 Tex\", \"CD4 Treg\", \"CD4 NKT\")\n",
    "Cycling_T <- c(\"Cycling T\")\n",
    "Tumor <- c(\"Tumor - Cell Cycle - G1/S\", \"Tumor - Cell Cycle - G2/M\", \"Tumor - Cell Cycle HMG-rich\", \n",
    "           \"Tumor - EMT-III\", \"Tumor - Hypoxia\", \"Tumor - Interferon/MHC-II (I)\", \"Tumor - MYC\", \"Tumor - Protein maturation\",\n",
    "           \"Tumor - Respiration\", \"Tumor - Secreted I\", \"Tumor - Skin-pigmentation\", \"Tumor - Stress\", \n",
    "           \"Tumor - Translation initiation\", \"Tumor - Unassigned\", \"Tumor - Unfolded protein response\", \n",
    "           \"Tumor - NA\")\n",
    "Keratinocyte <- c('Keratinocyte')\n",
    "Mast <- c(\"Mast\")\n",
    "\n",
    "all_celltypes_list <- list(B, mono_macro, endothelial, fibroblast, Other_T, pDC, NK, CD8_T, CD4_T, Cycling_T,\n",
    "                         Tumor, Keratinocyte, Mast)\n",
    "names(all_celltypes_list) <- c('B', 'Monocyte/Macrophage', \"Endothelial\", \"Fibroblast\", \"Other T\",\n",
    "                               \"pDC\", \"NK\", \"CD8_T\", \"CD4_T\", \"Cycling_T\",\n",
    "                               \"Tumor\", \"Keratinocyte\", \"Mast\")"
   ]
  },
  {
   "cell_type": "markdown",
   "id": "634b2b97",
   "metadata": {},
   "source": [
    "## 1. functions to find interactions"
   ]
  },
  {
   "cell_type": "markdown",
   "id": "edee9462",
   "metadata": {},
   "source": [
    "### a. FUNCTION - Get dataframe of relevant interactions between cDC subtypes and the celltype being tested"
   ]
  },
  {
   "cell_type": "code",
   "execution_count": 8,
   "id": "35c39e42",
   "metadata": {},
   "outputs": [],
   "source": [
    "#concatenate mDC, cDC1, and cDC2 with the B subtypes \n",
    "get_relevant_interactions <- function(subtype_list, celltype) {  #subtype list - the list of subtypes for a particular cell type\n",
    "    possible_interactions <- c()\n",
    "\n",
    "    for(a in cDC_subtypes) {\n",
    "        for(b in subtype_list) {\n",
    "            possible_interactions <- append(possible_interactions, paste0(a, '|', b))\n",
    "            possible_interactions <- append(possible_interactions, paste0(b, '|', a))\n",
    "        }\n",
    "    }\n",
    "\n",
    "    #subset interactions from table \n",
    "    relevant_interactions_df <- all_interactions_df[all_interactions_df$interacting_cells %in% possible_interactions,]\n",
    "\n",
    "    #add columns for \"source\" and \"target\"\n",
    "    #assume first gene listed is source, second gene listed is target \n",
    "    relevant_interactions_df$source <- unlist(lapply(relevant_interactions_df$interacting_cells, function(x) head(strsplit(x, '[|]')[[1]], 1)))\n",
    "    relevant_interactions_df$target <- unlist(lapply(relevant_interactions_df$interacting_cells, function(x) tail(strsplit(x, '[|]')[[1]], 1)))   \n",
    "\n",
    "    #add the receptor genes to the partners (so missing values are filled)\n",
    "    for(r in 1:length(relevant_interactions_df$gene_a)) {\n",
    "        if(relevant_interactions_df$gene_a[r]=='') {\n",
    "           relevant_interactions_df$gene_a[r] = tail(strsplit(relevant_interactions_df$partner_a[r], ':')[[1]], 1)\n",
    "        }\n",
    "        if(relevant_interactions_df$gene_b[r]=='') {\n",
    "           relevant_interactions_df$gene_b[r] = tail(strsplit(relevant_interactions_df$partner_b[r], ':')[[1]], 1)\n",
    "            }\n",
    "    }  \n",
    "    #save relevant interactions \n",
    "    return(relevant_interactions_df)\n",
    "\n",
    "} "
   ]
  },
  {
   "cell_type": "markdown",
   "id": "5658a73c",
   "metadata": {},
   "source": [
    "### b. FUNCTION - Find exclusive interactions expressed only in one of the three cDC subtypes "
   ]
  },
  {
   "cell_type": "code",
   "execution_count": 9,
   "id": "910963ff",
   "metadata": {},
   "outputs": [],
   "source": [
    "get_exclusive_interactions_target <- function(interaction_df, subtype) {\n",
    "    \n",
    "    interaction_df_subtype <- interaction_df[interaction_df$target == subtype,]\n",
    "    interaction_df_not_subtype <- interaction_df[interaction_df$target != subtype,]\n",
    "    \n",
    "    #find interactions that are exclusive to that subtype\n",
    "    exclusive_ixns <- interaction_df_subtype[!interaction(interaction_df_subtype[c('interacting_pair', 'source')]) %in% interaction(interaction_df_not_subtype[c('interacting_pair', 'source')]),] %>% \n",
    "        group_by(interacting_pair, source) %>% summarize(n = n()) %>% filter(n >= 3) %>%\n",
    "            select(interacting_pair, source) #present in at least 3 samples \n",
    "    \n",
    "    #find the interaction in the interaction_df \n",
    "    exclusive_ixn_df <- interaction_df[interaction(interaction_df[c('interacting_pair', 'source')]) %in% interaction(exclusive_ixns),]\n",
    "    \n",
    "    if(dim(exclusive_ixn_df)[1] > 0) {\n",
    "        exclusive_ixn_df$exc <- 'yes'\n",
    "    }\n",
    "    return(exclusive_ixn_df)\n",
    "}"
   ]
  },
  {
   "cell_type": "markdown",
   "id": "ccc51d03",
   "metadata": {},
   "source": [
    "### c. FUNCTION - Find differentially expressed pathways among cDC subtypes "
   ]
  },
  {
   "cell_type": "code",
   "execution_count": 10,
   "id": "ef29c078",
   "metadata": {},
   "outputs": [],
   "source": [
    "#put this into a function to run on all celltypes\n",
    "find_diff_exp_cDC_target <- function(interaction_df) {\n",
    "    \n",
    "    #1. as source\n",
    "    cDC1_source_interactions <- interaction_df %>% filter(target == 'cDC1')\n",
    "    cDC2_source_interactions <- interaction_df %>% filter(target == 'cDC2')\n",
    "    mDC_source_interactions <- interaction_df %>% filter(target == 'mDC')\n",
    "    \n",
    "    cDC1_cDC2 <- intersect(cDC1_source_interactions[c('interacting_pair', 'source')], cDC2_source_interactions[c('interacting_pair', 'source')])\n",
    "    #common to cDC1, cDC2, and mDC \n",
    "    cDC1_cDC2_mDC <- intersect(cDC1_cDC2, mDC_source_interactions[c('interacting_pair', 'source')])\n",
    "    \n",
    "    #find these in the dataframe\n",
    "    intersected_ixn <- interaction_df[interaction(interaction_df[c('interacting_pair', 'source')]) %in% interaction(cDC1_cDC2_mDC),]\n",
    "    \n",
    "    #summarize by the interacting pair/source/target groupings\n",
    "    intersected_ixn_summ <- intersected_ixn %>% group_by(interacting_pair, target, source) %>% #groups data into the categories when summarize is called \n",
    "    reframe(n = n(), significant_mean = significant_mean)\n",
    "    \n",
    "    #get unique target pairs to loop through\n",
    "    unique_ixn_source_pairs <- intersected_ixn_summ %>% distinct(interacting_pair, source)\n",
    "    \n",
    "    cDC1_cDC2_pvals <- c()\n",
    "    cDC1_mDC_pvals <- c()\n",
    "    cDC2_mDC_pvals <- c()\n",
    "    \n",
    "    #store statistics\n",
    "    cDC1_med <- c()\n",
    "    cDC2_med <- c()\n",
    "    mDC_med <- c()\n",
    "    \n",
    "    for(ind in 1:dim(unique_ixn_source_pairs)[1]) {\n",
    "\n",
    "        #get interacting pair and target \n",
    "        interaction_w_tg <- intersected_ixn_summ[interaction(intersected_ixn_summ[c('interacting_pair', 'source')]) == interaction(unique_ixn_source_pairs)[ind],] #%>% select(significant_mean)\n",
    "        #print(interaction_w_tg)\n",
    "        cDC1 = interaction_w_tg %>% filter(target == 'cDC1')#%>% select(significant_mean)\n",
    "        cDC2 = interaction_w_tg %>% filter(target == 'cDC2') #%>% select(significant_mean)\n",
    "        mDC = interaction_w_tg %>% filter(target == 'mDC') #%>% select(significant_mean)\n",
    "        \n",
    "        cDC1_vec <- append(rep(0, 38-length(cDC1$significant_mean)), cDC1$significant_mean)\n",
    "        cDC2_vec <- append(rep(0, 38-length(cDC2$significant_mean)), cDC2$significant_mean)\n",
    "        mDC_vec <- append(rep(0, 38-length(mDC$significant_mean)), mDC$significant_mean)\n",
    "        \n",
    "        #perform wilcoxon test, store the pvalue and the median as a measure of the direction of the difference \n",
    "        cDC1_cDC2_pval <- wilcox.test(cDC1_vec, cDC2_vec, exact = FALSE)$p.value\n",
    "        cDC1_mDC_pval <- wilcox.test(cDC1_vec, mDC_vec, exact = FALSE)$p.value\n",
    "        cDC2_mDC_pval <-  wilcox.test(cDC2_vec, mDC_vec, exact = FALSE)$p.value\n",
    "        \n",
    "        #median of cDC1, cDC2, and mDC\n",
    "        cDC1_med <- append(cDC1_med, median(cDC1_vec))\n",
    "        cDC2_med <- append(cDC2_med, median(cDC2_vec))\n",
    "        mDC_med <- append(mDC_med, median(mDC_vec))\n",
    "\n",
    "        cDC1_cDC2_pvals <- append(cDC1_cDC2_pvals, cDC1_cDC2_pval)\n",
    "        cDC1_mDC_pvals <- append(cDC1_mDC_pvals, cDC1_mDC_pval)\n",
    "        cDC2_mDC_pvals <- append(cDC2_mDC_pvals, cDC2_mDC_pval)\n",
    "\n",
    "\n",
    "    }\n",
    "    rank_sum_stats <- data.frame(cDC1tocDC2.pval = cDC1_cDC2_pvals, \n",
    "                                 cDC1tomDC.pval = cDC1_mDC_pvals,\n",
    "                                 cDC2tomDC.pval = cDC2_mDC_pvals, \n",
    "                                 cDC1.median = cDC1_med,\n",
    "                                 cDC2.median = cDC2_med,\n",
    "                                 mDC.median = mDC_med )\n",
    "    \n",
    "    rank_sum_stats <- cbind(unique_ixn_source_pairs, rank_sum_stats)\n",
    "    return(rank_sum_stats)\n",
    "}"
   ]
  },
  {
   "cell_type": "markdown",
   "id": "ed37a881",
   "metadata": {},
   "source": [
    "### d. FUNCTION: Plot mDC only interactions and mDC differential interactions"
   ]
  },
  {
   "cell_type": "code",
   "execution_count": 11,
   "id": "a4b67bef",
   "metadata": {},
   "outputs": [],
   "source": [
    "plot_diff_exp_new <- function(relevant_interactions_df, mDC_only_ixn_df, subtype_list) {\n",
    "    \n",
    "    plots <- list()\n",
    "    #get mean \n",
    "    interactions_by_target <- list()\n",
    "\n",
    "    max_num_samples <- 0\n",
    "    max_ave_mean <- 0\n",
    "\n",
    "\n",
    "    for(t in unique(relevant_interactions_df$target)) {\n",
    "         #filtered dataframe already passed in \n",
    "        #print(s)\n",
    "        st_interactions_all <- relevant_interactions_df %>%\n",
    "            filter(target == t) %>% \n",
    "            filter(!source %in% cDC_subtypes) %>%\n",
    "            mutate(interaction = interacting_pair) %>% \n",
    "            group_by(source, target, interaction, diff_exp_from) %>% #groups data into the categories when summarize is called \n",
    "            summarise(n = n(), sig_mean = mean(significant_mean)) #%>% arrange(desc(sig_mean))\n",
    "\n",
    "        #add mDC only interaction on the other plots with 0 mean and 0 samples\n",
    "        if(t != 'mDC') {\n",
    "            df1 <- data.frame(target = t, n = 0, sig_mean = 0, diff_exp_from = '')\n",
    "            new_row <- cbind(df1, mDC_only_ixn_df)\n",
    "            st_interactions_all <- rbind(st_interactions_all, new_row)\n",
    "\n",
    "        }\n",
    "        #arrange dataframe (not sure if necessary) and filter by mean\n",
    "        st_interactions_all$interaction <- factor(st_interactions_all$interaction, \n",
    "                                                  levels = unique(relevant_interactions_df$interacting_pair))\n",
    "        st_interactions_all$source=factor(st_interactions_all$source,levels=rev(subtype_list))\n",
    "\n",
    "\n",
    "\n",
    "\n",
    "        #find max number of samples and max average mean \n",
    "        if(max(st_interactions_all$sig_mean) > max_ave_mean) {\n",
    "            max_ave_mean <- max(st_interactions_all$sig_mean)\n",
    "        }\n",
    "\n",
    "        if(max(st_interactions_all$n) > max_num_samples) {\n",
    "            max_num_samples <- max(st_interactions_all$n)\n",
    "        }\n",
    "        \n",
    "        st_interactions_all <- st_interactions_all%>% arrange(interaction, diff_exp_from)\n",
    " \n",
    "        interactions_by_target[[t]] <- st_interactions_all\n",
    "\n",
    "        #st_interactions_all$source=factor(st_interactions_all$source,levels=rev(subtype_list))\n",
    "    }\n",
    "    \n",
    "    \n",
    "\n",
    "    #plot them \n",
    "    for(t in unique(relevant_interactions_df$target)) {\n",
    "        #View(st_interactions_all)\n",
    "        #Plot results \n",
    "        p <- interactions_by_target[[t]] %>% \n",
    "         ggplot(aes(interaction, source, col=sig_mean)) +\n",
    "         ggtitle(t) +\n",
    "         geom_point(aes(size = n)) +\n",
    "         theme_classic()+\n",
    "        #scale_color_viridis(limits = c(0,max_ave_mean)) + \n",
    "        scale_color_gradient(low=\"blue\", high=\"red\", limits = c(0,max_ave_mean), oob = scales::squish)+\n",
    "                scale_size_continuous(limits = c(1,max_num_samples), breaks = append(1, seq(5, max_num_samples, by=5)))+ #change limits \n",
    "          theme(axis.text.x = element_text(angle=45, size =10,  hjust=1, vjust=1), \n",
    "                axis.text.y = element_text(size =10), \n",
    "                plot.title = element_text(hjust = 0.5))\n",
    "\n",
    "        plots[[t]] <- p\n",
    "    \n",
    "    \n",
    "    }\n",
    "    \n",
    "    \n",
    "return(list(plots, interactions_by_target))\n",
    "    \n",
    "    \n",
    "}\n"
   ]
  },
  {
   "cell_type": "markdown",
   "id": "e40fd16c",
   "metadata": {},
   "source": [
    "## 3. test functions "
   ]
  },
  {
   "cell_type": "markdown",
   "id": "b6cc8f53",
   "metadata": {},
   "source": [
    "### can generate plots for all cell types, but for CD4, CD8, and Monocyte/Macrophage, take the top 10 interactions to get plots shown in Extended Data Figure 4G and Supplementary Figure 4D"
   ]
  },
  {
   "cell_type": "code",
   "execution_count": null,
   "id": "07b5f04e",
   "metadata": {},
   "outputs": [],
   "source": [
    "top_n = 10"
   ]
  },
  {
   "cell_type": "code",
   "execution_count": 34,
   "id": "a841fb3e",
   "metadata": {},
   "outputs": [],
   "source": [
    "dir.create('/path_to_file/ccc_mregDC_diffexp_analysis_results/cDC_target/', recursive = TRUE)"
   ]
  },
  {
   "cell_type": "code",
   "execution_count": 40,
   "id": "b373dbdc",
   "metadata": {},
   "outputs": [
    {
     "data": {
      "text/html": [
       "<style>\n",
       ".list-inline {list-style: none; margin:0; padding: 0}\n",
       ".list-inline>li {display: inline-block}\n",
       ".list-inline>li:not(:last-child)::after {content: \"\\00b7\"; padding: 0 .5ex}\n",
       "</style>\n",
       "<ol class=list-inline><li>'B'</li><li>'Monocyte/Macrophage'</li><li>'Endothelial'</li><li>'Fibroblast'</li><li>'Other T'</li><li>'pDC'</li><li>'NK'</li><li>'CD8_T'</li><li>'CD4_T'</li><li>'Cycling_T'</li><li>'Tumor'</li><li>'Keratinocyte'</li><li>'Mast'</li></ol>\n"
      ],
      "text/latex": [
       "\\begin{enumerate*}\n",
       "\\item 'B'\n",
       "\\item 'Monocyte/Macrophage'\n",
       "\\item 'Endothelial'\n",
       "\\item 'Fibroblast'\n",
       "\\item 'Other T'\n",
       "\\item 'pDC'\n",
       "\\item 'NK'\n",
       "\\item 'CD8\\_T'\n",
       "\\item 'CD4\\_T'\n",
       "\\item 'Cycling\\_T'\n",
       "\\item 'Tumor'\n",
       "\\item 'Keratinocyte'\n",
       "\\item 'Mast'\n",
       "\\end{enumerate*}\n"
      ],
      "text/markdown": [
       "1. 'B'\n",
       "2. 'Monocyte/Macrophage'\n",
       "3. 'Endothelial'\n",
       "4. 'Fibroblast'\n",
       "5. 'Other T'\n",
       "6. 'pDC'\n",
       "7. 'NK'\n",
       "8. 'CD8_T'\n",
       "9. 'CD4_T'\n",
       "10. 'Cycling_T'\n",
       "11. 'Tumor'\n",
       "12. 'Keratinocyte'\n",
       "13. 'Mast'\n",
       "\n",
       "\n"
      ],
      "text/plain": [
       " [1] \"B\"                   \"Monocyte/Macrophage\" \"Endothelial\"        \n",
       " [4] \"Fibroblast\"          \"Other T\"             \"pDC\"                \n",
       " [7] \"NK\"                  \"CD8_T\"               \"CD4_T\"              \n",
       "[10] \"Cycling_T\"           \"Tumor\"               \"Keratinocyte\"       \n",
       "[13] \"Mast\"               "
      ]
     },
     "metadata": {},
     "output_type": "display_data"
    }
   ],
   "source": [
    "names(all_celltypes_list)"
   ]
  },
  {
   "cell_type": "code",
   "execution_count": 35,
   "id": "a911bac2",
   "metadata": {
    "scrolled": true
   },
   "outputs": [
    {
     "ename": "ERROR",
     "evalue": "Error in `$<-.data.frame`(`*tmp*`, \"diff_exp_from\", value = \"\"): replacement has 1 row, data has 0\n",
     "output_type": "error",
     "traceback": [
      "Error in `$<-.data.frame`(`*tmp*`, \"diff_exp_from\", value = \"\"): replacement has 1 row, data has 0\nTraceback:\n",
      "1. `$<-`(`*tmp*`, \"diff_exp_from\", value = \"\")",
      "2. `$<-.data.frame`(`*tmp*`, \"diff_exp_from\", value = \"\")",
      "3. stop(sprintf(ngettext(N, \"replacement has %d row, data has %d\", \n .     \"replacement has %d rows, data has %d\"), N, nrows), domain = NA)"
     ]
    }
   ],
   "source": [
    "#no interactions for Keratinocyte \n",
    "#only mDC exclusive interactions for Mast\n",
    "for(ct in names(all_celltypes_list)) {\n",
    "        \n",
    "    plot_ixns_df <- data.frame(matrix(ncol = 15, nrow = 0))\n",
    "\n",
    "    ct_file <- gsub('/', '_', ct)\n",
    "    ct_file <- gsub(' ', '_', ct_file)\n",
    "\n",
    "    #Function a - get relevant interactions \n",
    "    interaction_df <- get_relevant_interactions(all_celltypes_list[[ct]], ct)\n",
    "\n",
    "    #Function b - get exclusive interactions \n",
    "    rank_sum_scores <- find_diff_exp_cDC_target(interaction_df)\n",
    "\n",
    "    ####OPTIONAL: take top 10 using \"head\" function, otherwise leave as is####\n",
    "    mDC_to_both_diffexp <- rank_sum_scores[rank_sum_scores$cDC1tomDC.pval < 0.05 & rank_sum_scores$cDC2tomDC.pval < 0.05,] #add head(..., top_n)\n",
    "    rank_sum_scores <- rank_sum_scores %>% filter(!(cDC1tomDC.pval < 0.05 & cDC2tomDC.pval < 0.05)) #add head(..., top_n)\n",
    "\n",
    "    mDC_to_cDC1_diffexp <- rank_sum_scores[rank_sum_scores$cDC1tomDC.pval < 0.05,]\n",
    "    mDC_to_cDC2_diffexp <- rank_sum_scores[rank_sum_scores$cDC2tomDC.pval < 0.05,]\n",
    "\n",
    "    ##filter interactions and find back in interaction_df\n",
    "    ixns_to_plot <- mDC_to_both_diffexp #rbind(, mDC_to_cDC1_diffexp, mDC_to_cDC2_diffexp)\n",
    "    relevant_ixns <- interaction_df[interaction(interaction_df[c('interacting_pair', 'source')]) %in% \n",
    "                                   interaction(ixns_to_plot[c('interacting_pair', 'source')]),]\n",
    "\n",
    "    #######add annotation to indicate differential significance in dataframe########\n",
    "    ixns_to_plot$diff_exp_from = ''\n",
    "\n",
    "    #cDC1 to mDC \n",
    "    if(sum(ixns_to_plot$cDC1tomDC.pval < 0.05) > 0) {\n",
    "        ixns_to_plot[ixns_to_plot$cDC1tomDC.pval < 0.05,]$diff_exp_from <- paste0(ixns_to_plot[ixns_to_plot$cDC1tomDC.pval < 0.05,]$diff_exp_from, 'cDC1')\n",
    "    }\n",
    "\n",
    "    #cDC2 to mDC \n",
    "    if(sum(ixns_to_plot$cDC2tomDC.pval < 0.05) > 0) {\n",
    "        ixns_to_plot[ixns_to_plot$cDC2tomDC.pval < 0.05,]$diff_exp_from <- paste0(ixns_to_plot[ixns_to_plot$cDC2tomDC.pval < 0.05,]$diff_exp_from, 'cDC2')\n",
    "    }\n",
    "    \n",
    "    #rename \n",
    "    if(dim(ixns_to_plot[ixns_to_plot$diff_exp_from == 'cDC1cDC2', ])[1] > 0) {\n",
    "        ixns_to_plot[ixns_to_plot$diff_exp_from == 'cDC1cDC2', ]$diff_exp_from = 'both'\n",
    "    }\n",
    "\n",
    "    ixns_to_plot <- ixns_to_plot %>% arrange(desc(diff_exp_from), desc(mDC.median))\n",
    "\n",
    "    relevant_ixns$diff_exp_from = ''\n",
    "\n",
    "    for(ip in interaction(ixns_to_plot[c('interacting_pair', 'source')])) {\n",
    "        #find the interacting pair and target in relevant_ixns\n",
    "        sign = ixns_to_plot[interaction(ixns_to_plot[c('interacting_pair', 'source')])== ip,]$diff_exp_from\n",
    "        relevant_ixns[interaction(relevant_ixns[c('interacting_pair', 'source')]) == ip,]$diff_exp_from <- sign\n",
    "    }\n",
    "\n",
    "    relevant_ixns$exc = 'no'\n",
    "\n",
    "    #Function b - get exclusive mDC interactions \n",
    "    mDC_only_ixns <- get_exclusive_interactions_target(interaction_df, 'mDC') #append this to differentially expressed interactions\n",
    "    if(dim(mDC_only_ixns)[1] > 0) {\n",
    "        plot_ixns_df <- mDC_only_ixns\n",
    "        plot_ixns_df$diff_exp_from = ''\n",
    "    }\n",
    "\n",
    "    #add differentially expressed interactions to plot_ixns_df \n",
    "    plot_ixns_df <- rbind(relevant_ixns, plot_ixns_df)\n",
    "\n",
    "    #arrange by most differentially expressed \n",
    "    plot_ixns_df$diff_exp_from <- factor(plot_ixns_df$diff_exp_from, levels = c('both', '')) # 'cDC1', 'cDC2', #%>% arrange(desc(ixn_sign))\n",
    "\n",
    "    #\n",
    "    plot_ixns_df <- plot_ixns_df %>% arrange(diff_exp_from)\n",
    "\n",
    "    ##for later: add these unique mDC interactions on the other plots with 0 mean and 0 samples\n",
    "    mDC_only_ixn_df <- unique(mDC_only_ixns[c('source', 'interacting_pair')])\n",
    "    names(mDC_only_ixn_df)[names(mDC_only_ixn_df) == 'interacting_pair'] <- 'interaction'\n",
    "    \n",
    "    \n",
    "    ####Plot interactions####\n",
    "    ct_res <- plot_diff_exp_new(plot_ixns_df, mDC_only_ixn_df, all_celltypes_list[[ct]])\n",
    "    ct_plots <- ct_res[[1]]\n",
    "    ct_dataframes <- ct_res[[2]]\n",
    "    \n",
    "    #save plots\n",
    "    options(repr.plot.width = 15, repr.plot.height = 15)\n",
    "    ct_plots[['mDC']]/ct_plots[['cDC1']]/ct_plots[['cDC2']]\n",
    "\n",
    "    ggsave(paste0('/path_to_file/ccc_mregDC_diffexp_analysis_results/cDC_target/', ct_file, '_source.pdf'), \n",
    "          width = 16, height = 12)\n",
    "    \n",
    "    #save dataframe that the plot was generated from\n",
    "    concat_ct_dataframes <- cbind(ct_dataframes[['mDC']], ct_dataframes[['cDC1']][c('n', 'sig_mean')], ct_dataframes[['cDC2']][c('n', 'sig_mean')])\n",
    "\n",
    "    names(concat_ct_dataframes)[names(concat_ct_dataframes) %in% c('n...5', 'sig_mean...6', 'n...7', 'sig_mean...8', \n",
    "                                                    'n...9', 'sig_mean...10')] <- c('mDC_n', 'mDC_sig_mean', 'cDC1_n', \n",
    "                                                                                   'cDC1_sig_mean', 'cDC2_n', \n",
    "                                                                      'cDC2_sig_mean')\n",
    "\n",
    "    write.csv(concat_ct_dataframes, paste0('/path_to_file/ccc_mregDC_diffexp_analysis_results/cDC_target/', ct_file, '_source.csv'))\n",
    "}\n"
   ]
  },
  {
   "cell_type": "code",
   "execution_count": 2,
   "id": "623c2a8d",
   "metadata": {},
   "outputs": [
    {
     "data": {
      "text/plain": [
       "R version 4.2.3 (2023-03-15)\n",
       "Platform: x86_64-conda-linux-gnu (64-bit)\n",
       "Running under: CentOS Linux 7 (Core)\n",
       "\n",
       "Matrix products: default\n",
       "BLAS/LAPACK: /net/bmc-lab5/data/kellis/users/cbw3/conda/envs/r-kernel/lib/libopenblasp-r0.3.21.so\n",
       "\n",
       "locale:\n",
       " [1] LC_CTYPE=en_US.UTF-8       LC_NUMERIC=C              \n",
       " [3] LC_TIME=en_US.UTF-8        LC_COLLATE=en_US.UTF-8    \n",
       " [5] LC_MONETARY=en_US.UTF-8    LC_MESSAGES=en_US.UTF-8   \n",
       " [7] LC_PAPER=en_US.UTF-8       LC_NAME=C                 \n",
       " [9] LC_ADDRESS=C               LC_TELEPHONE=C            \n",
       "[11] LC_MEASUREMENT=en_US.UTF-8 LC_IDENTIFICATION=C       \n",
       "\n",
       "attached base packages:\n",
       "[1] stats     graphics  grDevices utils     datasets  methods   base     \n",
       "\n",
       "other attached packages:\n",
       "[1] patchwork_1.2.0 Matrix_1.6-5    ggplot2_3.5.0   tidyr_1.3.1    \n",
       "[5] dplyr_1.1.4    \n",
       "\n",
       "loaded via a namespace (and not attached):\n",
       " [1] pillar_1.9.0     compiler_4.2.3   base64enc_0.1-3  tools_4.2.3     \n",
       " [5] digest_0.6.35    uuid_1.2-0       lattice_0.22-6   jsonlite_1.8.8  \n",
       " [9] evaluate_0.23    lifecycle_1.0.4  tibble_3.2.1     gtable_0.3.4    \n",
       "[13] pkgconfig_2.0.3  rlang_1.1.3      IRdisplay_1.1    cli_3.6.2       \n",
       "[17] IRkernel_1.3.2   fastmap_1.1.1    repr_1.1.7       withr_3.0.0     \n",
       "[21] generics_0.1.3   vctrs_0.6.5      grid_4.2.3       tidyselect_1.2.1\n",
       "[25] glue_1.7.0       R6_2.5.1         fansi_1.0.6      pbdZMQ_0.3-11   \n",
       "[29] purrr_1.0.2      magrittr_2.0.3   scales_1.3.0     htmltools_0.5.8 \n",
       "[33] colorspace_2.1-0 utf8_1.2.4       munsell_0.5.1    crayon_1.5.2    "
      ]
     },
     "metadata": {},
     "output_type": "display_data"
    }
   ],
   "source": [
    "sessionInfo()"
   ]
  },
  {
   "cell_type": "code",
   "execution_count": null,
   "id": "ecbaf7fb",
   "metadata": {},
   "outputs": [],
   "source": []
  }
 ],
 "metadata": {
  "kernelspec": {
   "display_name": "r-kernel",
   "language": "R",
   "name": "r-kernel"
  },
  "language_info": {
   "codemirror_mode": "r",
   "file_extension": ".r",
   "mimetype": "text/x-r-source",
   "name": "R",
   "pygments_lexer": "r",
   "version": "4.2.3"
  },
  "toc": {
   "base_numbering": 1,
   "nav_menu": {},
   "number_sections": true,
   "sideBar": true,
   "skip_h1_title": false,
   "title_cell": "Table of Contents",
   "title_sidebar": "Contents",
   "toc_cell": false,
   "toc_position": {},
   "toc_section_display": true,
   "toc_window_display": false
  }
 },
 "nbformat": 4,
 "nbformat_minor": 5
}
