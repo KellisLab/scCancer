{
 "cells": [
  {
   "cell_type": "markdown",
   "id": "5a6465ac",
   "metadata": {},
   "source": [
    "# Generate cell abundances and proportions for correlation matrices\n",
    "Precursor code to correlation matrices in Figure 2/Extended Figure 2/Supplementary Figure 2\n",
    "\n",
    "- Author: CW\n",
    "- Last updated: 04/09/24"
   ]
  },
  {
   "cell_type": "markdown",
   "id": "df18485d",
   "metadata": {},
   "source": [
    "## 1. Load libraries"
   ]
  },
  {
   "cell_type": "code",
   "execution_count": 1,
   "id": "43344df9",
   "metadata": {
    "scrolled": true
   },
   "outputs": [
    {
     "name": "stderr",
     "output_type": "stream",
     "text": [
      "Attaching SeuratObject\n",
      "\n",
      "‘SeuratObject’ was built with package ‘Matrix’ 1.6.4 but the current\n",
      "version is 1.6.5; it is recomended that you reinstall ‘SeuratObject’ as\n",
      "the ABI for ‘Matrix’ may have changed\n",
      "\n",
      "Seurat v4 was just loaded with SeuratObject v5; disabling v5 assays and\n",
      "validation routines, and ensuring assays work in strict v3/v4\n",
      "compatibility mode\n",
      "\n"
     ]
    }
   ],
   "source": [
    "library(Seurat)"
   ]
  },
  {
   "cell_type": "code",
   "execution_count": 2,
   "id": "497b75b1",
   "metadata": {},
   "outputs": [
    {
     "data": {
      "text/plain": [
       "R version 4.2.3 (2023-03-15)\n",
       "Platform: x86_64-conda-linux-gnu (64-bit)\n",
       "Running under: CentOS Linux 7 (Core)\n",
       "\n",
       "Matrix products: default\n",
       "BLAS/LAPACK: /net/bmc-lab5/data/kellis/users/cbw3/conda/envs/r-kernel/lib/libopenblasp-r0.3.21.so\n",
       "\n",
       "locale:\n",
       " [1] LC_CTYPE=en_US.UTF-8       LC_NUMERIC=C              \n",
       " [3] LC_TIME=en_US.UTF-8        LC_COLLATE=en_US.UTF-8    \n",
       " [5] LC_MONETARY=en_US.UTF-8    LC_MESSAGES=en_US.UTF-8   \n",
       " [7] LC_PAPER=en_US.UTF-8       LC_NAME=C                 \n",
       " [9] LC_ADDRESS=C               LC_TELEPHONE=C            \n",
       "[11] LC_MEASUREMENT=en_US.UTF-8 LC_IDENTIFICATION=C       \n",
       "\n",
       "attached base packages:\n",
       "[1] stats     graphics  grDevices utils     datasets  methods   base     \n",
       "\n",
       "other attached packages:\n",
       "[1] SeuratObject_5.0.1 Seurat_4.3.0.1    \n",
       "\n",
       "loaded via a namespace (and not attached):\n",
       "  [1] Rtsne_0.17             colorspace_2.1-0       deldir_2.0-4          \n",
       "  [4] ggridges_0.5.6         IRdisplay_1.1          base64enc_0.1-3       \n",
       "  [7] spatstat.data_3.0-4    leiden_0.4.3.1         listenv_0.9.1         \n",
       " [10] ggrepel_0.9.5          fansi_1.0.6            codetools_0.2-20      \n",
       " [13] splines_4.2.3          polyclip_1.10-4        IRkernel_1.3.2        \n",
       " [16] spam_2.10-0            jsonlite_1.8.8         ica_1.0-3             \n",
       " [19] cluster_2.1.6          png_0.1-8              uwot_0.1.16           \n",
       " [22] shiny_1.8.1.1          sctransform_0.3.5      spatstat.sparse_3.0-3 \n",
       " [25] compiler_4.2.3         httr_1.4.7             Matrix_1.6-5          \n",
       " [28] fastmap_1.1.1          lazyeval_0.2.2         cli_3.6.2             \n",
       " [31] later_1.3.2            htmltools_0.5.8        tools_4.2.3           \n",
       " [34] igraph_2.0.3           dotCall64_1.1-1        gtable_0.3.4          \n",
       " [37] glue_1.7.0             RANN_2.6.1             reshape2_1.4.4        \n",
       " [40] dplyr_1.1.4            Rcpp_1.0.12            scattermore_1.2       \n",
       " [43] vctrs_0.6.5            spatstat.explore_3.2-7 nlme_3.1-164          \n",
       " [46] progressr_0.14.0       lmtest_0.9-40          spatstat.random_3.2-3 \n",
       " [49] stringr_1.5.1          globals_0.16.3         mime_0.12             \n",
       " [52] miniUI_0.1.1.1         lifecycle_1.0.4        irlba_2.3.5.1         \n",
       " [55] goftest_1.2-3          future_1.33.2          MASS_7.3-60.0.1       \n",
       " [58] zoo_1.8-12             scales_1.3.0           promises_1.2.1        \n",
       " [61] spatstat.utils_3.0-4   parallel_4.2.3         RColorBrewer_1.1-3    \n",
       " [64] reticulate_1.35.0      pbapply_1.7-2          gridExtra_2.3         \n",
       " [67] ggplot2_3.5.0          stringi_1.8.3          repr_1.1.7            \n",
       " [70] rlang_1.1.3            pkgconfig_2.0.3        matrixStats_1.2.0     \n",
       " [73] evaluate_0.23          lattice_0.22-6         ROCR_1.0-11           \n",
       " [76] purrr_1.0.2            tensor_1.5             patchwork_1.2.0       \n",
       " [79] htmlwidgets_1.6.4      cowplot_1.1.3          tidyselect_1.2.1      \n",
       " [82] parallelly_1.37.1      RcppAnnoy_0.0.20       plyr_1.8.9            \n",
       " [85] magrittr_2.0.3         R6_2.5.1               generics_0.1.3        \n",
       " [88] pbdZMQ_0.3-11          pillar_1.9.0           fitdistrplus_1.1-11   \n",
       " [91] survival_3.5-8         abind_1.4-5            sp_2.1-3              \n",
       " [94] tibble_3.2.1           future.apply_1.11.2    crayon_1.5.2          \n",
       " [97] uuid_1.2-0             KernSmooth_2.23-22     utf8_1.2.4            \n",
       "[100] spatstat.geom_3.2-9    plotly_4.10.4          grid_4.2.3            \n",
       "[103] data.table_1.15.4      digest_0.6.35          xtable_1.8-4          \n",
       "[106] tidyr_1.3.1            httpuv_1.6.11          munsell_0.5.1         \n",
       "[109] viridisLite_0.4.2     "
      ]
     },
     "metadata": {},
     "output_type": "display_data"
    }
   ],
   "source": [
    "sessionInfo()"
   ]
  },
  {
   "cell_type": "markdown",
   "id": "3bfafc4f",
   "metadata": {},
   "source": [
    "## 2. Load seurat object (rds file) containing scRNA seq of all 39 samples "
   ]
  },
  {
   "cell_type": "code",
   "execution_count": 3,
   "id": "7a891f90",
   "metadata": {},
   "outputs": [],
   "source": [
    "path_to_object = '/net/bmc-lab5/data/kellis/group/scCancer2023/objects_for_DC_manuscript/for_public/1_RNA_all.rds'\n",
    "obj.RNA <- readRDS(path_to_object)\n",
    "#remove tumor cells with no mp "
   ]
  },
  {
   "cell_type": "code",
   "execution_count": null,
   "id": "cb18b8a6",
   "metadata": {},
   "outputs": [],
   "source": [
    "obj.RNA <- subset(obj.RNA, subset = subtyped_cell_type %in% c('Tumor - NA', 'Tumor'), invert = TRUE)"
   ]
  },
  {
   "cell_type": "code",
   "execution_count": null,
   "id": "db6ec0cd",
   "metadata": {},
   "outputs": [],
   "source": [
    "#also subset the patient 1122_1 out \n",
    "obj.RNA <- subset(obj.RNA, subset = patient_sample == '1122_1', invert = TRUE)"
   ]
  },
  {
   "cell_type": "code",
   "execution_count": null,
   "id": "f50a1389",
   "metadata": {},
   "outputs": [],
   "source": [
    "obj <- obj.RNA"
   ]
  },
  {
   "cell_type": "code",
   "execution_count": null,
   "id": "0420f6b7",
   "metadata": {},
   "outputs": [],
   "source": [
    "unique(obj.RNA@meta.data[obj.RNA$reannotated_cell_type == 'CD4 T',]$subtyped_cell_type)"
   ]
  },
  {
   "cell_type": "code",
   "execution_count": 13,
   "id": "45fdac9e",
   "metadata": {},
   "outputs": [],
   "source": [
    "#saveRDS(obj.RNA, path_to_object)"
   ]
  },
  {
   "cell_type": "markdown",
   "id": "a57df565",
   "metadata": {},
   "source": [
    "'Plasma B''Macrophage M2''Endothelial''cDC2''Macrophage M1''Inflammatory fibroblast''DN NKT''Monocyte non-classical''pDC''other T''Monocyte classical''Macrophage tumor-associated''NK''c0(Texme)''c2(CD69+ Tex)''Myofibroblast''c4(HNRNPH1+ Tex) ''c8(HSPD1+ Tex)''c1(Tem)''c7(FTL+ Teff)''c5(GZMK+ Teff)''c3(Tn)''c9(GNLY+ Teff)''c6(NKT)''cDC1''Tumor''Cycling T''Keratinocyte''c4(Tex)''c0(Tn)''mDC''c1(Treg)''c3(Tm)''c2(CD69+ T)''Mast''c5(NKT)''Transitional B''Naive B''Memory B'"
   ]
  },
  {
   "cell_type": "code",
   "execution_count": 21,
   "id": "42f89252",
   "metadata": {},
   "outputs": [],
   "source": [
    "#CD8 subsets\n",
    "\n",
    "oldCD8_names <- c('c0(Texme)','c1(Tem)', 'c2(CD69+ Tex)', 'c3(Tn)', 'c4(HNRNPH1+ Tex) ', 'c5(GZMK+ Teff)',\n",
    "                  'c6(NKT)', 'c7(FTL+ Teff)','c8(HSPD1+ Tex)', 'c9(GNLY+ Teff)')\n",
    "newCD8_names <- c('CD8 Texme', 'CD8 Tem', 'CD8 early activated Teff', 'CD8 Tn', 'CD8 HNRNPH1+ Teff', 'CD8 GZMK+ Teff', 'CD8 NKT', \n",
    "                  'CD8 FTL+ Tex', 'CD8 Tex/HS', 'CD8 GNLY+ Tex')"
   ]
  },
  {
   "cell_type": "code",
   "execution_count": 22,
   "id": "a0f01a92",
   "metadata": {
    "scrolled": true
   },
   "outputs": [
    {
     "ename": "ERROR",
     "evalue": "Error in `$<-.data.frame`(`*tmp*`, \"subtyped_cell_type\", value = \"CD8 Texme\"): replacement has 1 row, data has 0\n",
     "output_type": "error",
     "traceback": [
      "Error in `$<-.data.frame`(`*tmp*`, \"subtyped_cell_type\", value = \"CD8 Texme\"): replacement has 1 row, data has 0\nTraceback:\n",
      "1. `$<-`(`*tmp*`, \"subtyped_cell_type\", value = \"CD8 Texme\")",
      "2. `$<-.data.frame`(`*tmp*`, \"subtyped_cell_type\", value = \"CD8 Texme\")",
      "3. stop(sprintf(ngettext(N, \"replacement has %d row, data has %d\", \n .     \"replacement has %d rows, data has %d\"), N, nrows), domain = NA)"
     ]
    }
   ],
   "source": [
    "#change \n",
    "for (i in 1:length(oldCD8_names)) {\n",
    "    obj@meta.data[obj@meta.data$subtyped_cell_type == oldCD8_names[i],]$subtyped_cell_type = newCD8_names[i]\n",
    "}"
   ]
  },
  {
   "cell_type": "code",
   "execution_count": 12,
   "id": "fcb5d20c",
   "metadata": {},
   "outputs": [],
   "source": [
    "oldCD4_names <- c('c0(Tn)', 'c1(Treg)', 'c2(CD69+ T)', 'c3(Tm)', 'c4(Tex)', 'c5(NKT)')\n",
    "newCD4_names <- c('CD4 Tn', 'CD4 Treg', 'CD4 CD69+ T', 'CD4 Tm', 'CD4 Tex', 'CD4 NKT')"
   ]
  },
  {
   "cell_type": "code",
   "execution_count": 13,
   "id": "8b284ab6",
   "metadata": {},
   "outputs": [],
   "source": [
    "#change \n",
    "for (i in 1:length(oldCD4_names)) {\n",
    "    obj@meta.data[obj@meta.data$subtyped_cell_type == oldCD4_names[i],]$subtyped_cell_type = newCD4_names[i]\n",
    "}"
   ]
  },
  {
   "cell_type": "code",
   "execution_count": 20,
   "id": "bb6c46a3",
   "metadata": {},
   "outputs": [],
   "source": [
    "saveRDS(obj, path_to_object)"
   ]
  },
  {
   "cell_type": "code",
   "execution_count": 5,
   "id": "bed6a41e",
   "metadata": {},
   "outputs": [
    {
     "data": {
      "text/html": [
       "<style>\n",
       ".list-inline {list-style: none; margin:0; padding: 0}\n",
       ".list-inline>li {display: inline-block}\n",
       ".list-inline>li:not(:last-child)::after {content: \"\\00b7\"; padding: 0 .5ex}\n",
       "</style>\n",
       "<ol class=list-inline><li>13052</li><li>43</li></ol>\n"
      ],
      "text/latex": [
       "\\begin{enumerate*}\n",
       "\\item 13052\n",
       "\\item 43\n",
       "\\end{enumerate*}\n"
      ],
      "text/markdown": [
       "1. 13052\n",
       "2. 43\n",
       "\n",
       "\n"
      ],
      "text/plain": [
       "[1] 13052    43"
      ]
     },
     "metadata": {},
     "output_type": "display_data"
    },
    {
     "data": {
      "text/html": [
       "<style>\n",
       ".list-inline {list-style: none; margin:0; padding: 0}\n",
       ".list-inline>li {display: inline-block}\n",
       ".list-inline>li:not(:last-child)::after {content: \"\\00b7\"; padding: 0 .5ex}\n",
       "</style>\n",
       "<ol class=list-inline><li>4506</li><li>43</li></ol>\n"
      ],
      "text/latex": [
       "\\begin{enumerate*}\n",
       "\\item 4506\n",
       "\\item 43\n",
       "\\end{enumerate*}\n"
      ],
      "text/markdown": [
       "1. 4506\n",
       "2. 43\n",
       "\n",
       "\n"
      ],
      "text/plain": [
       "[1] 4506   43"
      ]
     },
     "metadata": {},
     "output_type": "display_data"
    }
   ],
   "source": [
    "dim(obj.RNA@meta.data[obj.RNA$reannotated_cell_type == 'Monocyte/Macrophage',])\n",
    "\n",
    "dim(obj.RNA@meta.data[obj.RNA$subtyped_cell_type == 'Macrophage M2',])\n"
   ]
  },
  {
   "cell_type": "code",
   "execution_count": 21,
   "id": "0d23fac0",
   "metadata": {},
   "outputs": [
    {
     "data": {
      "text/html": [
       "0.345234446828072"
      ],
      "text/latex": [
       "0.345234446828072"
      ],
      "text/markdown": [
       "0.345234446828072"
      ],
      "text/plain": [
       "[1] 0.3452344"
      ]
     },
     "metadata": {},
     "output_type": "display_data"
    }
   ],
   "source": [
    "#4506/13052"
   ]
  },
  {
   "cell_type": "code",
   "execution_count": 6,
   "id": "d3f19bd8",
   "metadata": {},
   "outputs": [],
   "source": [
    "obj <- obj.RNA"
   ]
  },
  {
   "cell_type": "markdown",
   "id": "ae22e4d3",
   "metadata": {},
   "source": [
    "### a. view object metadata"
   ]
  },
  {
   "cell_type": "code",
   "execution_count": 7,
   "id": "7910a648",
   "metadata": {},
   "outputs": [
    {
     "data": {
      "text/html": [
       "<table class=\"dataframe\">\n",
       "<caption>A data.frame: 6 × 43</caption>\n",
       "<thead>\n",
       "\t<tr><th></th><th scope=col>sample_ID</th><th scope=col>is_multiplet</th><th scope=col>cell_barcode</th><th scope=col>total_counts</th><th scope=col>percent_ribo</th><th scope=col>percent_heme</th><th scope=col>n_genes</th><th scope=col>compartment</th><th scope=col>general_cell_type</th><th scope=col>sample_ID_long</th><th scope=col>⋯</th><th scope=col>is_mDC_high</th><th scope=col>mDC_out_of_cDC</th><th scope=col>BRAF</th><th scope=col>NRAS</th><th scope=col>NF1</th><th scope=col>TERT</th><th scope=col>TP53.TP63</th><th scope=col>PTEN</th><th scope=col>MAP2K1.MAP3K2</th><th scope=col>response_short</th></tr>\n",
       "\t<tr><th></th><th scope=col>&lt;fct&gt;</th><th scope=col>&lt;fct&gt;</th><th scope=col>&lt;fct&gt;</th><th scope=col>&lt;dbl&gt;</th><th scope=col>&lt;dbl&gt;</th><th scope=col>&lt;dbl&gt;</th><th scope=col>&lt;int&gt;</th><th scope=col>&lt;fct&gt;</th><th scope=col>&lt;fct&gt;</th><th scope=col>&lt;chr&gt;</th><th scope=col>⋯</th><th scope=col>&lt;chr&gt;</th><th scope=col>&lt;chr&gt;</th><th scope=col>&lt;chr&gt;</th><th scope=col>&lt;chr&gt;</th><th scope=col>&lt;chr&gt;</th><th scope=col>&lt;chr&gt;</th><th scope=col>&lt;chr&gt;</th><th scope=col>&lt;chr&gt;</th><th scope=col>&lt;chr&gt;</th><th scope=col>&lt;chr&gt;</th></tr>\n",
       "</thead>\n",
       "<tbody>\n",
       "\t<tr><th scope=row>11962_CELL_0</th><td>11962</td><td>no</td><td>CATCCGTCACCATTCC-1</td><td>56784</td><td>0.0560193</td><td>0</td><td>3384</td><td>Immune </td><td>B          </td><td>D19-11962</td><td>⋯</td><td>1</td><td>0.208333333333333</td><td>Mut</td><td>0</td><td>0</td><td>0</td><td>0</td><td>0</td><td>0</td><td>R</td></tr>\n",
       "\t<tr><th scope=row>11962_CELL_1</th><td>11962</td><td>no</td><td>CTGCTCACATGGTGGA-1</td><td>26671</td><td>0.1152188</td><td>0</td><td>4742</td><td>Immune </td><td>Myeloid    </td><td>D19-11962</td><td>⋯</td><td>1</td><td>0.208333333333333</td><td>Mut</td><td>0</td><td>0</td><td>0</td><td>0</td><td>0</td><td>0</td><td>R</td></tr>\n",
       "\t<tr><th scope=row>11962_CELL_2</th><td>11962</td><td>no</td><td>ATCACTTCAACAGCCC-1</td><td>21995</td><td>0.2357809</td><td>0</td><td>5097</td><td>Stromal</td><td>Endothelial</td><td>D19-11962</td><td>⋯</td><td>1</td><td>0.208333333333333</td><td>Mut</td><td>0</td><td>0</td><td>0</td><td>0</td><td>0</td><td>0</td><td>R</td></tr>\n",
       "\t<tr><th scope=row>11962_CELL_3</th><td>11962</td><td>no</td><td>TCGCTCAAGGCACAAC-1</td><td>21838</td><td>0.2748878</td><td>0</td><td>4150</td><td>Immune </td><td>Myeloid    </td><td>D19-11962</td><td>⋯</td><td>1</td><td>0.208333333333333</td><td>Mut</td><td>0</td><td>0</td><td>0</td><td>0</td><td>0</td><td>0</td><td>R</td></tr>\n",
       "\t<tr><th scope=row>11962_CELL_4</th><td>11962</td><td>no</td><td>GTTACGATCTTCACAT-1</td><td>20354</td><td>0.2142576</td><td>0</td><td>5225</td><td>Stromal</td><td>Endothelial</td><td>D19-11962</td><td>⋯</td><td>1</td><td>0.208333333333333</td><td>Mut</td><td>0</td><td>0</td><td>0</td><td>0</td><td>0</td><td>0</td><td>R</td></tr>\n",
       "\t<tr><th scope=row>11962_CELL_5</th><td>11962</td><td>no</td><td>GTTTGGACATCACGGC-1</td><td>19641</td><td>0.2227992</td><td>0</td><td>4925</td><td>Stromal</td><td>Endothelial</td><td>D19-11962</td><td>⋯</td><td>1</td><td>0.208333333333333</td><td>Mut</td><td>0</td><td>0</td><td>0</td><td>0</td><td>0</td><td>0</td><td>R</td></tr>\n",
       "</tbody>\n",
       "</table>\n"
      ],
      "text/latex": [
       "A data.frame: 6 × 43\n",
       "\\begin{tabular}{r|lllllllllllllllllllll}\n",
       "  & sample\\_ID & is\\_multiplet & cell\\_barcode & total\\_counts & percent\\_ribo & percent\\_heme & n\\_genes & compartment & general\\_cell\\_type & sample\\_ID\\_long & ⋯ & is\\_mDC\\_high & mDC\\_out\\_of\\_cDC & BRAF & NRAS & NF1 & TERT & TP53.TP63 & PTEN & MAP2K1.MAP3K2 & response\\_short\\\\\n",
       "  & <fct> & <fct> & <fct> & <dbl> & <dbl> & <dbl> & <int> & <fct> & <fct> & <chr> & ⋯ & <chr> & <chr> & <chr> & <chr> & <chr> & <chr> & <chr> & <chr> & <chr> & <chr>\\\\\n",
       "\\hline\n",
       "\t11962\\_CELL\\_0 & 11962 & no & CATCCGTCACCATTCC-1 & 56784 & 0.0560193 & 0 & 3384 & Immune  & B           & D19-11962 & ⋯ & 1 & 0.208333333333333 & Mut & 0 & 0 & 0 & 0 & 0 & 0 & R\\\\\n",
       "\t11962\\_CELL\\_1 & 11962 & no & CTGCTCACATGGTGGA-1 & 26671 & 0.1152188 & 0 & 4742 & Immune  & Myeloid     & D19-11962 & ⋯ & 1 & 0.208333333333333 & Mut & 0 & 0 & 0 & 0 & 0 & 0 & R\\\\\n",
       "\t11962\\_CELL\\_2 & 11962 & no & ATCACTTCAACAGCCC-1 & 21995 & 0.2357809 & 0 & 5097 & Stromal & Endothelial & D19-11962 & ⋯ & 1 & 0.208333333333333 & Mut & 0 & 0 & 0 & 0 & 0 & 0 & R\\\\\n",
       "\t11962\\_CELL\\_3 & 11962 & no & TCGCTCAAGGCACAAC-1 & 21838 & 0.2748878 & 0 & 4150 & Immune  & Myeloid     & D19-11962 & ⋯ & 1 & 0.208333333333333 & Mut & 0 & 0 & 0 & 0 & 0 & 0 & R\\\\\n",
       "\t11962\\_CELL\\_4 & 11962 & no & GTTACGATCTTCACAT-1 & 20354 & 0.2142576 & 0 & 5225 & Stromal & Endothelial & D19-11962 & ⋯ & 1 & 0.208333333333333 & Mut & 0 & 0 & 0 & 0 & 0 & 0 & R\\\\\n",
       "\t11962\\_CELL\\_5 & 11962 & no & GTTTGGACATCACGGC-1 & 19641 & 0.2227992 & 0 & 4925 & Stromal & Endothelial & D19-11962 & ⋯ & 1 & 0.208333333333333 & Mut & 0 & 0 & 0 & 0 & 0 & 0 & R\\\\\n",
       "\\end{tabular}\n"
      ],
      "text/markdown": [
       "\n",
       "A data.frame: 6 × 43\n",
       "\n",
       "| <!--/--> | sample_ID &lt;fct&gt; | is_multiplet &lt;fct&gt; | cell_barcode &lt;fct&gt; | total_counts &lt;dbl&gt; | percent_ribo &lt;dbl&gt; | percent_heme &lt;dbl&gt; | n_genes &lt;int&gt; | compartment &lt;fct&gt; | general_cell_type &lt;fct&gt; | sample_ID_long &lt;chr&gt; | ⋯ ⋯ | is_mDC_high &lt;chr&gt; | mDC_out_of_cDC &lt;chr&gt; | BRAF &lt;chr&gt; | NRAS &lt;chr&gt; | NF1 &lt;chr&gt; | TERT &lt;chr&gt; | TP53.TP63 &lt;chr&gt; | PTEN &lt;chr&gt; | MAP2K1.MAP3K2 &lt;chr&gt; | response_short &lt;chr&gt; |\n",
       "|---|---|---|---|---|---|---|---|---|---|---|---|---|---|---|---|---|---|---|---|---|---|\n",
       "| 11962_CELL_0 | 11962 | no | CATCCGTCACCATTCC-1 | 56784 | 0.0560193 | 0 | 3384 | Immune  | B           | D19-11962 | ⋯ | 1 | 0.208333333333333 | Mut | 0 | 0 | 0 | 0 | 0 | 0 | R |\n",
       "| 11962_CELL_1 | 11962 | no | CTGCTCACATGGTGGA-1 | 26671 | 0.1152188 | 0 | 4742 | Immune  | Myeloid     | D19-11962 | ⋯ | 1 | 0.208333333333333 | Mut | 0 | 0 | 0 | 0 | 0 | 0 | R |\n",
       "| 11962_CELL_2 | 11962 | no | ATCACTTCAACAGCCC-1 | 21995 | 0.2357809 | 0 | 5097 | Stromal | Endothelial | D19-11962 | ⋯ | 1 | 0.208333333333333 | Mut | 0 | 0 | 0 | 0 | 0 | 0 | R |\n",
       "| 11962_CELL_3 | 11962 | no | TCGCTCAAGGCACAAC-1 | 21838 | 0.2748878 | 0 | 4150 | Immune  | Myeloid     | D19-11962 | ⋯ | 1 | 0.208333333333333 | Mut | 0 | 0 | 0 | 0 | 0 | 0 | R |\n",
       "| 11962_CELL_4 | 11962 | no | GTTACGATCTTCACAT-1 | 20354 | 0.2142576 | 0 | 5225 | Stromal | Endothelial | D19-11962 | ⋯ | 1 | 0.208333333333333 | Mut | 0 | 0 | 0 | 0 | 0 | 0 | R |\n",
       "| 11962_CELL_5 | 11962 | no | GTTTGGACATCACGGC-1 | 19641 | 0.2227992 | 0 | 4925 | Stromal | Endothelial | D19-11962 | ⋯ | 1 | 0.208333333333333 | Mut | 0 | 0 | 0 | 0 | 0 | 0 | R |\n",
       "\n"
      ],
      "text/plain": [
       "             sample_ID is_multiplet cell_barcode       total_counts\n",
       "11962_CELL_0 11962     no           CATCCGTCACCATTCC-1 56784       \n",
       "11962_CELL_1 11962     no           CTGCTCACATGGTGGA-1 26671       \n",
       "11962_CELL_2 11962     no           ATCACTTCAACAGCCC-1 21995       \n",
       "11962_CELL_3 11962     no           TCGCTCAAGGCACAAC-1 21838       \n",
       "11962_CELL_4 11962     no           GTTACGATCTTCACAT-1 20354       \n",
       "11962_CELL_5 11962     no           GTTTGGACATCACGGC-1 19641       \n",
       "             percent_ribo percent_heme n_genes compartment general_cell_type\n",
       "11962_CELL_0 0.0560193    0            3384    Immune      B                \n",
       "11962_CELL_1 0.1152188    0            4742    Immune      Myeloid          \n",
       "11962_CELL_2 0.2357809    0            5097    Stromal     Endothelial      \n",
       "11962_CELL_3 0.2748878    0            4150    Immune      Myeloid          \n",
       "11962_CELL_4 0.2142576    0            5225    Stromal     Endothelial      \n",
       "11962_CELL_5 0.2227992    0            4925    Stromal     Endothelial      \n",
       "             sample_ID_long ⋯ is_mDC_high mDC_out_of_cDC    BRAF NRAS NF1 TERT\n",
       "11962_CELL_0 D19-11962      ⋯ 1           0.208333333333333 Mut  0    0   0   \n",
       "11962_CELL_1 D19-11962      ⋯ 1           0.208333333333333 Mut  0    0   0   \n",
       "11962_CELL_2 D19-11962      ⋯ 1           0.208333333333333 Mut  0    0   0   \n",
       "11962_CELL_3 D19-11962      ⋯ 1           0.208333333333333 Mut  0    0   0   \n",
       "11962_CELL_4 D19-11962      ⋯ 1           0.208333333333333 Mut  0    0   0   \n",
       "11962_CELL_5 D19-11962      ⋯ 1           0.208333333333333 Mut  0    0   0   \n",
       "             TP53.TP63 PTEN MAP2K1.MAP3K2 response_short\n",
       "11962_CELL_0 0         0    0             R             \n",
       "11962_CELL_1 0         0    0             R             \n",
       "11962_CELL_2 0         0    0             R             \n",
       "11962_CELL_3 0         0    0             R             \n",
       "11962_CELL_4 0         0    0             R             \n",
       "11962_CELL_5 0         0    0             R             "
      ]
     },
     "metadata": {},
     "output_type": "display_data"
    }
   ],
   "source": [
    "head(obj@meta.data)"
   ]
  },
  {
   "cell_type": "code",
   "execution_count": 8,
   "id": "2bd90045",
   "metadata": {},
   "outputs": [
    {
     "data": {
      "text/html": [
       "<style>\n",
       ".list-inline {list-style: none; margin:0; padding: 0}\n",
       ".list-inline>li {display: inline-block}\n",
       ".list-inline>li:not(:last-child)::after {content: \"\\00b7\"; padding: 0 .5ex}\n",
       "</style>\n",
       "<ol class=list-inline><li>'sample_ID'</li><li>'is_multiplet'</li><li>'cell_barcode'</li><li>'total_counts'</li><li>'percent_ribo'</li><li>'percent_heme'</li><li>'n_genes'</li><li>'compartment'</li><li>'general_cell_type'</li><li>'sample_ID_long'</li><li>'patient'</li><li>'uid'</li><li>'age'</li><li>'sex'</li><li>'subtype'</li><li>'treatment_group'</li><li>'prior_therapy'</li><li>'state'</li><li>'response'</li><li>'tissue'</li><li>'day'</li><li>'pfs'</li><li>'nCount_RNA'</li><li>'nFeature_RNA'</li><li>'percent_mt'</li><li>'nCount_SCT'</li><li>'nFeature_SCT'</li><li>'S.Score'</li><li>'G2M.Score'</li><li>'Phase'</li><li>'reannotated_cell_type'</li><li>'subtyped_cell_type'</li><li>'patient_sample'</li><li>'is_mDC_high'</li><li>'mDC_out_of_cDC'</li><li>'BRAF'</li><li>'NRAS'</li><li>'NF1'</li><li>'TERT'</li><li>'TP53.TP63'</li><li>'PTEN'</li><li>'MAP2K1.MAP3K2'</li><li>'response_short'</li></ol>\n"
      ],
      "text/latex": [
       "\\begin{enumerate*}\n",
       "\\item 'sample\\_ID'\n",
       "\\item 'is\\_multiplet'\n",
       "\\item 'cell\\_barcode'\n",
       "\\item 'total\\_counts'\n",
       "\\item 'percent\\_ribo'\n",
       "\\item 'percent\\_heme'\n",
       "\\item 'n\\_genes'\n",
       "\\item 'compartment'\n",
       "\\item 'general\\_cell\\_type'\n",
       "\\item 'sample\\_ID\\_long'\n",
       "\\item 'patient'\n",
       "\\item 'uid'\n",
       "\\item 'age'\n",
       "\\item 'sex'\n",
       "\\item 'subtype'\n",
       "\\item 'treatment\\_group'\n",
       "\\item 'prior\\_therapy'\n",
       "\\item 'state'\n",
       "\\item 'response'\n",
       "\\item 'tissue'\n",
       "\\item 'day'\n",
       "\\item 'pfs'\n",
       "\\item 'nCount\\_RNA'\n",
       "\\item 'nFeature\\_RNA'\n",
       "\\item 'percent\\_mt'\n",
       "\\item 'nCount\\_SCT'\n",
       "\\item 'nFeature\\_SCT'\n",
       "\\item 'S.Score'\n",
       "\\item 'G2M.Score'\n",
       "\\item 'Phase'\n",
       "\\item 'reannotated\\_cell\\_type'\n",
       "\\item 'subtyped\\_cell\\_type'\n",
       "\\item 'patient\\_sample'\n",
       "\\item 'is\\_mDC\\_high'\n",
       "\\item 'mDC\\_out\\_of\\_cDC'\n",
       "\\item 'BRAF'\n",
       "\\item 'NRAS'\n",
       "\\item 'NF1'\n",
       "\\item 'TERT'\n",
       "\\item 'TP53.TP63'\n",
       "\\item 'PTEN'\n",
       "\\item 'MAP2K1.MAP3K2'\n",
       "\\item 'response\\_short'\n",
       "\\end{enumerate*}\n"
      ],
      "text/markdown": [
       "1. 'sample_ID'\n",
       "2. 'is_multiplet'\n",
       "3. 'cell_barcode'\n",
       "4. 'total_counts'\n",
       "5. 'percent_ribo'\n",
       "6. 'percent_heme'\n",
       "7. 'n_genes'\n",
       "8. 'compartment'\n",
       "9. 'general_cell_type'\n",
       "10. 'sample_ID_long'\n",
       "11. 'patient'\n",
       "12. 'uid'\n",
       "13. 'age'\n",
       "14. 'sex'\n",
       "15. 'subtype'\n",
       "16. 'treatment_group'\n",
       "17. 'prior_therapy'\n",
       "18. 'state'\n",
       "19. 'response'\n",
       "20. 'tissue'\n",
       "21. 'day'\n",
       "22. 'pfs'\n",
       "23. 'nCount_RNA'\n",
       "24. 'nFeature_RNA'\n",
       "25. 'percent_mt'\n",
       "26. 'nCount_SCT'\n",
       "27. 'nFeature_SCT'\n",
       "28. 'S.Score'\n",
       "29. 'G2M.Score'\n",
       "30. 'Phase'\n",
       "31. 'reannotated_cell_type'\n",
       "32. 'subtyped_cell_type'\n",
       "33. 'patient_sample'\n",
       "34. 'is_mDC_high'\n",
       "35. 'mDC_out_of_cDC'\n",
       "36. 'BRAF'\n",
       "37. 'NRAS'\n",
       "38. 'NF1'\n",
       "39. 'TERT'\n",
       "40. 'TP53.TP63'\n",
       "41. 'PTEN'\n",
       "42. 'MAP2K1.MAP3K2'\n",
       "43. 'response_short'\n",
       "\n",
       "\n"
      ],
      "text/plain": [
       " [1] \"sample_ID\"             \"is_multiplet\"          \"cell_barcode\"         \n",
       " [4] \"total_counts\"          \"percent_ribo\"          \"percent_heme\"         \n",
       " [7] \"n_genes\"               \"compartment\"           \"general_cell_type\"    \n",
       "[10] \"sample_ID_long\"        \"patient\"               \"uid\"                  \n",
       "[13] \"age\"                   \"sex\"                   \"subtype\"              \n",
       "[16] \"treatment_group\"       \"prior_therapy\"         \"state\"                \n",
       "[19] \"response\"              \"tissue\"                \"day\"                  \n",
       "[22] \"pfs\"                   \"nCount_RNA\"            \"nFeature_RNA\"         \n",
       "[25] \"percent_mt\"            \"nCount_SCT\"            \"nFeature_SCT\"         \n",
       "[28] \"S.Score\"               \"G2M.Score\"             \"Phase\"                \n",
       "[31] \"reannotated_cell_type\" \"subtyped_cell_type\"    \"patient_sample\"       \n",
       "[34] \"is_mDC_high\"           \"mDC_out_of_cDC\"        \"BRAF\"                 \n",
       "[37] \"NRAS\"                  \"NF1\"                   \"TERT\"                 \n",
       "[40] \"TP53.TP63\"             \"PTEN\"                  \"MAP2K1.MAP3K2\"        \n",
       "[43] \"response_short\"       "
      ]
     },
     "metadata": {},
     "output_type": "display_data"
    }
   ],
   "source": [
    "#view column names of the object. note that \"compartment\", \"general_cell_type\",\n",
    "#\"reannotated_cell_type\", 'subtyped_cell_type' are all columns\n",
    "colnames(obj@meta.data)"
   ]
  },
  {
   "cell_type": "markdown",
   "id": "73018faa",
   "metadata": {},
   "source": [
    "### b. plot object by different cell type categories"
   ]
  },
  {
   "cell_type": "code",
   "execution_count": null,
   "id": "3f395507",
   "metadata": {},
   "outputs": [],
   "source": [
    "#look at the cell types of the object \n",
    "options(repr.plot.height = 10, repr.plot.width = 17)\n",
    "\n",
    "p1 <- DimPlot(obj, reduction = \"umap\",group.by = 'subtyped_cell_type', pt.size = 1, label = FALSE, ncol = 2) \n",
    "\n",
    "p2 <- DimPlot(obj, reduction = \"umap\",group.by = 'reannotated_cell_type', pt.size = 1, label = FALSE) \n",
    "\n",
    "p3 <- DimPlot(obj, reduction = \"umap\", group.by = 'general_cell_type',pt.size = 1, label = FALSE)\n",
    "\n",
    "p4 <- DimPlot(obj, reduction = \"umap\", group.by = 'compartment', pt.size = 1,label = FALSE)\n",
    "\n",
    "p1+ p2 + p3 + p4"
   ]
  },
  {
   "cell_type": "markdown",
   "id": "2965a8c9",
   "metadata": {},
   "source": [
    "## 3. Retrieve sample-level counts by compartment, general cell type, reannotated cell type, and subtyped cell type"
   ]
  },
  {
   "cell_type": "markdown",
   "id": "125692df",
   "metadata": {},
   "source": [
    "### a. run get_counts for each category of cell type "
   ]
  },
  {
   "cell_type": "code",
   "execution_count": 24,
   "id": "d0710f18",
   "metadata": {},
   "outputs": [
    {
     "data": {
      "text/html": [
       "<style>\n",
       ".list-inline {list-style: none; margin:0; padding: 0}\n",
       ".list-inline>li {display: inline-block}\n",
       ".list-inline>li:not(:last-child)::after {content: \"\\00b7\"; padding: 0 .5ex}\n",
       "</style>\n",
       "<ol class=list-inline><li>'sample_ID'</li><li>'is_multiplet'</li><li>'cell_barcode'</li><li>'total_counts'</li><li>'percent_ribo'</li><li>'percent_heme'</li><li>'n_genes'</li><li>'compartment'</li><li>'general_cell_type'</li><li>'sample_ID_long'</li><li>'patient'</li><li>'uid'</li><li>'age'</li><li>'sex'</li><li>'subtype'</li><li>'treatment_group'</li><li>'prior_therapy'</li><li>'state'</li><li>'response'</li><li>'tissue'</li><li>'day'</li><li>'pfs'</li><li>'nCount_RNA'</li><li>'nFeature_RNA'</li><li>'percent_mt'</li><li>'nCount_SCT'</li><li>'nFeature_SCT'</li><li>'S.Score'</li><li>'G2M.Score'</li><li>'Phase'</li><li>'reannotated_cell_type'</li><li>'subtyped_cell_type'</li><li>'patient_sample'</li><li>'is_mDC_high'</li><li>'mDC_out_of_cDC'</li></ol>\n"
      ],
      "text/latex": [
       "\\begin{enumerate*}\n",
       "\\item 'sample\\_ID'\n",
       "\\item 'is\\_multiplet'\n",
       "\\item 'cell\\_barcode'\n",
       "\\item 'total\\_counts'\n",
       "\\item 'percent\\_ribo'\n",
       "\\item 'percent\\_heme'\n",
       "\\item 'n\\_genes'\n",
       "\\item 'compartment'\n",
       "\\item 'general\\_cell\\_type'\n",
       "\\item 'sample\\_ID\\_long'\n",
       "\\item 'patient'\n",
       "\\item 'uid'\n",
       "\\item 'age'\n",
       "\\item 'sex'\n",
       "\\item 'subtype'\n",
       "\\item 'treatment\\_group'\n",
       "\\item 'prior\\_therapy'\n",
       "\\item 'state'\n",
       "\\item 'response'\n",
       "\\item 'tissue'\n",
       "\\item 'day'\n",
       "\\item 'pfs'\n",
       "\\item 'nCount\\_RNA'\n",
       "\\item 'nFeature\\_RNA'\n",
       "\\item 'percent\\_mt'\n",
       "\\item 'nCount\\_SCT'\n",
       "\\item 'nFeature\\_SCT'\n",
       "\\item 'S.Score'\n",
       "\\item 'G2M.Score'\n",
       "\\item 'Phase'\n",
       "\\item 'reannotated\\_cell\\_type'\n",
       "\\item 'subtyped\\_cell\\_type'\n",
       "\\item 'patient\\_sample'\n",
       "\\item 'is\\_mDC\\_high'\n",
       "\\item 'mDC\\_out\\_of\\_cDC'\n",
       "\\end{enumerate*}\n"
      ],
      "text/markdown": [
       "1. 'sample_ID'\n",
       "2. 'is_multiplet'\n",
       "3. 'cell_barcode'\n",
       "4. 'total_counts'\n",
       "5. 'percent_ribo'\n",
       "6. 'percent_heme'\n",
       "7. 'n_genes'\n",
       "8. 'compartment'\n",
       "9. 'general_cell_type'\n",
       "10. 'sample_ID_long'\n",
       "11. 'patient'\n",
       "12. 'uid'\n",
       "13. 'age'\n",
       "14. 'sex'\n",
       "15. 'subtype'\n",
       "16. 'treatment_group'\n",
       "17. 'prior_therapy'\n",
       "18. 'state'\n",
       "19. 'response'\n",
       "20. 'tissue'\n",
       "21. 'day'\n",
       "22. 'pfs'\n",
       "23. 'nCount_RNA'\n",
       "24. 'nFeature_RNA'\n",
       "25. 'percent_mt'\n",
       "26. 'nCount_SCT'\n",
       "27. 'nFeature_SCT'\n",
       "28. 'S.Score'\n",
       "29. 'G2M.Score'\n",
       "30. 'Phase'\n",
       "31. 'reannotated_cell_type'\n",
       "32. 'subtyped_cell_type'\n",
       "33. 'patient_sample'\n",
       "34. 'is_mDC_high'\n",
       "35. 'mDC_out_of_cDC'\n",
       "\n",
       "\n"
      ],
      "text/plain": [
       " [1] \"sample_ID\"             \"is_multiplet\"          \"cell_barcode\"         \n",
       " [4] \"total_counts\"          \"percent_ribo\"          \"percent_heme\"         \n",
       " [7] \"n_genes\"               \"compartment\"           \"general_cell_type\"    \n",
       "[10] \"sample_ID_long\"        \"patient\"               \"uid\"                  \n",
       "[13] \"age\"                   \"sex\"                   \"subtype\"              \n",
       "[16] \"treatment_group\"       \"prior_therapy\"         \"state\"                \n",
       "[19] \"response\"              \"tissue\"                \"day\"                  \n",
       "[22] \"pfs\"                   \"nCount_RNA\"            \"nFeature_RNA\"         \n",
       "[25] \"percent_mt\"            \"nCount_SCT\"            \"nFeature_SCT\"         \n",
       "[28] \"S.Score\"               \"G2M.Score\"             \"Phase\"                \n",
       "[31] \"reannotated_cell_type\" \"subtyped_cell_type\"    \"patient_sample\"       \n",
       "[34] \"is_mDC_high\"           \"mDC_out_of_cDC\"       "
      ]
     },
     "metadata": {},
     "output_type": "display_data"
    }
   ],
   "source": [
    "colnames(obj.RNA@meta.data)"
   ]
  },
  {
   "cell_type": "code",
   "execution_count": 13,
   "id": "cef42e03",
   "metadata": {},
   "outputs": [],
   "source": [
    "get_counts <- function(obj, category, path_to_save) {\n",
    "    samples <- unique(obj@meta.data$patient_sample)\n",
    "    \n",
    "    if(category == 'compartment') {\n",
    "        cell_types <- as.character(unique(obj@meta.data$compartment))\n",
    "    }\n",
    "    if(category == 'general_cell_type') {\n",
    "        cell_types <- as.character(unique(obj@meta.data$general_cell_type))\n",
    "    }\n",
    "    if(category == 'reannotated_cell_type') {\n",
    "        cell_types <- as.character(unique(obj@meta.data$reannotated_cell_type))\n",
    "    }\n",
    "    if(category == 'subtyped_cell_type') {\n",
    "        cell_types <- as.character(unique(obj@meta.data$subtyped_cell_type))\n",
    "    }\n",
    "    \n",
    "    #save each cell type specific object as loom\n",
    "\n",
    "    #dataframe to store absolute cell counts for every sample\n",
    "    all_cell_abundance <- data.frame(matrix(NA,    # Create empty data frame\n",
    "                              nrow = length(cell_types) + 1,\n",
    "                              ncol = length(samples)))\n",
    "    rownames(all_cell_abundance) = append(cell_types, 'Total')\n",
    "    colnames(all_cell_abundance) = samples\n",
    "\n",
    "    for(sample in samples) {    \n",
    "\n",
    "        #total number of cells in sample\n",
    "        total_cells_in_sample = dim(obj@meta.data[obj@meta.data$patient_sample == sample,])[1]\n",
    "\n",
    "        ##get number of cells present for each subtyped cell type \n",
    "        cell_abundance = c()\n",
    "        for (ct in cell_types) {\n",
    "            #get the number of cells present \n",
    "            celltype_abundance_in_sample = dim(obj@meta.data[obj@meta.data[category] == ct & obj@meta.data$patient_sample == sample,])[1]\n",
    "            cell_abundance = append(cell_abundance, celltype_abundance_in_sample)\n",
    "        #add cell_abundance as column to dataframe\n",
    "\n",
    "        #add total abundance \n",
    "            }\n",
    "        cell_abundance = append(cell_abundance, dim(obj@meta.data[obj@meta.data$patient_sample == sample,])[1])\n",
    "        all_cell_abundance[sample] = cell_abundance\n",
    "        }\n",
    "    #save all_cell_abundance\n",
    "    write.csv(all_cell_abundance, paste0(path_to_save, category, '_abundance_all_samples_2.csv'))\n",
    "\n",
    "    return(all_cell_abundance)\n",
    "\n",
    "    \n",
    "}"
   ]
  },
  {
   "cell_type": "code",
   "execution_count": 9,
   "id": "01ab5949",
   "metadata": {},
   "outputs": [],
   "source": [
    "#####TODO#### \n",
    "\n",
    "#replace path with directory of where you will save your files \n",
    "path_to_save = '/home/cbw3/data/figure_generation/Figure3/abundance_and_proportions/'"
   ]
  },
  {
   "cell_type": "code",
   "execution_count": 15,
   "id": "a83f1350",
   "metadata": {},
   "outputs": [
    {
     "data": {
      "text/html": [
       "<table class=\"dataframe\">\n",
       "<caption>A data.frame: 4 × 39</caption>\n",
       "<thead>\n",
       "\t<tr><th></th><th scope=col>1098_5</th><th scope=col>1098_4</th><th scope=col>1098_3</th><th scope=col>1063_1</th><th scope=col>946_1</th><th scope=col>926_1</th><th scope=col>406_3</th><th scope=col>978_1</th><th scope=col>98_1</th><th scope=col>964_1</th><th scope=col>⋯</th><th scope=col>776_1</th><th scope=col>856_1</th><th scope=col>808_1</th><th scope=col>1098_1</th><th scope=col>1224_1</th><th scope=col>1224_2</th><th scope=col>406_2</th><th scope=col>1098_2</th><th scope=col>452_1</th><th scope=col>620_2</th></tr>\n",
       "\t<tr><th></th><th scope=col>&lt;int&gt;</th><th scope=col>&lt;int&gt;</th><th scope=col>&lt;int&gt;</th><th scope=col>&lt;int&gt;</th><th scope=col>&lt;int&gt;</th><th scope=col>&lt;int&gt;</th><th scope=col>&lt;int&gt;</th><th scope=col>&lt;int&gt;</th><th scope=col>&lt;int&gt;</th><th scope=col>&lt;int&gt;</th><th scope=col>⋯</th><th scope=col>&lt;int&gt;</th><th scope=col>&lt;int&gt;</th><th scope=col>&lt;int&gt;</th><th scope=col>&lt;int&gt;</th><th scope=col>&lt;int&gt;</th><th scope=col>&lt;int&gt;</th><th scope=col>&lt;int&gt;</th><th scope=col>&lt;int&gt;</th><th scope=col>&lt;int&gt;</th><th scope=col>&lt;int&gt;</th></tr>\n",
       "</thead>\n",
       "<tbody>\n",
       "\t<tr><th scope=row>Immune</th><td>2502</td><td> 958</td><td>1463</td><td> 303</td><td>221</td><td>4505</td><td>5531</td><td> 229</td><td> 801</td><td> 562</td><td>⋯</td><td>4433</td><td>1470</td><td> 464</td><td>1295</td><td>448</td><td>2544</td><td>1094</td><td> 463</td><td>2907</td><td>5687</td></tr>\n",
       "\t<tr><th scope=row>Stromal</th><td> 292</td><td> 437</td><td> 439</td><td>   2</td><td>135</td><td> 237</td><td> 115</td><td> 100</td><td> 367</td><td> 148</td><td>⋯</td><td>  85</td><td> 405</td><td> 172</td><td> 274</td><td>426</td><td>3174</td><td> 191</td><td>  31</td><td>  36</td><td>  45</td></tr>\n",
       "\t<tr><th scope=row>Tumor</th><td>   0</td><td> 367</td><td> 238</td><td>1529</td><td>197</td><td> 118</td><td> 290</td><td>3493</td><td>1727</td><td> 706</td><td>⋯</td><td>   0</td><td>1241</td><td>1435</td><td>1327</td><td>  0</td><td>   0</td><td> 210</td><td> 909</td><td>5891</td><td> 304</td></tr>\n",
       "\t<tr><th scope=row>Total</th><td>2794</td><td>1762</td><td>2140</td><td>1834</td><td>553</td><td>4860</td><td>5936</td><td>3822</td><td>2895</td><td>1416</td><td>⋯</td><td>4518</td><td>3116</td><td>2071</td><td>2896</td><td>874</td><td>5718</td><td>1495</td><td>1403</td><td>8834</td><td>6036</td></tr>\n",
       "</tbody>\n",
       "</table>\n"
      ],
      "text/latex": [
       "A data.frame: 4 × 39\n",
       "\\begin{tabular}{r|lllllllllllllllllllll}\n",
       "  & 1098\\_5 & 1098\\_4 & 1098\\_3 & 1063\\_1 & 946\\_1 & 926\\_1 & 406\\_3 & 978\\_1 & 98\\_1 & 964\\_1 & ⋯ & 776\\_1 & 856\\_1 & 808\\_1 & 1098\\_1 & 1224\\_1 & 1224\\_2 & 406\\_2 & 1098\\_2 & 452\\_1 & 620\\_2\\\\\n",
       "  & <int> & <int> & <int> & <int> & <int> & <int> & <int> & <int> & <int> & <int> & ⋯ & <int> & <int> & <int> & <int> & <int> & <int> & <int> & <int> & <int> & <int>\\\\\n",
       "\\hline\n",
       "\tImmune & 2502 &  958 & 1463 &  303 & 221 & 4505 & 5531 &  229 &  801 &  562 & ⋯ & 4433 & 1470 &  464 & 1295 & 448 & 2544 & 1094 &  463 & 2907 & 5687\\\\\n",
       "\tStromal &  292 &  437 &  439 &    2 & 135 &  237 &  115 &  100 &  367 &  148 & ⋯ &   85 &  405 &  172 &  274 & 426 & 3174 &  191 &   31 &   36 &   45\\\\\n",
       "\tTumor &    0 &  367 &  238 & 1529 & 197 &  118 &  290 & 3493 & 1727 &  706 & ⋯ &    0 & 1241 & 1435 & 1327 &   0 &    0 &  210 &  909 & 5891 &  304\\\\\n",
       "\tTotal & 2794 & 1762 & 2140 & 1834 & 553 & 4860 & 5936 & 3822 & 2895 & 1416 & ⋯ & 4518 & 3116 & 2071 & 2896 & 874 & 5718 & 1495 & 1403 & 8834 & 6036\\\\\n",
       "\\end{tabular}\n"
      ],
      "text/markdown": [
       "\n",
       "A data.frame: 4 × 39\n",
       "\n",
       "| <!--/--> | 1098_5 &lt;int&gt; | 1098_4 &lt;int&gt; | 1098_3 &lt;int&gt; | 1063_1 &lt;int&gt; | 946_1 &lt;int&gt; | 926_1 &lt;int&gt; | 406_3 &lt;int&gt; | 978_1 &lt;int&gt; | 98_1 &lt;int&gt; | 964_1 &lt;int&gt; | ⋯ ⋯ | 776_1 &lt;int&gt; | 856_1 &lt;int&gt; | 808_1 &lt;int&gt; | 1098_1 &lt;int&gt; | 1224_1 &lt;int&gt; | 1224_2 &lt;int&gt; | 406_2 &lt;int&gt; | 1098_2 &lt;int&gt; | 452_1 &lt;int&gt; | 620_2 &lt;int&gt; |\n",
       "|---|---|---|---|---|---|---|---|---|---|---|---|---|---|---|---|---|---|---|---|---|---|\n",
       "| Immune | 2502 |  958 | 1463 |  303 | 221 | 4505 | 5531 |  229 |  801 |  562 | ⋯ | 4433 | 1470 |  464 | 1295 | 448 | 2544 | 1094 |  463 | 2907 | 5687 |\n",
       "| Stromal |  292 |  437 |  439 |    2 | 135 |  237 |  115 |  100 |  367 |  148 | ⋯ |   85 |  405 |  172 |  274 | 426 | 3174 |  191 |   31 |   36 |   45 |\n",
       "| Tumor |    0 |  367 |  238 | 1529 | 197 |  118 |  290 | 3493 | 1727 |  706 | ⋯ |    0 | 1241 | 1435 | 1327 |   0 |    0 |  210 |  909 | 5891 |  304 |\n",
       "| Total | 2794 | 1762 | 2140 | 1834 | 553 | 4860 | 5936 | 3822 | 2895 | 1416 | ⋯ | 4518 | 3116 | 2071 | 2896 | 874 | 5718 | 1495 | 1403 | 8834 | 6036 |\n",
       "\n"
      ],
      "text/plain": [
       "        1098_5 1098_4 1098_3 1063_1 946_1 926_1 406_3 978_1 98_1 964_1 ⋯ 776_1\n",
       "Immune  2502    958   1463    303   221   4505  5531   229   801  562  ⋯ 4433 \n",
       "Stromal  292    437    439      2   135    237   115   100   367  148  ⋯   85 \n",
       "Tumor      0    367    238   1529   197    118   290  3493  1727  706  ⋯    0 \n",
       "Total   2794   1762   2140   1834   553   4860  5936  3822  2895 1416  ⋯ 4518 \n",
       "        856_1 808_1 1098_1 1224_1 1224_2 406_2 1098_2 452_1 620_2\n",
       "Immune  1470   464  1295   448    2544   1094   463   2907  5687 \n",
       "Stromal  405   172   274   426    3174    191    31     36    45 \n",
       "Tumor   1241  1435  1327     0       0    210   909   5891   304 \n",
       "Total   3116  2071  2896   874    5718   1495  1403   8834  6036 "
      ]
     },
     "metadata": {},
     "output_type": "display_data"
    },
    {
     "data": {
      "text/html": [
       "<table class=\"dataframe\">\n",
       "<caption>A data.frame: 10 × 39</caption>\n",
       "<thead>\n",
       "\t<tr><th></th><th scope=col>1098_5</th><th scope=col>1098_4</th><th scope=col>1098_3</th><th scope=col>1063_1</th><th scope=col>946_1</th><th scope=col>926_1</th><th scope=col>406_3</th><th scope=col>978_1</th><th scope=col>98_1</th><th scope=col>964_1</th><th scope=col>⋯</th><th scope=col>776_1</th><th scope=col>856_1</th><th scope=col>808_1</th><th scope=col>1098_1</th><th scope=col>1224_1</th><th scope=col>1224_2</th><th scope=col>406_2</th><th scope=col>1098_2</th><th scope=col>452_1</th><th scope=col>620_2</th></tr>\n",
       "\t<tr><th></th><th scope=col>&lt;int&gt;</th><th scope=col>&lt;int&gt;</th><th scope=col>&lt;int&gt;</th><th scope=col>&lt;int&gt;</th><th scope=col>&lt;int&gt;</th><th scope=col>&lt;int&gt;</th><th scope=col>&lt;int&gt;</th><th scope=col>&lt;int&gt;</th><th scope=col>&lt;int&gt;</th><th scope=col>&lt;int&gt;</th><th scope=col>⋯</th><th scope=col>&lt;int&gt;</th><th scope=col>&lt;int&gt;</th><th scope=col>&lt;int&gt;</th><th scope=col>&lt;int&gt;</th><th scope=col>&lt;int&gt;</th><th scope=col>&lt;int&gt;</th><th scope=col>&lt;int&gt;</th><th scope=col>&lt;int&gt;</th><th scope=col>&lt;int&gt;</th><th scope=col>&lt;int&gt;</th></tr>\n",
       "</thead>\n",
       "<tbody>\n",
       "\t<tr><th scope=row>B</th><td>   3</td><td>   2</td><td>   4</td><td>  20</td><td>  1</td><td>1167</td><td>1196</td><td>  27</td><td>   4</td><td>   4</td><td>⋯</td><td> 315</td><td>  42</td><td>  13</td><td>   0</td><td>  0</td><td>  20</td><td>  10</td><td>  27</td><td>   6</td><td>  26</td></tr>\n",
       "\t<tr><th scope=row>Myeloid</th><td> 236</td><td> 234</td><td> 348</td><td> 162</td><td>166</td><td> 344</td><td> 487</td><td>  94</td><td> 330</td><td> 194</td><td>⋯</td><td> 156</td><td> 350</td><td>  48</td><td> 353</td><td> 45</td><td> 395</td><td>1058</td><td> 334</td><td>1448</td><td> 499</td></tr>\n",
       "\t<tr><th scope=row>Endothelial</th><td> 239</td><td>  34</td><td> 281</td><td>   1</td><td> 63</td><td> 160</td><td>  59</td><td>  23</td><td> 155</td><td> 113</td><td>⋯</td><td>  77</td><td> 343</td><td>  97</td><td> 150</td><td> 35</td><td> 230</td><td>  17</td><td>  10</td><td>   2</td><td>   7</td></tr>\n",
       "\t<tr><th scope=row>Fibroblastic</th><td>  53</td><td> 391</td><td> 142</td><td>   0</td><td> 70</td><td>  77</td><td>  56</td><td>  77</td><td> 136</td><td>  26</td><td>⋯</td><td>   7</td><td>  62</td><td>  75</td><td> 124</td><td>167</td><td>1256</td><td> 174</td><td>  21</td><td>  31</td><td>  38</td></tr>\n",
       "\t<tr><th scope=row>NK/T (CD8+)</th><td>2263</td><td> 529</td><td> 746</td><td>  96</td><td> 33</td><td>2801</td><td>3810</td><td>  26</td><td> 237</td><td> 357</td><td>⋯</td><td>1408</td><td> 800</td><td> 322</td><td> 524</td><td>201</td><td>1099</td><td>  12</td><td>  31</td><td>1317</td><td>4739</td></tr>\n",
       "\t<tr><th scope=row>Tumor</th><td>   0</td><td> 367</td><td> 238</td><td>1529</td><td>197</td><td> 118</td><td> 290</td><td>3493</td><td>1727</td><td> 706</td><td>⋯</td><td>   0</td><td>1241</td><td>1435</td><td>1327</td><td>  0</td><td>   0</td><td> 210</td><td> 909</td><td>5891</td><td> 304</td></tr>\n",
       "\t<tr><th scope=row>Keratinocyte</th><td>   0</td><td>  12</td><td>  16</td><td>   1</td><td>  2</td><td>   0</td><td>   0</td><td>   0</td><td>  76</td><td>   9</td><td>⋯</td><td>   1</td><td>   0</td><td>   0</td><td>   0</td><td>224</td><td>1688</td><td>   0</td><td>   0</td><td>   3</td><td>   0</td></tr>\n",
       "\t<tr><th scope=row>NK/T (CD4+)</th><td>   0</td><td> 185</td><td> 356</td><td>  25</td><td> 16</td><td> 193</td><td>  37</td><td>  80</td><td> 222</td><td>   7</td><td>⋯</td><td>2554</td><td> 277</td><td>  80</td><td> 409</td><td>200</td><td> 918</td><td>  13</td><td>  69</td><td> 130</td><td> 423</td></tr>\n",
       "\t<tr><th scope=row>Mast</th><td>   0</td><td>   8</td><td>   9</td><td>   0</td><td>  5</td><td>   0</td><td>   1</td><td>   2</td><td>   8</td><td>   0</td><td>⋯</td><td>   0</td><td>   1</td><td>   1</td><td>   9</td><td>  2</td><td> 112</td><td>   1</td><td>   2</td><td>   6</td><td>   0</td></tr>\n",
       "\t<tr><th scope=row>Total</th><td>2794</td><td>1762</td><td>2140</td><td>1834</td><td>553</td><td>4860</td><td>5936</td><td>3822</td><td>2895</td><td>1416</td><td>⋯</td><td>4518</td><td>3116</td><td>2071</td><td>2896</td><td>874</td><td>5718</td><td>1495</td><td>1403</td><td>8834</td><td>6036</td></tr>\n",
       "</tbody>\n",
       "</table>\n"
      ],
      "text/latex": [
       "A data.frame: 10 × 39\n",
       "\\begin{tabular}{r|lllllllllllllllllllll}\n",
       "  & 1098\\_5 & 1098\\_4 & 1098\\_3 & 1063\\_1 & 946\\_1 & 926\\_1 & 406\\_3 & 978\\_1 & 98\\_1 & 964\\_1 & ⋯ & 776\\_1 & 856\\_1 & 808\\_1 & 1098\\_1 & 1224\\_1 & 1224\\_2 & 406\\_2 & 1098\\_2 & 452\\_1 & 620\\_2\\\\\n",
       "  & <int> & <int> & <int> & <int> & <int> & <int> & <int> & <int> & <int> & <int> & ⋯ & <int> & <int> & <int> & <int> & <int> & <int> & <int> & <int> & <int> & <int>\\\\\n",
       "\\hline\n",
       "\tB &    3 &    2 &    4 &   20 &   1 & 1167 & 1196 &   27 &    4 &    4 & ⋯ &  315 &   42 &   13 &    0 &   0 &   20 &   10 &   27 &    6 &   26\\\\\n",
       "\tMyeloid &  236 &  234 &  348 &  162 & 166 &  344 &  487 &   94 &  330 &  194 & ⋯ &  156 &  350 &   48 &  353 &  45 &  395 & 1058 &  334 & 1448 &  499\\\\\n",
       "\tEndothelial &  239 &   34 &  281 &    1 &  63 &  160 &   59 &   23 &  155 &  113 & ⋯ &   77 &  343 &   97 &  150 &  35 &  230 &   17 &   10 &    2 &    7\\\\\n",
       "\tFibroblastic &   53 &  391 &  142 &    0 &  70 &   77 &   56 &   77 &  136 &   26 & ⋯ &    7 &   62 &   75 &  124 & 167 & 1256 &  174 &   21 &   31 &   38\\\\\n",
       "\tNK/T (CD8+) & 2263 &  529 &  746 &   96 &  33 & 2801 & 3810 &   26 &  237 &  357 & ⋯ & 1408 &  800 &  322 &  524 & 201 & 1099 &   12 &   31 & 1317 & 4739\\\\\n",
       "\tTumor &    0 &  367 &  238 & 1529 & 197 &  118 &  290 & 3493 & 1727 &  706 & ⋯ &    0 & 1241 & 1435 & 1327 &   0 &    0 &  210 &  909 & 5891 &  304\\\\\n",
       "\tKeratinocyte &    0 &   12 &   16 &    1 &   2 &    0 &    0 &    0 &   76 &    9 & ⋯ &    1 &    0 &    0 &    0 & 224 & 1688 &    0 &    0 &    3 &    0\\\\\n",
       "\tNK/T (CD4+) &    0 &  185 &  356 &   25 &  16 &  193 &   37 &   80 &  222 &    7 & ⋯ & 2554 &  277 &   80 &  409 & 200 &  918 &   13 &   69 &  130 &  423\\\\\n",
       "\tMast &    0 &    8 &    9 &    0 &   5 &    0 &    1 &    2 &    8 &    0 & ⋯ &    0 &    1 &    1 &    9 &   2 &  112 &    1 &    2 &    6 &    0\\\\\n",
       "\tTotal & 2794 & 1762 & 2140 & 1834 & 553 & 4860 & 5936 & 3822 & 2895 & 1416 & ⋯ & 4518 & 3116 & 2071 & 2896 & 874 & 5718 & 1495 & 1403 & 8834 & 6036\\\\\n",
       "\\end{tabular}\n"
      ],
      "text/markdown": [
       "\n",
       "A data.frame: 10 × 39\n",
       "\n",
       "| <!--/--> | 1098_5 &lt;int&gt; | 1098_4 &lt;int&gt; | 1098_3 &lt;int&gt; | 1063_1 &lt;int&gt; | 946_1 &lt;int&gt; | 926_1 &lt;int&gt; | 406_3 &lt;int&gt; | 978_1 &lt;int&gt; | 98_1 &lt;int&gt; | 964_1 &lt;int&gt; | ⋯ ⋯ | 776_1 &lt;int&gt; | 856_1 &lt;int&gt; | 808_1 &lt;int&gt; | 1098_1 &lt;int&gt; | 1224_1 &lt;int&gt; | 1224_2 &lt;int&gt; | 406_2 &lt;int&gt; | 1098_2 &lt;int&gt; | 452_1 &lt;int&gt; | 620_2 &lt;int&gt; |\n",
       "|---|---|---|---|---|---|---|---|---|---|---|---|---|---|---|---|---|---|---|---|---|---|\n",
       "| B |    3 |    2 |    4 |   20 |   1 | 1167 | 1196 |   27 |    4 |    4 | ⋯ |  315 |   42 |   13 |    0 |   0 |   20 |   10 |   27 |    6 |   26 |\n",
       "| Myeloid |  236 |  234 |  348 |  162 | 166 |  344 |  487 |   94 |  330 |  194 | ⋯ |  156 |  350 |   48 |  353 |  45 |  395 | 1058 |  334 | 1448 |  499 |\n",
       "| Endothelial |  239 |   34 |  281 |    1 |  63 |  160 |   59 |   23 |  155 |  113 | ⋯ |   77 |  343 |   97 |  150 |  35 |  230 |   17 |   10 |    2 |    7 |\n",
       "| Fibroblastic |   53 |  391 |  142 |    0 |  70 |   77 |   56 |   77 |  136 |   26 | ⋯ |    7 |   62 |   75 |  124 | 167 | 1256 |  174 |   21 |   31 |   38 |\n",
       "| NK/T (CD8+) | 2263 |  529 |  746 |   96 |  33 | 2801 | 3810 |   26 |  237 |  357 | ⋯ | 1408 |  800 |  322 |  524 | 201 | 1099 |   12 |   31 | 1317 | 4739 |\n",
       "| Tumor |    0 |  367 |  238 | 1529 | 197 |  118 |  290 | 3493 | 1727 |  706 | ⋯ |    0 | 1241 | 1435 | 1327 |   0 |    0 |  210 |  909 | 5891 |  304 |\n",
       "| Keratinocyte |    0 |   12 |   16 |    1 |   2 |    0 |    0 |    0 |   76 |    9 | ⋯ |    1 |    0 |    0 |    0 | 224 | 1688 |    0 |    0 |    3 |    0 |\n",
       "| NK/T (CD4+) |    0 |  185 |  356 |   25 |  16 |  193 |   37 |   80 |  222 |    7 | ⋯ | 2554 |  277 |   80 |  409 | 200 |  918 |   13 |   69 |  130 |  423 |\n",
       "| Mast |    0 |    8 |    9 |    0 |   5 |    0 |    1 |    2 |    8 |    0 | ⋯ |    0 |    1 |    1 |    9 |   2 |  112 |    1 |    2 |    6 |    0 |\n",
       "| Total | 2794 | 1762 | 2140 | 1834 | 553 | 4860 | 5936 | 3822 | 2895 | 1416 | ⋯ | 4518 | 3116 | 2071 | 2896 | 874 | 5718 | 1495 | 1403 | 8834 | 6036 |\n",
       "\n"
      ],
      "text/plain": [
       "             1098_5 1098_4 1098_3 1063_1 946_1 926_1 406_3 978_1 98_1 964_1 ⋯\n",
       "B               3      2      4     20     1   1167  1196    27     4    4  ⋯\n",
       "Myeloid       236    234    348    162   166    344   487    94   330  194  ⋯\n",
       "Endothelial   239     34    281      1    63    160    59    23   155  113  ⋯\n",
       "Fibroblastic   53    391    142      0    70     77    56    77   136   26  ⋯\n",
       "NK/T (CD8+)  2263    529    746     96    33   2801  3810    26   237  357  ⋯\n",
       "Tumor           0    367    238   1529   197    118   290  3493  1727  706  ⋯\n",
       "Keratinocyte    0     12     16      1     2      0     0     0    76    9  ⋯\n",
       "NK/T (CD4+)     0    185    356     25    16    193    37    80   222    7  ⋯\n",
       "Mast            0      8      9      0     5      0     1     2     8    0  ⋯\n",
       "Total        2794   1762   2140   1834   553   4860  5936  3822  2895 1416  ⋯\n",
       "             776_1 856_1 808_1 1098_1 1224_1 1224_2 406_2 1098_2 452_1 620_2\n",
       "B             315    42    13     0     0      20     10    27      6    26 \n",
       "Myeloid       156   350    48   353    45     395   1058   334   1448   499 \n",
       "Endothelial    77   343    97   150    35     230     17    10      2     7 \n",
       "Fibroblastic    7    62    75   124   167    1256    174    21     31    38 \n",
       "NK/T (CD8+)  1408   800   322   524   201    1099     12    31   1317  4739 \n",
       "Tumor           0  1241  1435  1327     0       0    210   909   5891   304 \n",
       "Keratinocyte    1     0     0     0   224    1688      0     0      3     0 \n",
       "NK/T (CD4+)  2554   277    80   409   200     918     13    69    130   423 \n",
       "Mast            0     1     1     9     2     112      1     2      6     0 \n",
       "Total        4518  3116  2071  2896   874    5718   1495  1403   8834  6036 "
      ]
     },
     "metadata": {},
     "output_type": "display_data"
    }
   ],
   "source": [
    "#run to generate the csv files of the counts \n",
    "get_counts(obj, 'compartment', path_to_save)\n",
    "get_counts(obj, 'general_cell_type', path_to_save)\n",
    "reannotated_counts <- get_counts(obj, 'reannotated_cell_type', path_to_save)\n",
    "subtyped_counts <- get_counts(obj, 'subtyped_cell_type', path_to_save)"
   ]
  },
  {
   "cell_type": "code",
   "execution_count": 41,
   "id": "9dc6be80",
   "metadata": {
    "scrolled": false
   },
   "outputs": [
    {
     "data": {
      "text/html": [
       "4506"
      ],
      "text/latex": [
       "4506"
      ],
      "text/markdown": [
       "4506"
      ],
      "text/plain": [
       "[1] 4506"
      ]
     },
     "metadata": {},
     "output_type": "display_data"
    }
   ],
   "source": [
    "sum(t(subtyped_counts)[,'Macrophage M2'])"
   ]
  },
  {
   "cell_type": "code",
   "execution_count": 39,
   "id": "2b41750a",
   "metadata": {},
   "outputs": [
    {
     "data": {
      "text/html": [
       "13052"
      ],
      "text/latex": [
       "13052"
      ],
      "text/markdown": [
       "13052"
      ],
      "text/plain": [
       "[1] 13052"
      ]
     },
     "metadata": {},
     "output_type": "display_data"
    }
   ],
   "source": [
    "sum(t(reannotated_counts)[,'Monocyte/Macrophage'])"
   ]
  },
  {
   "cell_type": "markdown",
   "id": "28d5f19b",
   "metadata": {},
   "source": [
    "check that you see four csv files in your path with the names category + '_abundance_all_samples.csv'"
   ]
  },
  {
   "cell_type": "markdown",
   "id": "0d2e0585",
   "metadata": {},
   "source": [
    "## b. create a dataframe that maps every category of cell type to each other"
   ]
  },
  {
   "cell_type": "code",
   "execution_count": 10,
   "id": "40f6b636",
   "metadata": {},
   "outputs": [],
   "source": [
    "subtyped_cell_types = unique(obj.RNA@meta.data$subtyped_cell_type)"
   ]
  },
  {
   "cell_type": "code",
   "execution_count": 11,
   "id": "c1fa71f6",
   "metadata": {},
   "outputs": [],
   "source": [
    "cell_type_mapping <- data.frame(matrix(nrow = length(subtyped_cell_types), ncol = 4, ))\n",
    "colnames(cell_type_mapping) <- c(\"subtype\", \"reannotated\", \"general\", 'compartment')\n",
    "\n",
    "ind = 1\n",
    "\n",
    "for (ct in subtyped_cell_types){\n",
    "    \n",
    "    reannotated_cell_type = as.character(obj@meta.data[obj@meta.data$subtyped_cell_type == ct,]$reannotated_cell_type[1])\n",
    "\n",
    "    general_cell_type = as.character(obj@meta.data[obj@meta.data$subtyped_cell_type == ct,]$general_cell_type[1])\n",
    "    \n",
    "    compartment = as.character(obj@meta.data[obj@meta.data$subtyped_cell_type == ct,]$compartment[1])\n",
    "\n",
    "    mapping <- c(ct, reannotated_cell_type, general_cell_type, compartment)\n",
    "    \n",
    "    #add mapping to cell_type_mapping\n",
    "    \n",
    "    cell_type_mapping[ind,] = mapping\n",
    "    \n",
    "    ind <- ind + 1\n",
    "    }"
   ]
  },
  {
   "cell_type": "code",
   "execution_count": 12,
   "id": "c6e37fb1",
   "metadata": {
    "scrolled": true
   },
   "outputs": [
    {
     "data": {
      "text/html": [
       "<table class=\"dataframe\">\n",
       "<caption>A data.frame: 55 × 4</caption>\n",
       "<thead>\n",
       "\t<tr><th scope=col>subtype</th><th scope=col>reannotated</th><th scope=col>general</th><th scope=col>compartment</th></tr>\n",
       "\t<tr><th scope=col>&lt;chr&gt;</th><th scope=col>&lt;chr&gt;</th><th scope=col>&lt;chr&gt;</th><th scope=col>&lt;chr&gt;</th></tr>\n",
       "</thead>\n",
       "<tbody>\n",
       "\t<tr><td>Plasma B                         </td><td>B                  </td><td>B           </td><td>Immune </td></tr>\n",
       "\t<tr><td>Macrophage M2                    </td><td>Monocyte/Macrophage</td><td>Myeloid     </td><td>Immune </td></tr>\n",
       "\t<tr><td>Endothelial                      </td><td>Endothelial        </td><td>Endothelial </td><td>Stromal</td></tr>\n",
       "\t<tr><td>cDC1                             </td><td>cDC                </td><td>Myeloid     </td><td>Immune </td></tr>\n",
       "\t<tr><td>Macrophage M1                    </td><td>Monocyte/Macrophage</td><td>Myeloid     </td><td>Immune </td></tr>\n",
       "\t<tr><td>Inflammatory fibroblast          </td><td>Fibroblast         </td><td>Fibroblastic</td><td>Stromal</td></tr>\n",
       "\t<tr><td>cDC2                             </td><td>cDC                </td><td>Myeloid     </td><td>Immune </td></tr>\n",
       "\t<tr><td>DN NKT                           </td><td>Other T            </td><td>NK/T (CD8+) </td><td>Immune </td></tr>\n",
       "\t<tr><td>Monocyte non-classical           </td><td>Monocyte/Macrophage</td><td>Myeloid     </td><td>Immune </td></tr>\n",
       "\t<tr><td>pDC                              </td><td>pDC                </td><td>Myeloid     </td><td>Immune </td></tr>\n",
       "\t<tr><td>other T                          </td><td>Other T            </td><td>NK/T (CD8+) </td><td>Immune </td></tr>\n",
       "\t<tr><td>Monocyte classical               </td><td>Monocyte/Macrophage</td><td>Myeloid     </td><td>Immune </td></tr>\n",
       "\t<tr><td>Macrophage tumor-associated      </td><td>Monocyte/Macrophage</td><td>Myeloid     </td><td>Immune </td></tr>\n",
       "\t<tr><td>NK                               </td><td>NK                 </td><td>NK/T (CD8+) </td><td>Immune </td></tr>\n",
       "\t<tr><td>CD8 Texme                        </td><td>CD8 T              </td><td>NK/T (CD8+) </td><td>Immune </td></tr>\n",
       "\t<tr><td>CD8 early activated Teff         </td><td>CD8 T              </td><td>NK/T (CD8+) </td><td>Immune </td></tr>\n",
       "\t<tr><td>Myofibroblast                    </td><td>Fibroblast         </td><td>Fibroblastic</td><td>Stromal</td></tr>\n",
       "\t<tr><td>CD8 HNRNPH1+ Teff                </td><td>CD8 T              </td><td>NK/T (CD8+) </td><td>Immune </td></tr>\n",
       "\t<tr><td>CD8 Tex/HS                       </td><td>CD8 T              </td><td>NK/T (CD8+) </td><td>Immune </td></tr>\n",
       "\t<tr><td>CD8 Tem                          </td><td>CD8 T              </td><td>NK/T (CD8+) </td><td>Immune </td></tr>\n",
       "\t<tr><td>CD8 FTL+ Tex                     </td><td>CD8 T              </td><td>NK/T (CD8+) </td><td>Immune </td></tr>\n",
       "\t<tr><td>CD8 GZMK+ Teff                   </td><td>CD8 T              </td><td>NK/T (CD8+) </td><td>Immune </td></tr>\n",
       "\t<tr><td>CD8 Tn                           </td><td>CD8 T              </td><td>NK/T (CD8+) </td><td>Immune </td></tr>\n",
       "\t<tr><td>CD8 GNLY+ Tex                    </td><td>CD8 T              </td><td>NK/T (CD8+) </td><td>Immune </td></tr>\n",
       "\t<tr><td>CD8 NKT                          </td><td>CD8 T              </td><td>NK/T (CD8+) </td><td>Immune </td></tr>\n",
       "\t<tr><td>Cycling T                        </td><td>Cycling T          </td><td>NK/T (CD8+) </td><td>Immune </td></tr>\n",
       "\t<tr><td>mDC                              </td><td>cDC                </td><td>Myeloid     </td><td>Immune </td></tr>\n",
       "\t<tr><td>Tumor - Secreted I               </td><td>Tumor              </td><td>Tumor       </td><td>Tumor  </td></tr>\n",
       "\t<tr><td>Keratinocyte                     </td><td>Keratinocyte       </td><td>Keratinocyte</td><td>Stromal</td></tr>\n",
       "\t<tr><td>Tumor - Hypoxia                  </td><td>Tumor              </td><td>Tumor       </td><td>Tumor  </td></tr>\n",
       "\t<tr><td>Tumor - Unassigned               </td><td>Tumor              </td><td>Tumor       </td><td>Tumor  </td></tr>\n",
       "\t<tr><td>Tumor - Stress                   </td><td>Tumor              </td><td>Tumor       </td><td>Tumor  </td></tr>\n",
       "\t<tr><td>CD4 Tex                          </td><td>CD4 T              </td><td>NK/T (CD4+) </td><td>Immune </td></tr>\n",
       "\t<tr><td>Tumor - Respiration              </td><td>Tumor              </td><td>Tumor       </td><td>Tumor  </td></tr>\n",
       "\t<tr><td>Tumor - Cell Cycle HMG-rich      </td><td>Tumor              </td><td>Tumor       </td><td>Tumor  </td></tr>\n",
       "\t<tr><td>CD4 Tn                           </td><td>CD4 T              </td><td>NK/T (CD4+) </td><td>Immune </td></tr>\n",
       "\t<tr><td>CD4 Treg                         </td><td>CD4 T              </td><td>NK/T (CD4+) </td><td>Immune </td></tr>\n",
       "\t<tr><td>CD4 Tm                           </td><td>CD4 T              </td><td>NK/T (CD4+) </td><td>Immune </td></tr>\n",
       "\t<tr><td>CD4 CD69+ T                      </td><td>CD4 T              </td><td>NK/T (CD4+) </td><td>Immune </td></tr>\n",
       "\t<tr><td>Mast                             </td><td>Mast               </td><td>Mast        </td><td>Immune </td></tr>\n",
       "\t<tr><td>CD4 NKT                          </td><td>CD4 T              </td><td>NK/T (CD4+) </td><td>Immune </td></tr>\n",
       "\t<tr><td>Transitional B                   </td><td>B                  </td><td>B           </td><td>Immune </td></tr>\n",
       "\t<tr><td>Tumor - Cell Cycle - G2/M        </td><td>Tumor              </td><td>Tumor       </td><td>Tumor  </td></tr>\n",
       "\t<tr><td>Tumor - Cell Cycle - G1/S        </td><td>Tumor              </td><td>Tumor       </td><td>Tumor  </td></tr>\n",
       "\t<tr><td>Tumor - Unfolded protein response</td><td>Tumor              </td><td>Tumor       </td><td>Tumor  </td></tr>\n",
       "\t<tr><td>Naive B                          </td><td>B                  </td><td>B           </td><td>Immune </td></tr>\n",
       "\t<tr><td>Tumor - EMT-III                  </td><td>Tumor              </td><td>Tumor       </td><td>Tumor  </td></tr>\n",
       "\t<tr><td>Tumor - MYC                      </td><td>Tumor              </td><td>Tumor       </td><td>Tumor  </td></tr>\n",
       "\t<tr><td>Tumor - Protein maturation       </td><td>Tumor              </td><td>Tumor       </td><td>Tumor  </td></tr>\n",
       "\t<tr><td>Tumor - Skin-pigmentation        </td><td>Tumor              </td><td>Tumor       </td><td>Tumor  </td></tr>\n",
       "\t<tr><td>Memory B                         </td><td>B                  </td><td>B           </td><td>Immune </td></tr>\n",
       "\t<tr><td>Tumor - Interferon/MHC-II (I)    </td><td>Tumor              </td><td>Tumor       </td><td>Tumor  </td></tr>\n",
       "\t<tr><td>Tumor - Stress (in vitro)        </td><td>Tumor              </td><td>Tumor       </td><td>Tumor  </td></tr>\n",
       "\t<tr><td>Tumor - Translation initiation   </td><td>Tumor              </td><td>Tumor       </td><td>Tumor  </td></tr>\n",
       "\t<tr><td>Tumor - Chromatin                </td><td>Tumor              </td><td>Tumor       </td><td>Tumor  </td></tr>\n",
       "</tbody>\n",
       "</table>\n"
      ],
      "text/latex": [
       "A data.frame: 55 × 4\n",
       "\\begin{tabular}{llll}\n",
       " subtype & reannotated & general & compartment\\\\\n",
       " <chr> & <chr> & <chr> & <chr>\\\\\n",
       "\\hline\n",
       "\t Plasma B                          & B                   & B            & Immune \\\\\n",
       "\t Macrophage M2                     & Monocyte/Macrophage & Myeloid      & Immune \\\\\n",
       "\t Endothelial                       & Endothelial         & Endothelial  & Stromal\\\\\n",
       "\t cDC1                              & cDC                 & Myeloid      & Immune \\\\\n",
       "\t Macrophage M1                     & Monocyte/Macrophage & Myeloid      & Immune \\\\\n",
       "\t Inflammatory fibroblast           & Fibroblast          & Fibroblastic & Stromal\\\\\n",
       "\t cDC2                              & cDC                 & Myeloid      & Immune \\\\\n",
       "\t DN NKT                            & Other T             & NK/T (CD8+)  & Immune \\\\\n",
       "\t Monocyte non-classical            & Monocyte/Macrophage & Myeloid      & Immune \\\\\n",
       "\t pDC                               & pDC                 & Myeloid      & Immune \\\\\n",
       "\t other T                           & Other T             & NK/T (CD8+)  & Immune \\\\\n",
       "\t Monocyte classical                & Monocyte/Macrophage & Myeloid      & Immune \\\\\n",
       "\t Macrophage tumor-associated       & Monocyte/Macrophage & Myeloid      & Immune \\\\\n",
       "\t NK                                & NK                  & NK/T (CD8+)  & Immune \\\\\n",
       "\t CD8 Texme                         & CD8 T               & NK/T (CD8+)  & Immune \\\\\n",
       "\t CD8 early activated Teff          & CD8 T               & NK/T (CD8+)  & Immune \\\\\n",
       "\t Myofibroblast                     & Fibroblast          & Fibroblastic & Stromal\\\\\n",
       "\t CD8 HNRNPH1+ Teff                 & CD8 T               & NK/T (CD8+)  & Immune \\\\\n",
       "\t CD8 Tex/HS                        & CD8 T               & NK/T (CD8+)  & Immune \\\\\n",
       "\t CD8 Tem                           & CD8 T               & NK/T (CD8+)  & Immune \\\\\n",
       "\t CD8 FTL+ Tex                      & CD8 T               & NK/T (CD8+)  & Immune \\\\\n",
       "\t CD8 GZMK+ Teff                    & CD8 T               & NK/T (CD8+)  & Immune \\\\\n",
       "\t CD8 Tn                            & CD8 T               & NK/T (CD8+)  & Immune \\\\\n",
       "\t CD8 GNLY+ Tex                     & CD8 T               & NK/T (CD8+)  & Immune \\\\\n",
       "\t CD8 NKT                           & CD8 T               & NK/T (CD8+)  & Immune \\\\\n",
       "\t Cycling T                         & Cycling T           & NK/T (CD8+)  & Immune \\\\\n",
       "\t mDC                               & cDC                 & Myeloid      & Immune \\\\\n",
       "\t Tumor - Secreted I                & Tumor               & Tumor        & Tumor  \\\\\n",
       "\t Keratinocyte                      & Keratinocyte        & Keratinocyte & Stromal\\\\\n",
       "\t Tumor - Hypoxia                   & Tumor               & Tumor        & Tumor  \\\\\n",
       "\t Tumor - Unassigned                & Tumor               & Tumor        & Tumor  \\\\\n",
       "\t Tumor - Stress                    & Tumor               & Tumor        & Tumor  \\\\\n",
       "\t CD4 Tex                           & CD4 T               & NK/T (CD4+)  & Immune \\\\\n",
       "\t Tumor - Respiration               & Tumor               & Tumor        & Tumor  \\\\\n",
       "\t Tumor - Cell Cycle HMG-rich       & Tumor               & Tumor        & Tumor  \\\\\n",
       "\t CD4 Tn                            & CD4 T               & NK/T (CD4+)  & Immune \\\\\n",
       "\t CD4 Treg                          & CD4 T               & NK/T (CD4+)  & Immune \\\\\n",
       "\t CD4 Tm                            & CD4 T               & NK/T (CD4+)  & Immune \\\\\n",
       "\t CD4 CD69+ T                       & CD4 T               & NK/T (CD4+)  & Immune \\\\\n",
       "\t Mast                              & Mast                & Mast         & Immune \\\\\n",
       "\t CD4 NKT                           & CD4 T               & NK/T (CD4+)  & Immune \\\\\n",
       "\t Transitional B                    & B                   & B            & Immune \\\\\n",
       "\t Tumor - Cell Cycle - G2/M         & Tumor               & Tumor        & Tumor  \\\\\n",
       "\t Tumor - Cell Cycle - G1/S         & Tumor               & Tumor        & Tumor  \\\\\n",
       "\t Tumor - Unfolded protein response & Tumor               & Tumor        & Tumor  \\\\\n",
       "\t Naive B                           & B                   & B            & Immune \\\\\n",
       "\t Tumor - EMT-III                   & Tumor               & Tumor        & Tumor  \\\\\n",
       "\t Tumor - MYC                       & Tumor               & Tumor        & Tumor  \\\\\n",
       "\t Tumor - Protein maturation        & Tumor               & Tumor        & Tumor  \\\\\n",
       "\t Tumor - Skin-pigmentation         & Tumor               & Tumor        & Tumor  \\\\\n",
       "\t Memory B                          & B                   & B            & Immune \\\\\n",
       "\t Tumor - Interferon/MHC-II (I)     & Tumor               & Tumor        & Tumor  \\\\\n",
       "\t Tumor - Stress (in vitro)         & Tumor               & Tumor        & Tumor  \\\\\n",
       "\t Tumor - Translation initiation    & Tumor               & Tumor        & Tumor  \\\\\n",
       "\t Tumor - Chromatin                 & Tumor               & Tumor        & Tumor  \\\\\n",
       "\\end{tabular}\n"
      ],
      "text/markdown": [
       "\n",
       "A data.frame: 55 × 4\n",
       "\n",
       "| subtype &lt;chr&gt; | reannotated &lt;chr&gt; | general &lt;chr&gt; | compartment &lt;chr&gt; |\n",
       "|---|---|---|---|\n",
       "| Plasma B                          | B                   | B            | Immune  |\n",
       "| Macrophage M2                     | Monocyte/Macrophage | Myeloid      | Immune  |\n",
       "| Endothelial                       | Endothelial         | Endothelial  | Stromal |\n",
       "| cDC1                              | cDC                 | Myeloid      | Immune  |\n",
       "| Macrophage M1                     | Monocyte/Macrophage | Myeloid      | Immune  |\n",
       "| Inflammatory fibroblast           | Fibroblast          | Fibroblastic | Stromal |\n",
       "| cDC2                              | cDC                 | Myeloid      | Immune  |\n",
       "| DN NKT                            | Other T             | NK/T (CD8+)  | Immune  |\n",
       "| Monocyte non-classical            | Monocyte/Macrophage | Myeloid      | Immune  |\n",
       "| pDC                               | pDC                 | Myeloid      | Immune  |\n",
       "| other T                           | Other T             | NK/T (CD8+)  | Immune  |\n",
       "| Monocyte classical                | Monocyte/Macrophage | Myeloid      | Immune  |\n",
       "| Macrophage tumor-associated       | Monocyte/Macrophage | Myeloid      | Immune  |\n",
       "| NK                                | NK                  | NK/T (CD8+)  | Immune  |\n",
       "| CD8 Texme                         | CD8 T               | NK/T (CD8+)  | Immune  |\n",
       "| CD8 early activated Teff          | CD8 T               | NK/T (CD8+)  | Immune  |\n",
       "| Myofibroblast                     | Fibroblast          | Fibroblastic | Stromal |\n",
       "| CD8 HNRNPH1+ Teff                 | CD8 T               | NK/T (CD8+)  | Immune  |\n",
       "| CD8 Tex/HS                        | CD8 T               | NK/T (CD8+)  | Immune  |\n",
       "| CD8 Tem                           | CD8 T               | NK/T (CD8+)  | Immune  |\n",
       "| CD8 FTL+ Tex                      | CD8 T               | NK/T (CD8+)  | Immune  |\n",
       "| CD8 GZMK+ Teff                    | CD8 T               | NK/T (CD8+)  | Immune  |\n",
       "| CD8 Tn                            | CD8 T               | NK/T (CD8+)  | Immune  |\n",
       "| CD8 GNLY+ Tex                     | CD8 T               | NK/T (CD8+)  | Immune  |\n",
       "| CD8 NKT                           | CD8 T               | NK/T (CD8+)  | Immune  |\n",
       "| Cycling T                         | Cycling T           | NK/T (CD8+)  | Immune  |\n",
       "| mDC                               | cDC                 | Myeloid      | Immune  |\n",
       "| Tumor - Secreted I                | Tumor               | Tumor        | Tumor   |\n",
       "| Keratinocyte                      | Keratinocyte        | Keratinocyte | Stromal |\n",
       "| Tumor - Hypoxia                   | Tumor               | Tumor        | Tumor   |\n",
       "| Tumor - Unassigned                | Tumor               | Tumor        | Tumor   |\n",
       "| Tumor - Stress                    | Tumor               | Tumor        | Tumor   |\n",
       "| CD4 Tex                           | CD4 T               | NK/T (CD4+)  | Immune  |\n",
       "| Tumor - Respiration               | Tumor               | Tumor        | Tumor   |\n",
       "| Tumor - Cell Cycle HMG-rich       | Tumor               | Tumor        | Tumor   |\n",
       "| CD4 Tn                            | CD4 T               | NK/T (CD4+)  | Immune  |\n",
       "| CD4 Treg                          | CD4 T               | NK/T (CD4+)  | Immune  |\n",
       "| CD4 Tm                            | CD4 T               | NK/T (CD4+)  | Immune  |\n",
       "| CD4 CD69+ T                       | CD4 T               | NK/T (CD4+)  | Immune  |\n",
       "| Mast                              | Mast                | Mast         | Immune  |\n",
       "| CD4 NKT                           | CD4 T               | NK/T (CD4+)  | Immune  |\n",
       "| Transitional B                    | B                   | B            | Immune  |\n",
       "| Tumor - Cell Cycle - G2/M         | Tumor               | Tumor        | Tumor   |\n",
       "| Tumor - Cell Cycle - G1/S         | Tumor               | Tumor        | Tumor   |\n",
       "| Tumor - Unfolded protein response | Tumor               | Tumor        | Tumor   |\n",
       "| Naive B                           | B                   | B            | Immune  |\n",
       "| Tumor - EMT-III                   | Tumor               | Tumor        | Tumor   |\n",
       "| Tumor - MYC                       | Tumor               | Tumor        | Tumor   |\n",
       "| Tumor - Protein maturation        | Tumor               | Tumor        | Tumor   |\n",
       "| Tumor - Skin-pigmentation         | Tumor               | Tumor        | Tumor   |\n",
       "| Memory B                          | B                   | B            | Immune  |\n",
       "| Tumor - Interferon/MHC-II (I)     | Tumor               | Tumor        | Tumor   |\n",
       "| Tumor - Stress (in vitro)         | Tumor               | Tumor        | Tumor   |\n",
       "| Tumor - Translation initiation    | Tumor               | Tumor        | Tumor   |\n",
       "| Tumor - Chromatin                 | Tumor               | Tumor        | Tumor   |\n",
       "\n"
      ],
      "text/plain": [
       "   subtype                           reannotated         general     \n",
       "1  Plasma B                          B                   B           \n",
       "2  Macrophage M2                     Monocyte/Macrophage Myeloid     \n",
       "3  Endothelial                       Endothelial         Endothelial \n",
       "4  cDC1                              cDC                 Myeloid     \n",
       "5  Macrophage M1                     Monocyte/Macrophage Myeloid     \n",
       "6  Inflammatory fibroblast           Fibroblast          Fibroblastic\n",
       "7  cDC2                              cDC                 Myeloid     \n",
       "8  DN NKT                            Other T             NK/T (CD8+) \n",
       "9  Monocyte non-classical            Monocyte/Macrophage Myeloid     \n",
       "10 pDC                               pDC                 Myeloid     \n",
       "11 other T                           Other T             NK/T (CD8+) \n",
       "12 Monocyte classical                Monocyte/Macrophage Myeloid     \n",
       "13 Macrophage tumor-associated       Monocyte/Macrophage Myeloid     \n",
       "14 NK                                NK                  NK/T (CD8+) \n",
       "15 CD8 Texme                         CD8 T               NK/T (CD8+) \n",
       "16 CD8 early activated Teff          CD8 T               NK/T (CD8+) \n",
       "17 Myofibroblast                     Fibroblast          Fibroblastic\n",
       "18 CD8 HNRNPH1+ Teff                 CD8 T               NK/T (CD8+) \n",
       "19 CD8 Tex/HS                        CD8 T               NK/T (CD8+) \n",
       "20 CD8 Tem                           CD8 T               NK/T (CD8+) \n",
       "21 CD8 FTL+ Tex                      CD8 T               NK/T (CD8+) \n",
       "22 CD8 GZMK+ Teff                    CD8 T               NK/T (CD8+) \n",
       "23 CD8 Tn                            CD8 T               NK/T (CD8+) \n",
       "24 CD8 GNLY+ Tex                     CD8 T               NK/T (CD8+) \n",
       "25 CD8 NKT                           CD8 T               NK/T (CD8+) \n",
       "26 Cycling T                         Cycling T           NK/T (CD8+) \n",
       "27 mDC                               cDC                 Myeloid     \n",
       "28 Tumor - Secreted I                Tumor               Tumor       \n",
       "29 Keratinocyte                      Keratinocyte        Keratinocyte\n",
       "30 Tumor - Hypoxia                   Tumor               Tumor       \n",
       "31 Tumor - Unassigned                Tumor               Tumor       \n",
       "32 Tumor - Stress                    Tumor               Tumor       \n",
       "33 CD4 Tex                           CD4 T               NK/T (CD4+) \n",
       "34 Tumor - Respiration               Tumor               Tumor       \n",
       "35 Tumor - Cell Cycle HMG-rich       Tumor               Tumor       \n",
       "36 CD4 Tn                            CD4 T               NK/T (CD4+) \n",
       "37 CD4 Treg                          CD4 T               NK/T (CD4+) \n",
       "38 CD4 Tm                            CD4 T               NK/T (CD4+) \n",
       "39 CD4 CD69+ T                       CD4 T               NK/T (CD4+) \n",
       "40 Mast                              Mast                Mast        \n",
       "41 CD4 NKT                           CD4 T               NK/T (CD4+) \n",
       "42 Transitional B                    B                   B           \n",
       "43 Tumor - Cell Cycle - G2/M         Tumor               Tumor       \n",
       "44 Tumor - Cell Cycle - G1/S         Tumor               Tumor       \n",
       "45 Tumor - Unfolded protein response Tumor               Tumor       \n",
       "46 Naive B                           B                   B           \n",
       "47 Tumor - EMT-III                   Tumor               Tumor       \n",
       "48 Tumor - MYC                       Tumor               Tumor       \n",
       "49 Tumor - Protein maturation        Tumor               Tumor       \n",
       "50 Tumor - Skin-pigmentation         Tumor               Tumor       \n",
       "51 Memory B                          B                   B           \n",
       "52 Tumor - Interferon/MHC-II (I)     Tumor               Tumor       \n",
       "53 Tumor - Stress (in vitro)         Tumor               Tumor       \n",
       "54 Tumor - Translation initiation    Tumor               Tumor       \n",
       "55 Tumor - Chromatin                 Tumor               Tumor       \n",
       "   compartment\n",
       "1  Immune     \n",
       "2  Immune     \n",
       "3  Stromal    \n",
       "4  Immune     \n",
       "5  Immune     \n",
       "6  Stromal    \n",
       "7  Immune     \n",
       "8  Immune     \n",
       "9  Immune     \n",
       "10 Immune     \n",
       "11 Immune     \n",
       "12 Immune     \n",
       "13 Immune     \n",
       "14 Immune     \n",
       "15 Immune     \n",
       "16 Immune     \n",
       "17 Stromal    \n",
       "18 Immune     \n",
       "19 Immune     \n",
       "20 Immune     \n",
       "21 Immune     \n",
       "22 Immune     \n",
       "23 Immune     \n",
       "24 Immune     \n",
       "25 Immune     \n",
       "26 Immune     \n",
       "27 Immune     \n",
       "28 Tumor      \n",
       "29 Stromal    \n",
       "30 Tumor      \n",
       "31 Tumor      \n",
       "32 Tumor      \n",
       "33 Immune     \n",
       "34 Tumor      \n",
       "35 Tumor      \n",
       "36 Immune     \n",
       "37 Immune     \n",
       "38 Immune     \n",
       "39 Immune     \n",
       "40 Immune     \n",
       "41 Immune     \n",
       "42 Immune     \n",
       "43 Tumor      \n",
       "44 Tumor      \n",
       "45 Tumor      \n",
       "46 Immune     \n",
       "47 Tumor      \n",
       "48 Tumor      \n",
       "49 Tumor      \n",
       "50 Tumor      \n",
       "51 Immune     \n",
       "52 Tumor      \n",
       "53 Tumor      \n",
       "54 Tumor      \n",
       "55 Tumor      "
      ]
     },
     "metadata": {},
     "output_type": "display_data"
    }
   ],
   "source": [
    "cell_type_mapping"
   ]
  },
  {
   "cell_type": "code",
   "execution_count": 40,
   "id": "7451bf28",
   "metadata": {},
   "outputs": [],
   "source": [
    "#### TODO #### \n",
    "#view the dataframe. check that all mappings are unique (can search for function that may check this)\n",
    "write.csv(cell_type_mapping, '/home/cbw3/data/figure_generation/Figure3/celltype_mapping.csv')"
   ]
  },
  {
   "cell_type": "markdown",
   "id": "2147d61b",
   "metadata": {},
   "source": [
    "# 4. retrieve proportions in relation to different compartments "
   ]
  },
  {
   "cell_type": "markdown",
   "id": "44d6db2f",
   "metadata": {},
   "source": [
    "### a. load previously generated csvs of the counts for each category "
   ]
  },
  {
   "cell_type": "code",
   "execution_count": 23,
   "id": "815a1713",
   "metadata": {},
   "outputs": [
    {
     "data": {
      "text/html": [
       "'/home/cbw3/data/figure_generation/Figure3/abundance_and_proportions/'"
      ],
      "text/latex": [
       "'/home/cbw3/data/figure\\_generation/Figure3/abundance\\_and\\_proportions/'"
      ],
      "text/markdown": [
       "'/home/cbw3/data/figure_generation/Figure3/abundance_and_proportions/'"
      ],
      "text/plain": [
       "[1] \"/home/cbw3/data/figure_generation/Figure3/abundance_and_proportions/\""
      ]
     },
     "metadata": {},
     "output_type": "display_data"
    }
   ],
   "source": [
    "path_to_save"
   ]
  },
  {
   "cell_type": "code",
   "execution_count": 13,
   "id": "2668ee31",
   "metadata": {},
   "outputs": [],
   "source": [
    "subtype_counts <- read.csv(paste0(path_to_save, 'subtyped_cell_type_abundance_all_samples_2.csv'), row.names = 1,header = TRUE, \n",
    "                              check.names = FALSE)\n",
    "\n",
    "reannotated_counts <- read.csv(paste0(path_to_save, 'reannotated_cell_type_abundance_all_samples_2.csv'), row.names = 1, header = TRUE, \n",
    "                          check.names = FALSE)\n",
    "\n",
    "general_counts <- read.csv(paste0(path_to_save, 'general_cell_type_abundance_all_samples_2.csv'), row.names = 1, header = TRUE, \n",
    "                          check.names = FALSE)\n",
    "\n",
    "compartment_counts <- read.csv(paste0(path_to_save, 'compartment_abundance_all_samples_2.csv'), row.names = 1,header = TRUE, \n",
    "                              check.names = FALSE)"
   ]
  },
  {
   "cell_type": "markdown",
   "id": "6d13b8f7",
   "metadata": {},
   "source": [
    "### b. get compartment/total proportions and save"
   ]
  },
  {
   "cell_type": "code",
   "execution_count": 14,
   "id": "c61f0a80",
   "metadata": {},
   "outputs": [],
   "source": [
    "#Initialize a dataframe to store the proportions \n",
    "proportion_df <- data.frame(matrix(ncol = length(unique(obj@meta.data$uid)), nrow = 0))\n",
    "colnames(proportion_df) <- unique(obj@meta.data$patient_sample)\n",
    "\n",
    "for(ct in rownames(compartment_counts)) {\n",
    "        \n",
    "    cell_types_for_sample <- cell_type_mapping[cell_type_mapping$compartment == ct,]\n",
    "    \n",
    "    #divide compartment row by the total \n",
    "    compartment_row = compartment_counts[rownames(compartment_counts) == ct,]\n",
    "    all_row = compartment_counts[rownames(compartment_counts) == 'Total',]\n",
    "    \n",
    "    #\n",
    "    compartment_all <- compartment_row/all_row\n",
    "    rownames(compartment_all) = paste0(ct, '/Total')\n",
    "    \n",
    "    #append to dataframe \n",
    "    proportion_df = rbind(proportion_df,compartment_all)\n",
    "    \n",
    "}\n",
    "\n",
    "#save the proportions\n",
    "write.csv(proportion_df, paste0(path_to_save, 'compartment_proportions_all_samples_2.csv'))"
   ]
  },
  {
   "cell_type": "markdown",
   "id": "3867f00c",
   "metadata": {},
   "source": [
    "### c. get general cell type/compartment and general cell type/total proportions"
   ]
  },
  {
   "cell_type": "code",
   "execution_count": 15,
   "id": "e97cadb0",
   "metadata": {},
   "outputs": [
    {
     "name": "stderr",
     "output_type": "stream",
     "text": [
      "── \u001b[1mAttaching core tidyverse packages\u001b[22m ──────────────────────── tidyverse 2.0.0 ──\n",
      "\u001b[32m✔\u001b[39m \u001b[34mdplyr    \u001b[39m 1.1.3     \u001b[32m✔\u001b[39m \u001b[34mreadr    \u001b[39m 2.1.4\n",
      "\u001b[32m✔\u001b[39m \u001b[34mforcats  \u001b[39m 1.0.0     \u001b[32m✔\u001b[39m \u001b[34mstringr  \u001b[39m 1.5.0\n",
      "\u001b[32m✔\u001b[39m \u001b[34mggplot2  \u001b[39m 3.4.3     \u001b[32m✔\u001b[39m \u001b[34mtibble   \u001b[39m 3.2.1\n",
      "\u001b[32m✔\u001b[39m \u001b[34mlubridate\u001b[39m 1.9.2     \u001b[32m✔\u001b[39m \u001b[34mtidyr    \u001b[39m 1.3.0\n",
      "\u001b[32m✔\u001b[39m \u001b[34mpurrr    \u001b[39m 1.0.2     \n",
      "── \u001b[1mConflicts\u001b[22m ────────────────────────────────────────── tidyverse_conflicts() ──\n",
      "\u001b[31m✖\u001b[39m \u001b[34mdplyr\u001b[39m::\u001b[32mfilter()\u001b[39m masks \u001b[34mstats\u001b[39m::filter()\n",
      "\u001b[31m✖\u001b[39m \u001b[34mdplyr\u001b[39m::\u001b[32mlag()\u001b[39m    masks \u001b[34mstats\u001b[39m::lag()\n",
      "\u001b[36mℹ\u001b[39m Use the conflicted package (\u001b[3m\u001b[34m<http://conflicted.r-lib.org/>\u001b[39m\u001b[23m) to force all conflicts to become errors\n"
     ]
    }
   ],
   "source": [
    "library(tidyverse)"
   ]
  },
  {
   "cell_type": "code",
   "execution_count": 16,
   "id": "ca64fde7",
   "metadata": {},
   "outputs": [],
   "source": [
    "#Initialize a dataframe to store the proportions \n",
    "proportion_df <- data.frame(matrix(ncol = length(unique(obj@meta.data$uid)), nrow = 0))\n",
    "colnames(proportion_df) <- unique(obj@meta.data$patient_sample)\n",
    "\n",
    "for(ct in unique(cell_type_mapping$general)) {\n",
    "        \n",
    "    cell_types_for_sample <- cell_type_mapping[cell_type_mapping$general == ct,]\n",
    "    mapping <- cell_type_mapping[cell_type_mapping$general == ct,][,c('general', 'compartment')]\n",
    "    mapping <- distinct(mapping)\n",
    "\n",
    "    #divide rows by each other \n",
    "    general_row = general_counts[rownames(general_counts) == mapping$general,]\n",
    "    compartment_row = compartment_counts[rownames(compartment_counts) == mapping$compartment,]\n",
    "    all_row = compartment_counts[rownames(compartment_counts) == 'Total',]\n",
    "    \n",
    "    #\n",
    "    general_compart <- general_row/compartment_row\n",
    "    rownames(general_compart) = paste0(ct, '/', mapping$compartment)\n",
    "    \n",
    "    general_all <- general_row/all_row\n",
    "    rownames(general_all) = paste0(ct, '/Total')\n",
    "    \n",
    "    \n",
    "    #append to dataframe \n",
    "    proportion_df = rbind(proportion_df,general_compart)\n",
    "    proportion_df = rbind(proportion_df,general_all)\n",
    "    \n",
    "}\n",
    "\n",
    "#proportion_df\n",
    "#save the proportions\n",
    "write.csv(proportion_df, paste0(path_to_save, 'general_cell_type_proportions_all_samples_2.csv'))"
   ]
  },
  {
   "cell_type": "markdown",
   "id": "a91614b7",
   "metadata": {},
   "source": [
    "### d. get reannotated/general, reannotated/compartment, and reannotated/total proportions"
   ]
  },
  {
   "cell_type": "code",
   "execution_count": 46,
   "id": "3c6eec1a",
   "metadata": {},
   "outputs": [
    {
     "data": {
      "text/html": [
       "<table class=\"dataframe\">\n",
       "<caption>A data.frame: 1 × 4</caption>\n",
       "<thead>\n",
       "\t<tr><th></th><th scope=col>subtype</th><th scope=col>reannotated</th><th scope=col>general</th><th scope=col>compartment</th></tr>\n",
       "\t<tr><th></th><th scope=col>&lt;chr&gt;</th><th scope=col>&lt;chr&gt;</th><th scope=col>&lt;chr&gt;</th><th scope=col>&lt;chr&gt;</th></tr>\n",
       "</thead>\n",
       "<tbody>\n",
       "\t<tr><th scope=row>40</th><td>Mast</td><td>Mast</td><td>Mast</td><td>Immune</td></tr>\n",
       "</tbody>\n",
       "</table>\n"
      ],
      "text/latex": [
       "A data.frame: 1 × 4\n",
       "\\begin{tabular}{r|llll}\n",
       "  & subtype & reannotated & general & compartment\\\\\n",
       "  & <chr> & <chr> & <chr> & <chr>\\\\\n",
       "\\hline\n",
       "\t40 & Mast & Mast & Mast & Immune\\\\\n",
       "\\end{tabular}\n"
      ],
      "text/markdown": [
       "\n",
       "A data.frame: 1 × 4\n",
       "\n",
       "| <!--/--> | subtype &lt;chr&gt; | reannotated &lt;chr&gt; | general &lt;chr&gt; | compartment &lt;chr&gt; |\n",
       "|---|---|---|---|---|\n",
       "| 40 | Mast | Mast | Mast | Immune |\n",
       "\n"
      ],
      "text/plain": [
       "   subtype reannotated general compartment\n",
       "40 Mast    Mast        Mast    Immune     "
      ]
     },
     "metadata": {},
     "output_type": "display_data"
    }
   ],
   "source": [
    "cell_type_mapping[cell_type_mapping$reannotated == ct,]\n"
   ]
  },
  {
   "cell_type": "code",
   "execution_count": 17,
   "id": "c0b7bd33",
   "metadata": {},
   "outputs": [],
   "source": [
    "#Initialize a dataframe to store the proportions \n",
    "proportion_df <- data.frame(matrix(ncol = length(unique(obj@meta.data$uid)), nrow = 0))\n",
    "colnames(proportion_df) <- unique(obj@meta.data$patient_sample)\n",
    "\n",
    "#get reannotated proportions\n",
    "for(ct in unique(obj@meta.data$reannotated_cell_type)) {\n",
    "        \n",
    "    cell_types_for_sample <- cell_type_mapping[cell_type_mapping$reannotated == ct,]\n",
    "    mapping <- cell_type_mapping[cell_type_mapping$reannotated == ct,][,c('reannotated', 'general', 'compartment')]\n",
    "    mapping <- distinct(mapping)\n",
    "    \n",
    "    #divide rows by each other \n",
    "    reannotated_row = reannotated_counts[rownames(reannotated_counts) == mapping$reannotated,]\n",
    "    general_row = general_counts[rownames(general_counts) == mapping$general,]\n",
    "    compartment_row = compartment_counts[rownames(compartment_counts) == mapping$compartment,]\n",
    "    \n",
    "    all_row = compartment_counts[rownames(compartment_counts) == 'Total',]\n",
    "    \n",
    "    #\n",
    "    reannot_general <- reannotated_row/general_row\n",
    "    rownames(reannot_general) = paste0(ct, '/', mapping$general)\n",
    "    \n",
    "    if(mapping$general != mapping$compartment) {\n",
    "        reannot_compart <- reannotated_row/compartment_row\n",
    "        rownames(reannot_compart) = paste0(ct, '/', mapping$compartment)\n",
    "    }\n",
    "\n",
    "    reannot_all <- reannotated_row/all_row\n",
    "    rownames(reannot_all) = paste0(ct, '/Total')\n",
    "    \n",
    "    \n",
    "    #add to proportion \n",
    "    proportion_df = rbind(proportion_df,reannot_general)\n",
    "    proportion_df = rbind(proportion_df,reannot_compart)\n",
    "    proportion_df = rbind(proportion_df,reannot_all)\n",
    "    \n",
    "}\n",
    "\n",
    "#proportion_df\n",
    "#save the proportions\n",
    "write.csv(proportion_df, paste0(path_to_save, 'reannotated_cell_type_proportions_all_samples_2.csv'))"
   ]
  },
  {
   "cell_type": "markdown",
   "id": "b3e7f4ce",
   "metadata": {},
   "source": [
    "### e. get subtyped/reannotated, subtyped/general, subtpyed/compartment, and subtyped/total proportions"
   ]
  },
  {
   "cell_type": "code",
   "execution_count": null,
   "id": "f9b6fe1b",
   "metadata": {},
   "outputs": [],
   "source": []
  },
  {
   "cell_type": "code",
   "execution_count": 18,
   "id": "e8e1790f",
   "metadata": {},
   "outputs": [],
   "source": [
    "#Initialize a dataframe to store the proportions \n",
    "proportion_df <- data.frame(matrix(ncol = length(unique(obj@meta.data$uid)), nrow = 0))\n",
    "colnames(proportion_df) <- unique(obj@meta.data$patient_sample)\n",
    "\n",
    "for(ct in unique(obj.RNA$subtyped_cell_type)) {\n",
    "    \n",
    "    cell_types_for_sample <- cell_type_mapping[cell_type_mapping$subtype == ct,]\n",
    "    mapping <- cell_type_mapping[cell_type_mapping$subtype == ct,]\n",
    "    \n",
    "    #divide rows by each other \n",
    "    subtype_row = subtype_counts[rownames(subtype_counts) == ct,]\n",
    "    reannotated_row = reannotated_counts[rownames(reannotated_counts) == mapping$reannotated,]\n",
    "    general_row = general_counts[rownames(general_counts) == mapping$general,]\n",
    "    compartment_row = compartment_counts[rownames(compartment_counts) == mapping$compartment,]\n",
    "    all_row = compartment_counts[rownames(compartment_counts) == 'Total',]\n",
    "    \n",
    "    #\n",
    "    subtype_reannot <- subtype_row/reannotated_row\n",
    "    subtype_general <- subtype_row/general_row\n",
    "    subtype_compart <- subtype_row/compartment_row\n",
    "    subtype_all <- subtype_row/all_row\n",
    "    \n",
    "    # put all rows together \n",
    "    subtype_reannot <- subtype_row/reannotated_row\n",
    "    rownames(subtype_reannot) = paste0(ct, '/', mapping$reannotated)\n",
    "    \n",
    "    proportion_df = rbind(proportion_df,subtype_reannot)\n",
    "\n",
    "    \n",
    "    \n",
    "    if(mapping$general != mapping$reannotated) {\n",
    "        subtype_general <- subtype_row/general_row\n",
    "        rownames(subtype_general) = paste0(ct, '/', mapping$general)\n",
    "        proportion_df = rbind(proportion_df,subtype_general)\n",
    "\n",
    "    }\n",
    "    \n",
    "    if(mapping$compartment != mapping$general){\n",
    "\n",
    "    subtype_compartment <- subtype_row/compartment_row\n",
    "    rownames(subtype_compartment) = paste0(ct, '/', mapping$compartment)\n",
    "    #add to proportion df \n",
    "    proportion_df = rbind(proportion_df,subtype_compartment)\n",
    "    }\n",
    "    \n",
    "    subtype_all <- subtype_row/all_row\n",
    "    rownames(subtype_all) = paste0(ct, '/Total')\n",
    "    proportion_df = rbind(proportion_df,subtype_all)\n",
    "\n",
    "}\n",
    "\n",
    "#proportion_df\n",
    "#save the proportions\n",
    "write.csv(proportion_df, paste0(path_to_save, 'subtyped_cell_type_proportions_all_samples_2.csv'))"
   ]
  },
  {
   "cell_type": "markdown",
   "id": "a8c10629",
   "metadata": {},
   "source": [
    "check that you have 4 files with proportions. you should have generated 8 total csvs from this notebook. Check that the files look okay (no missing values, proportions are all < 1). The subtyped cell proportions file should have the most number of rows, followed by the reannotated, general, and compartment proportions. \n",
    "\n",
    "you can run simple tests to check the values of dataframes (will also be in the next notebook). \n",
    "\n",
    "Once you have checked the files, you have finished this part!"
   ]
  }
 ],
 "metadata": {
  "kernelspec": {
   "display_name": "r-kernel",
   "language": "R",
   "name": "r-kernel"
  },
  "language_info": {
   "codemirror_mode": "r",
   "file_extension": ".r",
   "mimetype": "text/x-r-source",
   "name": "R",
   "pygments_lexer": "r",
   "version": "4.2.3"
  }
 },
 "nbformat": 4,
 "nbformat_minor": 5
}
