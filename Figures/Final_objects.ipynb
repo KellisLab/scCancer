{
 "cells": [
  {
   "cell_type": "markdown",
   "id": "eb94293e",
   "metadata": {},
   "source": [
    "# Objects for manuscript"
   ]
  },
  {
   "cell_type": "markdown",
   "id": "2188c3c7",
   "metadata": {},
   "source": [
    "List of objects\n",
    "\n",
    "- 1_RNA_all.rds: RNA object of 215,946 cells with cell type ('cell_type') and subtype ('cell_subtype') labels, RNA and SCT assays used\n",
    "\n",
    "- 2_RNA_integrated_studies.rds/qs: RNA object of integrated studies for Supplementary Figure 2. qs object loads faster.\n",
    "\n",
    "- 3_RNA_tumor_metaprograms.rds: RNA object of only tumor cells with assigned metaprogram ('metaprogram')\n",
    "\n",
    "- 4_RNA_myeloid_cells.rds: RNA object of myeloid cells with subtype labels ('cell_subtype')\n",
    "\n",
    "- 5_RNA_CD8T_cells.rds: RNA object of CD8 T cells with subtypes ('cell_subtype') and the cluster resolution used to form subsets ('SCT_snn_res.0.8', 'seurat_clusters')\n",
    "\n",
    "- 6_RNA_CD4T_cells.rds: RNA object of CD4 T cells with subtypes ('cell_subtype') and the cluster resolution used for form subsets ('SCT_snn_res.0.4')\n",
    "\n",
    "- 7_RNA_cDC_cells.rds: RNA object of cDC cells with subtypes ('cell_subtype')\n",
    "\n",
    "- 8_ATAC_cDC_cells.rds: ATAC object of cDC cells with predicted subtypes ('predicted.id')\n",
    "\n",
    "- 9_coembed_cDC_cells.rds: RNA and ATAC coembed object of cDC cells with subtypes ('Ident')"
   ]
  },
  {
   "cell_type": "code",
   "execution_count": 1,
   "id": "06ee75f5",
   "metadata": {},
   "outputs": [],
   "source": [
    "path_to_objects <- '/net/bmc-lab5/data/kellis/group/scCancer2023/objects_for_DC_manuscript/for_public/'"
   ]
  },
  {
   "cell_type": "markdown",
   "id": "eb1fb690",
   "metadata": {},
   "source": [
    "# 1. RNA all"
   ]
  },
  {
   "cell_type": "code",
   "execution_count": 4,
   "id": "0f22a9af",
   "metadata": {},
   "outputs": [
    {
     "name": "stderr",
     "output_type": "stream",
     "text": [
      "Loading required package: Seurat\n",
      "\n",
      "Seurat v4 was just loaded with SeuratObject v5; disabling v5 assays and\n",
      "validation routines, and ensuring assays work in strict v3/v4\n",
      "compatibility mode\n",
      "\n"
     ]
    },
    {
     "data": {
      "text/plain": [
       "An object of class Seurat \n",
       "56004 features across 215946 samples within 2 assays \n",
       "Active assay: RNA (28295 features, 0 variable features)\n",
       " 2 layers present: counts, data\n",
       " 1 other assay present: SCT\n",
       " 2 dimensional reductions calculated: pca, umap"
      ]
     },
     "metadata": {},
     "output_type": "display_data"
    }
   ],
   "source": [
    "obj.RNA <- readRDS(paste0(path_to_objects, '1_RNA_all.rds'))\n",
    "obj.RNA"
   ]
  },
  {
   "cell_type": "code",
   "execution_count": 12,
   "id": "cb37b97c",
   "metadata": {},
   "outputs": [
    {
     "data": {
      "text/html": [
       "<style>\n",
       ".list-inline {list-style: none; margin:0; padding: 0}\n",
       ".list-inline>li {display: inline-block}\n",
       ".list-inline>li:not(:last-child)::after {content: \"\\00b7\"; padding: 0 .5ex}\n",
       "</style>\n",
       "<ol class=list-inline><li>'patient_sample'</li><li>'patient'</li><li>'sample_ID_long'</li><li>'uid'</li><li>'is_multiplet'</li><li>'cell_barcode'</li><li>'total_counts'</li><li>'percent_mt'</li><li>'percent_ribo'</li><li>'percent_heme'</li><li>'n_genes'</li><li>'compartment'</li><li>'age'</li><li>'sex'</li><li>'subtype'</li><li>'treatment_group'</li><li>'state'</li><li>'response_short'</li><li>'tissue'</li><li>'day'</li><li>'pfs'</li><li>'nCount_RNA'</li><li>'nFeature_RNA'</li><li>'nCount_SCT'</li><li>'nFeature_SCT'</li><li>'S.Score'</li><li>'G2M.Score'</li><li>'Phase'</li><li>'cell_type'</li><li>'cell_subtype'</li><li>'is_mDC_high'</li></ol>\n"
      ],
      "text/latex": [
       "\\begin{enumerate*}\n",
       "\\item 'patient\\_sample'\n",
       "\\item 'patient'\n",
       "\\item 'sample\\_ID\\_long'\n",
       "\\item 'uid'\n",
       "\\item 'is\\_multiplet'\n",
       "\\item 'cell\\_barcode'\n",
       "\\item 'total\\_counts'\n",
       "\\item 'percent\\_mt'\n",
       "\\item 'percent\\_ribo'\n",
       "\\item 'percent\\_heme'\n",
       "\\item 'n\\_genes'\n",
       "\\item 'compartment'\n",
       "\\item 'age'\n",
       "\\item 'sex'\n",
       "\\item 'subtype'\n",
       "\\item 'treatment\\_group'\n",
       "\\item 'state'\n",
       "\\item 'response\\_short'\n",
       "\\item 'tissue'\n",
       "\\item 'day'\n",
       "\\item 'pfs'\n",
       "\\item 'nCount\\_RNA'\n",
       "\\item 'nFeature\\_RNA'\n",
       "\\item 'nCount\\_SCT'\n",
       "\\item 'nFeature\\_SCT'\n",
       "\\item 'S.Score'\n",
       "\\item 'G2M.Score'\n",
       "\\item 'Phase'\n",
       "\\item 'cell\\_type'\n",
       "\\item 'cell\\_subtype'\n",
       "\\item 'is\\_mDC\\_high'\n",
       "\\end{enumerate*}\n"
      ],
      "text/markdown": [
       "1. 'patient_sample'\n",
       "2. 'patient'\n",
       "3. 'sample_ID_long'\n",
       "4. 'uid'\n",
       "5. 'is_multiplet'\n",
       "6. 'cell_barcode'\n",
       "7. 'total_counts'\n",
       "8. 'percent_mt'\n",
       "9. 'percent_ribo'\n",
       "10. 'percent_heme'\n",
       "11. 'n_genes'\n",
       "12. 'compartment'\n",
       "13. 'age'\n",
       "14. 'sex'\n",
       "15. 'subtype'\n",
       "16. 'treatment_group'\n",
       "17. 'state'\n",
       "18. 'response_short'\n",
       "19. 'tissue'\n",
       "20. 'day'\n",
       "21. 'pfs'\n",
       "22. 'nCount_RNA'\n",
       "23. 'nFeature_RNA'\n",
       "24. 'nCount_SCT'\n",
       "25. 'nFeature_SCT'\n",
       "26. 'S.Score'\n",
       "27. 'G2M.Score'\n",
       "28. 'Phase'\n",
       "29. 'cell_type'\n",
       "30. 'cell_subtype'\n",
       "31. 'is_mDC_high'\n",
       "\n",
       "\n"
      ],
      "text/plain": [
       " [1] \"patient_sample\"  \"patient\"         \"sample_ID_long\"  \"uid\"            \n",
       " [5] \"is_multiplet\"    \"cell_barcode\"    \"total_counts\"    \"percent_mt\"     \n",
       " [9] \"percent_ribo\"    \"percent_heme\"    \"n_genes\"         \"compartment\"    \n",
       "[13] \"age\"             \"sex\"             \"subtype\"         \"treatment_group\"\n",
       "[17] \"state\"           \"response_short\"  \"tissue\"          \"day\"            \n",
       "[21] \"pfs\"             \"nCount_RNA\"      \"nFeature_RNA\"    \"nCount_SCT\"     \n",
       "[25] \"nFeature_SCT\"    \"S.Score\"         \"G2M.Score\"       \"Phase\"          \n",
       "[29] \"cell_type\"       \"cell_subtype\"    \"is_mDC_high\"    "
      ]
     },
     "metadata": {},
     "output_type": "display_data"
    },
    {
     "data": {
      "text/html": [
       "<style>\n",
       ".list-inline {list-style: none; margin:0; padding: 0}\n",
       ".list-inline>li {display: inline-block}\n",
       ".list-inline>li:not(:last-child)::after {content: \"\\00b7\"; padding: 0 .5ex}\n",
       "</style>\n",
       "<ol class=list-inline><li>'B'</li><li>'Monocyte/Macrophage'</li><li>'Endothelial'</li><li>'cDC'</li><li>'Fibroblast'</li><li>'Other T'</li><li>'pDC'</li><li>'NK'</li><li>'CD8 T'</li><li>'Tumor'</li><li>'Cycling T'</li><li>'Keratinocyte'</li><li>'CD4 T'</li><li>'Mast'</li></ol>\n"
      ],
      "text/latex": [
       "\\begin{enumerate*}\n",
       "\\item 'B'\n",
       "\\item 'Monocyte/Macrophage'\n",
       "\\item 'Endothelial'\n",
       "\\item 'cDC'\n",
       "\\item 'Fibroblast'\n",
       "\\item 'Other T'\n",
       "\\item 'pDC'\n",
       "\\item 'NK'\n",
       "\\item 'CD8 T'\n",
       "\\item 'Tumor'\n",
       "\\item 'Cycling T'\n",
       "\\item 'Keratinocyte'\n",
       "\\item 'CD4 T'\n",
       "\\item 'Mast'\n",
       "\\end{enumerate*}\n"
      ],
      "text/markdown": [
       "1. 'B'\n",
       "2. 'Monocyte/Macrophage'\n",
       "3. 'Endothelial'\n",
       "4. 'cDC'\n",
       "5. 'Fibroblast'\n",
       "6. 'Other T'\n",
       "7. 'pDC'\n",
       "8. 'NK'\n",
       "9. 'CD8 T'\n",
       "10. 'Tumor'\n",
       "11. 'Cycling T'\n",
       "12. 'Keratinocyte'\n",
       "13. 'CD4 T'\n",
       "14. 'Mast'\n",
       "\n",
       "\n"
      ],
      "text/plain": [
       " [1] \"B\"                   \"Monocyte/Macrophage\" \"Endothelial\"        \n",
       " [4] \"cDC\"                 \"Fibroblast\"          \"Other T\"            \n",
       " [7] \"pDC\"                 \"NK\"                  \"CD8 T\"              \n",
       "[10] \"Tumor\"               \"Cycling T\"           \"Keratinocyte\"       \n",
       "[13] \"CD4 T\"               \"Mast\"               "
      ]
     },
     "metadata": {},
     "output_type": "display_data"
    },
    {
     "data": {
      "text/html": [
       "<style>\n",
       ".list-inline {list-style: none; margin:0; padding: 0}\n",
       ".list-inline>li {display: inline-block}\n",
       ".list-inline>li:not(:last-child)::after {content: \"\\00b7\"; padding: 0 .5ex}\n",
       "</style>\n",
       "<ol class=list-inline><li>'Plasma B'</li><li>'Macrophage M2'</li><li>'Endothelial'</li><li>'cDC1'</li><li>'Macrophage M1'</li><li>'Inflammatory fibroblast'</li><li>'cDC2'</li><li>'DN NKT'</li><li>'Monocyte non-classical'</li><li>'pDC'</li><li>'other T'</li><li>'Monocyte classical'</li><li>'Macrophage tumor-associated'</li><li>'NK'</li><li>'CD8 Texme'</li><li>'CD8 early activated Teff'</li><li>'Myofibroblast'</li><li>'CD8 HNRNPH1+ Teff'</li><li>'CD8 Tex/HS'</li><li>'CD8 Tem'</li><li>'CD8 FTL+ Tex'</li><li>'CD8 GZMK+ Teff'</li><li>'CD8 Tn'</li><li>'CD8 GNLY+ Tex'</li><li>'CD8 NKT'</li><li>'Tumor - NA'</li><li>'Cycling T'</li><li>'mDC'</li><li>'Tumor - Secreted I'</li><li>'Keratinocyte'</li><li>'Tumor - Hypoxia'</li><li>'Tumor - Unassigned'</li><li>'Tumor - Stress'</li><li>'CD4 Tex'</li><li>'Tumor - Respiration'</li><li>'Tumor - Cell Cycle HMG-rich'</li><li>'CD4 Tn'</li><li>'CD4 Treg'</li><li>'CD4 Tm'</li><li>'CD4 CD69+ T'</li><li>'Mast'</li><li>'CD4 NKT'</li><li>'Transitional B'</li><li>'Tumor - Cell Cycle - G2/M'</li><li>'Tumor - Cell Cycle - G1/S'</li><li>'Tumor - Unfolded protein response'</li><li>'Naive B'</li><li>'Tumor - EMT-III'</li><li>'Tumor - MYC'</li><li>'Tumor - Protein maturation'</li><li>'Tumor - Skin-pigmentation'</li><li>'Memory B'</li><li>'Tumor - Interferon/MHC-II (I)'</li><li>'Tumor - Stress (in vitro)'</li><li>'Tumor - Translation initiation'</li><li>'Tumor - Chromatin'</li></ol>\n"
      ],
      "text/latex": [
       "\\begin{enumerate*}\n",
       "\\item 'Plasma B'\n",
       "\\item 'Macrophage M2'\n",
       "\\item 'Endothelial'\n",
       "\\item 'cDC1'\n",
       "\\item 'Macrophage M1'\n",
       "\\item 'Inflammatory fibroblast'\n",
       "\\item 'cDC2'\n",
       "\\item 'DN NKT'\n",
       "\\item 'Monocyte non-classical'\n",
       "\\item 'pDC'\n",
       "\\item 'other T'\n",
       "\\item 'Monocyte classical'\n",
       "\\item 'Macrophage tumor-associated'\n",
       "\\item 'NK'\n",
       "\\item 'CD8 Texme'\n",
       "\\item 'CD8 early activated Teff'\n",
       "\\item 'Myofibroblast'\n",
       "\\item 'CD8 HNRNPH1+ Teff'\n",
       "\\item 'CD8 Tex/HS'\n",
       "\\item 'CD8 Tem'\n",
       "\\item 'CD8 FTL+ Tex'\n",
       "\\item 'CD8 GZMK+ Teff'\n",
       "\\item 'CD8 Tn'\n",
       "\\item 'CD8 GNLY+ Tex'\n",
       "\\item 'CD8 NKT'\n",
       "\\item 'Tumor - NA'\n",
       "\\item 'Cycling T'\n",
       "\\item 'mDC'\n",
       "\\item 'Tumor - Secreted I'\n",
       "\\item 'Keratinocyte'\n",
       "\\item 'Tumor - Hypoxia'\n",
       "\\item 'Tumor - Unassigned'\n",
       "\\item 'Tumor - Stress'\n",
       "\\item 'CD4 Tex'\n",
       "\\item 'Tumor - Respiration'\n",
       "\\item 'Tumor - Cell Cycle HMG-rich'\n",
       "\\item 'CD4 Tn'\n",
       "\\item 'CD4 Treg'\n",
       "\\item 'CD4 Tm'\n",
       "\\item 'CD4 CD69+ T'\n",
       "\\item 'Mast'\n",
       "\\item 'CD4 NKT'\n",
       "\\item 'Transitional B'\n",
       "\\item 'Tumor - Cell Cycle - G2/M'\n",
       "\\item 'Tumor - Cell Cycle - G1/S'\n",
       "\\item 'Tumor - Unfolded protein response'\n",
       "\\item 'Naive B'\n",
       "\\item 'Tumor - EMT-III'\n",
       "\\item 'Tumor - MYC'\n",
       "\\item 'Tumor - Protein maturation'\n",
       "\\item 'Tumor - Skin-pigmentation'\n",
       "\\item 'Memory B'\n",
       "\\item 'Tumor - Interferon/MHC-II (I)'\n",
       "\\item 'Tumor - Stress (in vitro)'\n",
       "\\item 'Tumor - Translation initiation'\n",
       "\\item 'Tumor - Chromatin'\n",
       "\\end{enumerate*}\n"
      ],
      "text/markdown": [
       "1. 'Plasma B'\n",
       "2. 'Macrophage M2'\n",
       "3. 'Endothelial'\n",
       "4. 'cDC1'\n",
       "5. 'Macrophage M1'\n",
       "6. 'Inflammatory fibroblast'\n",
       "7. 'cDC2'\n",
       "8. 'DN NKT'\n",
       "9. 'Monocyte non-classical'\n",
       "10. 'pDC'\n",
       "11. 'other T'\n",
       "12. 'Monocyte classical'\n",
       "13. 'Macrophage tumor-associated'\n",
       "14. 'NK'\n",
       "15. 'CD8 Texme'\n",
       "16. 'CD8 early activated Teff'\n",
       "17. 'Myofibroblast'\n",
       "18. 'CD8 HNRNPH1+ Teff'\n",
       "19. 'CD8 Tex/HS'\n",
       "20. 'CD8 Tem'\n",
       "21. 'CD8 FTL+ Tex'\n",
       "22. 'CD8 GZMK+ Teff'\n",
       "23. 'CD8 Tn'\n",
       "24. 'CD8 GNLY+ Tex'\n",
       "25. 'CD8 NKT'\n",
       "26. 'Tumor - NA'\n",
       "27. 'Cycling T'\n",
       "28. 'mDC'\n",
       "29. 'Tumor - Secreted I'\n",
       "30. 'Keratinocyte'\n",
       "31. 'Tumor - Hypoxia'\n",
       "32. 'Tumor - Unassigned'\n",
       "33. 'Tumor - Stress'\n",
       "34. 'CD4 Tex'\n",
       "35. 'Tumor - Respiration'\n",
       "36. 'Tumor - Cell Cycle HMG-rich'\n",
       "37. 'CD4 Tn'\n",
       "38. 'CD4 Treg'\n",
       "39. 'CD4 Tm'\n",
       "40. 'CD4 CD69+ T'\n",
       "41. 'Mast'\n",
       "42. 'CD4 NKT'\n",
       "43. 'Transitional B'\n",
       "44. 'Tumor - Cell Cycle - G2/M'\n",
       "45. 'Tumor - Cell Cycle - G1/S'\n",
       "46. 'Tumor - Unfolded protein response'\n",
       "47. 'Naive B'\n",
       "48. 'Tumor - EMT-III'\n",
       "49. 'Tumor - MYC'\n",
       "50. 'Tumor - Protein maturation'\n",
       "51. 'Tumor - Skin-pigmentation'\n",
       "52. 'Memory B'\n",
       "53. 'Tumor - Interferon/MHC-II (I)'\n",
       "54. 'Tumor - Stress (in vitro)'\n",
       "55. 'Tumor - Translation initiation'\n",
       "56. 'Tumor - Chromatin'\n",
       "\n",
       "\n"
      ],
      "text/plain": [
       " [1] \"Plasma B\"                          \"Macrophage M2\"                    \n",
       " [3] \"Endothelial\"                       \"cDC1\"                             \n",
       " [5] \"Macrophage M1\"                     \"Inflammatory fibroblast\"          \n",
       " [7] \"cDC2\"                              \"DN NKT\"                           \n",
       " [9] \"Monocyte non-classical\"            \"pDC\"                              \n",
       "[11] \"other T\"                           \"Monocyte classical\"               \n",
       "[13] \"Macrophage tumor-associated\"       \"NK\"                               \n",
       "[15] \"CD8 Texme\"                         \"CD8 early activated Teff\"         \n",
       "[17] \"Myofibroblast\"                     \"CD8 HNRNPH1+ Teff\"                \n",
       "[19] \"CD8 Tex/HS\"                        \"CD8 Tem\"                          \n",
       "[21] \"CD8 FTL+ Tex\"                      \"CD8 GZMK+ Teff\"                   \n",
       "[23] \"CD8 Tn\"                            \"CD8 GNLY+ Tex\"                    \n",
       "[25] \"CD8 NKT\"                           \"Tumor - NA\"                       \n",
       "[27] \"Cycling T\"                         \"mDC\"                              \n",
       "[29] \"Tumor - Secreted I\"                \"Keratinocyte\"                     \n",
       "[31] \"Tumor - Hypoxia\"                   \"Tumor - Unassigned\"               \n",
       "[33] \"Tumor - Stress\"                    \"CD4 Tex\"                          \n",
       "[35] \"Tumor - Respiration\"               \"Tumor - Cell Cycle HMG-rich\"      \n",
       "[37] \"CD4 Tn\"                            \"CD4 Treg\"                         \n",
       "[39] \"CD4 Tm\"                            \"CD4 CD69+ T\"                      \n",
       "[41] \"Mast\"                              \"CD4 NKT\"                          \n",
       "[43] \"Transitional B\"                    \"Tumor - Cell Cycle - G2/M\"        \n",
       "[45] \"Tumor - Cell Cycle - G1/S\"         \"Tumor - Unfolded protein response\"\n",
       "[47] \"Naive B\"                           \"Tumor - EMT-III\"                  \n",
       "[49] \"Tumor - MYC\"                       \"Tumor - Protein maturation\"       \n",
       "[51] \"Tumor - Skin-pigmentation\"         \"Memory B\"                         \n",
       "[53] \"Tumor - Interferon/MHC-II (I)\"     \"Tumor - Stress (in vitro)\"        \n",
       "[55] \"Tumor - Translation initiation\"    \"Tumor - Chromatin\"                "
      ]
     },
     "metadata": {},
     "output_type": "display_data"
    }
   ],
   "source": [
    "colnames(obj.RNA@meta.data)\n",
    "unique(obj.RNA$cell_type)\n",
    "unique(obj.RNA$cell_subtype)"
   ]
  },
  {
   "cell_type": "markdown",
   "id": "f860adf4",
   "metadata": {},
   "source": [
    "# 2. RNA integrated studies"
   ]
  },
  {
   "cell_type": "code",
   "execution_count": 13,
   "id": "2f9a4d95",
   "metadata": {},
   "outputs": [
    {
     "data": {
      "text/plain": [
       "An object of class Seurat \n",
       "68629 features across 352966 samples within 3 assays \n",
       "Active assay: RNA (38920 features, 0 variable features)\n",
       " 2 layers present: counts, data\n",
       " 2 other assays present: SCT, integrated\n",
       " 2 dimensional reductions calculated: pca, umap"
      ]
     },
     "metadata": {},
     "output_type": "display_data"
    }
   ],
   "source": [
    "obj.RNA.integrated <- readRDS(paste0(path_to_objects, '2_RNA_integrated_studies.rds'))\n",
    "obj.RNA.integrated"
   ]
  },
  {
   "cell_type": "code",
   "execution_count": 16,
   "id": "68153e82",
   "metadata": {},
   "outputs": [
    {
     "data": {
      "text/html": [
       "<style>\n",
       ".list-inline {list-style: none; margin:0; padding: 0}\n",
       ".list-inline>li {display: inline-block}\n",
       ".list-inline>li:not(:last-child)::after {content: \"\\00b7\"; padding: 0 .5ex}\n",
       "</style>\n",
       "<ol class=list-inline><li>'orig.ident'</li><li>'study'</li><li>'cell_type'</li><li>'cell_subtype'</li><li>'count.type'</li></ol>\n"
      ],
      "text/latex": [
       "\\begin{enumerate*}\n",
       "\\item 'orig.ident'\n",
       "\\item 'study'\n",
       "\\item 'cell\\_type'\n",
       "\\item 'cell\\_subtype'\n",
       "\\item 'count.type'\n",
       "\\end{enumerate*}\n"
      ],
      "text/markdown": [
       "1. 'orig.ident'\n",
       "2. 'study'\n",
       "3. 'cell_type'\n",
       "4. 'cell_subtype'\n",
       "5. 'count.type'\n",
       "\n",
       "\n"
      ],
      "text/plain": [
       "[1] \"orig.ident\"   \"study\"        \"cell_type\"    \"cell_subtype\" \"count.type\"  "
      ]
     },
     "metadata": {},
     "output_type": "display_data"
    },
    {
     "data": {
      "text/html": [
       "<style>\n",
       ".list-inline {list-style: none; margin:0; padding: 0}\n",
       ".list-inline>li {display: inline-block}\n",
       ".list-inline>li:not(:last-child)::after {content: \"\\00b7\"; padding: 0 .5ex}\n",
       "</style>\n",
       "<ol class=list-inline><li>B</li><li>Monocyte/Macrophage</li><li>Endothelial</li><li>cDC</li><li>Fibroblast</li><li>Other T</li><li>pDC</li><li>NK</li><li>CD8 T</li><li>Tumor</li><li>Cycling T</li><li>Keratinocyte</li><li>CD4 T</li><li>Mast</li></ol>\n",
       "\n",
       "<details>\n",
       "\t<summary style=display:list-item;cursor:pointer>\n",
       "\t\t<strong>Levels</strong>:\n",
       "\t</summary>\n",
       "\t<style>\n",
       "\t.list-inline {list-style: none; margin:0; padding: 0}\n",
       "\t.list-inline>li {display: inline-block}\n",
       "\t.list-inline>li:not(:last-child)::after {content: \"\\00b7\"; padding: 0 .5ex}\n",
       "\t</style>\n",
       "\t<ol class=list-inline><li>'Keratinocyte'</li><li>'Fibroblast'</li><li>'Endothelial'</li><li>'Mast'</li><li>'pDC'</li><li>'cDC'</li><li>'Monocyte/Macrophage'</li><li>'B'</li><li>'NK'</li><li>'Cycling T'</li><li>'Other T'</li><li>'CD4 T'</li><li>'CD8 T'</li><li>'Tumor'</li></ol>\n",
       "</details>"
      ],
      "text/latex": [
       "\\begin{enumerate*}\n",
       "\\item B\n",
       "\\item Monocyte/Macrophage\n",
       "\\item Endothelial\n",
       "\\item cDC\n",
       "\\item Fibroblast\n",
       "\\item Other T\n",
       "\\item pDC\n",
       "\\item NK\n",
       "\\item CD8 T\n",
       "\\item Tumor\n",
       "\\item Cycling T\n",
       "\\item Keratinocyte\n",
       "\\item CD4 T\n",
       "\\item Mast\n",
       "\\end{enumerate*}\n",
       "\n",
       "\\emph{Levels}: \\begin{enumerate*}\n",
       "\\item 'Keratinocyte'\n",
       "\\item 'Fibroblast'\n",
       "\\item 'Endothelial'\n",
       "\\item 'Mast'\n",
       "\\item 'pDC'\n",
       "\\item 'cDC'\n",
       "\\item 'Monocyte/Macrophage'\n",
       "\\item 'B'\n",
       "\\item 'NK'\n",
       "\\item 'Cycling T'\n",
       "\\item 'Other T'\n",
       "\\item 'CD4 T'\n",
       "\\item 'CD8 T'\n",
       "\\item 'Tumor'\n",
       "\\end{enumerate*}\n"
      ],
      "text/markdown": [
       "1. B\n",
       "2. Monocyte/Macrophage\n",
       "3. Endothelial\n",
       "4. cDC\n",
       "5. Fibroblast\n",
       "6. Other T\n",
       "7. pDC\n",
       "8. NK\n",
       "9. CD8 T\n",
       "10. Tumor\n",
       "11. Cycling T\n",
       "12. Keratinocyte\n",
       "13. CD4 T\n",
       "14. Mast\n",
       "\n",
       "\n",
       "\n",
       "**Levels**: 1. 'Keratinocyte'\n",
       "2. 'Fibroblast'\n",
       "3. 'Endothelial'\n",
       "4. 'Mast'\n",
       "5. 'pDC'\n",
       "6. 'cDC'\n",
       "7. 'Monocyte/Macrophage'\n",
       "8. 'B'\n",
       "9. 'NK'\n",
       "10. 'Cycling T'\n",
       "11. 'Other T'\n",
       "12. 'CD4 T'\n",
       "13. 'CD8 T'\n",
       "14. 'Tumor'\n",
       "\n",
       "\n"
      ],
      "text/plain": [
       " [1] B                   Monocyte/Macrophage Endothelial        \n",
       " [4] cDC                 Fibroblast          Other T            \n",
       " [7] pDC                 NK                  CD8 T              \n",
       "[10] Tumor               Cycling T           Keratinocyte       \n",
       "[13] CD4 T               Mast               \n",
       "14 Levels: Keratinocyte Fibroblast Endothelial Mast pDC ... Tumor"
      ]
     },
     "metadata": {},
     "output_type": "display_data"
    },
    {
     "data": {
      "text/html": [
       "<style>\n",
       ".list-inline {list-style: none; margin:0; padding: 0}\n",
       ".list-inline>li {display: inline-block}\n",
       ".list-inline>li:not(:last-child)::after {content: \"\\00b7\"; padding: 0 .5ex}\n",
       "</style>\n",
       "<ol class=list-inline><li>'Plasma B'</li><li>'Macrophage M2'</li><li>'Endothelial'</li><li>'cDC1'</li><li>'Macrophage M1'</li><li>'Inflammatory fibroblast'</li><li>'cDC2'</li><li>'DN NKT'</li><li>'Monocyte non-classical'</li><li>'pDC'</li><li>'other T'</li><li>'Monocyte classical'</li><li>'Macrophage tumor-associated'</li><li>'NK'</li><li>'CD8 Texme'</li><li>'CD8 early activated Teff'</li><li>'Myofibroblast'</li><li>'CD8 HNRNPH1+ Teff'</li><li>'CD8 Tex/HS'</li><li>'CD8 Tem'</li><li>'CD8 FTL+ Tex'</li><li>'CD8 GZMK+ Teff'</li><li>'CD8 Tn'</li><li>'CD8 GNLY+ Tex'</li><li>'CD8 NKT'</li><li>'Tumor'</li><li>'Cycling T'</li><li>'mDC'</li><li>'Tumor - NA'</li><li>'Tumor - Secreted I'</li><li>'Keratinocyte'</li><li>'Tumor - Hypoxia'</li><li>'Tumor - Unassigned'</li><li>'Tumor - Stress'</li><li>'CD4 Tex'</li><li>'Tumor - Respiration'</li><li>'Tumor - Cell Cycle HMG-rich'</li><li>'CD4 Tn'</li><li>'CD4 Treg'</li><li>'CD4 Tm'</li><li>'CD4 CD69+ T'</li><li>'Mast'</li><li>'CD4 NKT'</li><li>'Transitional B'</li><li>'Tumor - Cell Cycle - G2/M'</li><li>'Tumor - Cell Cycle - G1/S'</li><li>'Tumor - Unfolded protein response'</li><li>'Naive B'</li><li>'Tumor - EMT-III'</li><li>'Tumor - MYC'</li><li>'Tumor - Protein maturation'</li><li>'Tumor - Skin-pigmentation'</li><li>'Memory B'</li><li>'Tumor - Interferon/MHC-II (I)'</li><li>'Tumor - Stress (in vitro)'</li><li>'Tumor - Translation initiation'</li><li>'Tumor - Chromatin'</li><li>'Tumor - EMT-I'</li></ol>\n"
      ],
      "text/latex": [
       "\\begin{enumerate*}\n",
       "\\item 'Plasma B'\n",
       "\\item 'Macrophage M2'\n",
       "\\item 'Endothelial'\n",
       "\\item 'cDC1'\n",
       "\\item 'Macrophage M1'\n",
       "\\item 'Inflammatory fibroblast'\n",
       "\\item 'cDC2'\n",
       "\\item 'DN NKT'\n",
       "\\item 'Monocyte non-classical'\n",
       "\\item 'pDC'\n",
       "\\item 'other T'\n",
       "\\item 'Monocyte classical'\n",
       "\\item 'Macrophage tumor-associated'\n",
       "\\item 'NK'\n",
       "\\item 'CD8 Texme'\n",
       "\\item 'CD8 early activated Teff'\n",
       "\\item 'Myofibroblast'\n",
       "\\item 'CD8 HNRNPH1+ Teff'\n",
       "\\item 'CD8 Tex/HS'\n",
       "\\item 'CD8 Tem'\n",
       "\\item 'CD8 FTL+ Tex'\n",
       "\\item 'CD8 GZMK+ Teff'\n",
       "\\item 'CD8 Tn'\n",
       "\\item 'CD8 GNLY+ Tex'\n",
       "\\item 'CD8 NKT'\n",
       "\\item 'Tumor'\n",
       "\\item 'Cycling T'\n",
       "\\item 'mDC'\n",
       "\\item 'Tumor - NA'\n",
       "\\item 'Tumor - Secreted I'\n",
       "\\item 'Keratinocyte'\n",
       "\\item 'Tumor - Hypoxia'\n",
       "\\item 'Tumor - Unassigned'\n",
       "\\item 'Tumor - Stress'\n",
       "\\item 'CD4 Tex'\n",
       "\\item 'Tumor - Respiration'\n",
       "\\item 'Tumor - Cell Cycle HMG-rich'\n",
       "\\item 'CD4 Tn'\n",
       "\\item 'CD4 Treg'\n",
       "\\item 'CD4 Tm'\n",
       "\\item 'CD4 CD69+ T'\n",
       "\\item 'Mast'\n",
       "\\item 'CD4 NKT'\n",
       "\\item 'Transitional B'\n",
       "\\item 'Tumor - Cell Cycle - G2/M'\n",
       "\\item 'Tumor - Cell Cycle - G1/S'\n",
       "\\item 'Tumor - Unfolded protein response'\n",
       "\\item 'Naive B'\n",
       "\\item 'Tumor - EMT-III'\n",
       "\\item 'Tumor - MYC'\n",
       "\\item 'Tumor - Protein maturation'\n",
       "\\item 'Tumor - Skin-pigmentation'\n",
       "\\item 'Memory B'\n",
       "\\item 'Tumor - Interferon/MHC-II (I)'\n",
       "\\item 'Tumor - Stress (in vitro)'\n",
       "\\item 'Tumor - Translation initiation'\n",
       "\\item 'Tumor - Chromatin'\n",
       "\\item 'Tumor - EMT-I'\n",
       "\\end{enumerate*}\n"
      ],
      "text/markdown": [
       "1. 'Plasma B'\n",
       "2. 'Macrophage M2'\n",
       "3. 'Endothelial'\n",
       "4. 'cDC1'\n",
       "5. 'Macrophage M1'\n",
       "6. 'Inflammatory fibroblast'\n",
       "7. 'cDC2'\n",
       "8. 'DN NKT'\n",
       "9. 'Monocyte non-classical'\n",
       "10. 'pDC'\n",
       "11. 'other T'\n",
       "12. 'Monocyte classical'\n",
       "13. 'Macrophage tumor-associated'\n",
       "14. 'NK'\n",
       "15. 'CD8 Texme'\n",
       "16. 'CD8 early activated Teff'\n",
       "17. 'Myofibroblast'\n",
       "18. 'CD8 HNRNPH1+ Teff'\n",
       "19. 'CD8 Tex/HS'\n",
       "20. 'CD8 Tem'\n",
       "21. 'CD8 FTL+ Tex'\n",
       "22. 'CD8 GZMK+ Teff'\n",
       "23. 'CD8 Tn'\n",
       "24. 'CD8 GNLY+ Tex'\n",
       "25. 'CD8 NKT'\n",
       "26. 'Tumor'\n",
       "27. 'Cycling T'\n",
       "28. 'mDC'\n",
       "29. 'Tumor - NA'\n",
       "30. 'Tumor - Secreted I'\n",
       "31. 'Keratinocyte'\n",
       "32. 'Tumor - Hypoxia'\n",
       "33. 'Tumor - Unassigned'\n",
       "34. 'Tumor - Stress'\n",
       "35. 'CD4 Tex'\n",
       "36. 'Tumor - Respiration'\n",
       "37. 'Tumor - Cell Cycle HMG-rich'\n",
       "38. 'CD4 Tn'\n",
       "39. 'CD4 Treg'\n",
       "40. 'CD4 Tm'\n",
       "41. 'CD4 CD69+ T'\n",
       "42. 'Mast'\n",
       "43. 'CD4 NKT'\n",
       "44. 'Transitional B'\n",
       "45. 'Tumor - Cell Cycle - G2/M'\n",
       "46. 'Tumor - Cell Cycle - G1/S'\n",
       "47. 'Tumor - Unfolded protein response'\n",
       "48. 'Naive B'\n",
       "49. 'Tumor - EMT-III'\n",
       "50. 'Tumor - MYC'\n",
       "51. 'Tumor - Protein maturation'\n",
       "52. 'Tumor - Skin-pigmentation'\n",
       "53. 'Memory B'\n",
       "54. 'Tumor - Interferon/MHC-II (I)'\n",
       "55. 'Tumor - Stress (in vitro)'\n",
       "56. 'Tumor - Translation initiation'\n",
       "57. 'Tumor - Chromatin'\n",
       "58. 'Tumor - EMT-I'\n",
       "\n",
       "\n"
      ],
      "text/plain": [
       " [1] \"Plasma B\"                          \"Macrophage M2\"                    \n",
       " [3] \"Endothelial\"                       \"cDC1\"                             \n",
       " [5] \"Macrophage M1\"                     \"Inflammatory fibroblast\"          \n",
       " [7] \"cDC2\"                              \"DN NKT\"                           \n",
       " [9] \"Monocyte non-classical\"            \"pDC\"                              \n",
       "[11] \"other T\"                           \"Monocyte classical\"               \n",
       "[13] \"Macrophage tumor-associated\"       \"NK\"                               \n",
       "[15] \"CD8 Texme\"                         \"CD8 early activated Teff\"         \n",
       "[17] \"Myofibroblast\"                     \"CD8 HNRNPH1+ Teff\"                \n",
       "[19] \"CD8 Tex/HS\"                        \"CD8 Tem\"                          \n",
       "[21] \"CD8 FTL+ Tex\"                      \"CD8 GZMK+ Teff\"                   \n",
       "[23] \"CD8 Tn\"                            \"CD8 GNLY+ Tex\"                    \n",
       "[25] \"CD8 NKT\"                           \"Tumor\"                            \n",
       "[27] \"Cycling T\"                         \"mDC\"                              \n",
       "[29] \"Tumor - NA\"                        \"Tumor - Secreted I\"               \n",
       "[31] \"Keratinocyte\"                      \"Tumor - Hypoxia\"                  \n",
       "[33] \"Tumor - Unassigned\"                \"Tumor - Stress\"                   \n",
       "[35] \"CD4 Tex\"                           \"Tumor - Respiration\"              \n",
       "[37] \"Tumor - Cell Cycle HMG-rich\"       \"CD4 Tn\"                           \n",
       "[39] \"CD4 Treg\"                          \"CD4 Tm\"                           \n",
       "[41] \"CD4 CD69+ T\"                       \"Mast\"                             \n",
       "[43] \"CD4 NKT\"                           \"Transitional B\"                   \n",
       "[45] \"Tumor - Cell Cycle - G2/M\"         \"Tumor - Cell Cycle - G1/S\"        \n",
       "[47] \"Tumor - Unfolded protein response\" \"Naive B\"                          \n",
       "[49] \"Tumor - EMT-III\"                   \"Tumor - MYC\"                      \n",
       "[51] \"Tumor - Protein maturation\"        \"Tumor - Skin-pigmentation\"        \n",
       "[53] \"Memory B\"                          \"Tumor - Interferon/MHC-II (I)\"    \n",
       "[55] \"Tumor - Stress (in vitro)\"         \"Tumor - Translation initiation\"   \n",
       "[57] \"Tumor - Chromatin\"                 \"Tumor - EMT-I\"                    "
      ]
     },
     "metadata": {},
     "output_type": "display_data"
    }
   ],
   "source": [
    "colnames(obj.RNA.integrated@meta.data)\n",
    "unique(obj.RNA.integrated$cell_type)\n",
    "unique(obj.RNA.integrated$cell_subtype)"
   ]
  },
  {
   "cell_type": "code",
   "execution_count": 14,
   "id": "55e5bb99",
   "metadata": {},
   "outputs": [],
   "source": [
    "obj.RNA.integrated@meta.data[obj.RNA.integrated$cell_subtype == 'mregDC',]$cell_subtype = 'mDC'"
   ]
  },
  {
   "cell_type": "code",
   "execution_count": 17,
   "id": "d26b7fdb",
   "metadata": {},
   "outputs": [],
   "source": [
    "saveRDS(obj.RNA.integrated, paste0(path_to_objects, '2_RNA_integrated_studies.rds'))"
   ]
  },
  {
   "cell_type": "markdown",
   "id": "6cdda3eb",
   "metadata": {},
   "source": [
    "### check that they match "
   ]
  },
  {
   "cell_type": "code",
   "execution_count": 18,
   "id": "05d01817",
   "metadata": {},
   "outputs": [
    {
     "data": {
      "text/plain": [
       "An object of class Seurat \n",
       "68629 features across 352966 samples within 3 assays \n",
       "Active assay: RNA (38920 features, 0 variable features)\n",
       " 2 layers present: counts, data\n",
       " 2 other assays present: SCT, integrated\n",
       " 2 dimensional reductions calculated: pca, umap"
      ]
     },
     "metadata": {},
     "output_type": "display_data"
    }
   ],
   "source": [
    "library(qs)\n",
    "obj.RNA.integrated <- qread(paste0(path_to_objects, '2_RNA_integrated_studies.qs'))\n",
    "obj.RNA.integrated"
   ]
  },
  {
   "cell_type": "code",
   "execution_count": 23,
   "id": "fa72193b",
   "metadata": {},
   "outputs": [
    {
     "data": {
      "text/html": [
       "<style>\n",
       ".list-inline {list-style: none; margin:0; padding: 0}\n",
       ".list-inline>li {display: inline-block}\n",
       ".list-inline>li:not(:last-child)::after {content: \"\\00b7\"; padding: 0 .5ex}\n",
       "</style>\n",
       "<ol class=list-inline><li>'orig.ident'</li><li>'study'</li><li>'cell_type'</li><li>'cell_subtype'</li><li>'count.type'</li></ol>\n"
      ],
      "text/latex": [
       "\\begin{enumerate*}\n",
       "\\item 'orig.ident'\n",
       "\\item 'study'\n",
       "\\item 'cell\\_type'\n",
       "\\item 'cell\\_subtype'\n",
       "\\item 'count.type'\n",
       "\\end{enumerate*}\n"
      ],
      "text/markdown": [
       "1. 'orig.ident'\n",
       "2. 'study'\n",
       "3. 'cell_type'\n",
       "4. 'cell_subtype'\n",
       "5. 'count.type'\n",
       "\n",
       "\n"
      ],
      "text/plain": [
       "[1] \"orig.ident\"   \"study\"        \"cell_type\"    \"cell_subtype\" \"count.type\"  "
      ]
     },
     "metadata": {},
     "output_type": "display_data"
    },
    {
     "data": {
      "text/html": [
       "<style>\n",
       ".list-inline {list-style: none; margin:0; padding: 0}\n",
       ".list-inline>li {display: inline-block}\n",
       ".list-inline>li:not(:last-child)::after {content: \"\\00b7\"; padding: 0 .5ex}\n",
       "</style>\n",
       "<ol class=list-inline><li>B</li><li>Monocyte/Macrophage</li><li>Endothelial</li><li>cDC</li><li>Fibroblast</li><li>Other T</li><li>pDC</li><li>NK</li><li>CD8 T</li><li>Tumor</li><li>Cycling T</li><li>Keratinocyte</li><li>CD4 T</li><li>Mast</li></ol>\n",
       "\n",
       "<details>\n",
       "\t<summary style=display:list-item;cursor:pointer>\n",
       "\t\t<strong>Levels</strong>:\n",
       "\t</summary>\n",
       "\t<style>\n",
       "\t.list-inline {list-style: none; margin:0; padding: 0}\n",
       "\t.list-inline>li {display: inline-block}\n",
       "\t.list-inline>li:not(:last-child)::after {content: \"\\00b7\"; padding: 0 .5ex}\n",
       "\t</style>\n",
       "\t<ol class=list-inline><li>'Keratinocyte'</li><li>'Fibroblast'</li><li>'Endothelial'</li><li>'Mast'</li><li>'pDC'</li><li>'cDC'</li><li>'Monocyte/Macrophage'</li><li>'B'</li><li>'NK'</li><li>'Cycling T'</li><li>'Other T'</li><li>'CD4 T'</li><li>'CD8 T'</li><li>'Tumor'</li></ol>\n",
       "</details>"
      ],
      "text/latex": [
       "\\begin{enumerate*}\n",
       "\\item B\n",
       "\\item Monocyte/Macrophage\n",
       "\\item Endothelial\n",
       "\\item cDC\n",
       "\\item Fibroblast\n",
       "\\item Other T\n",
       "\\item pDC\n",
       "\\item NK\n",
       "\\item CD8 T\n",
       "\\item Tumor\n",
       "\\item Cycling T\n",
       "\\item Keratinocyte\n",
       "\\item CD4 T\n",
       "\\item Mast\n",
       "\\end{enumerate*}\n",
       "\n",
       "\\emph{Levels}: \\begin{enumerate*}\n",
       "\\item 'Keratinocyte'\n",
       "\\item 'Fibroblast'\n",
       "\\item 'Endothelial'\n",
       "\\item 'Mast'\n",
       "\\item 'pDC'\n",
       "\\item 'cDC'\n",
       "\\item 'Monocyte/Macrophage'\n",
       "\\item 'B'\n",
       "\\item 'NK'\n",
       "\\item 'Cycling T'\n",
       "\\item 'Other T'\n",
       "\\item 'CD4 T'\n",
       "\\item 'CD8 T'\n",
       "\\item 'Tumor'\n",
       "\\end{enumerate*}\n"
      ],
      "text/markdown": [
       "1. B\n",
       "2. Monocyte/Macrophage\n",
       "3. Endothelial\n",
       "4. cDC\n",
       "5. Fibroblast\n",
       "6. Other T\n",
       "7. pDC\n",
       "8. NK\n",
       "9. CD8 T\n",
       "10. Tumor\n",
       "11. Cycling T\n",
       "12. Keratinocyte\n",
       "13. CD4 T\n",
       "14. Mast\n",
       "\n",
       "\n",
       "\n",
       "**Levels**: 1. 'Keratinocyte'\n",
       "2. 'Fibroblast'\n",
       "3. 'Endothelial'\n",
       "4. 'Mast'\n",
       "5. 'pDC'\n",
       "6. 'cDC'\n",
       "7. 'Monocyte/Macrophage'\n",
       "8. 'B'\n",
       "9. 'NK'\n",
       "10. 'Cycling T'\n",
       "11. 'Other T'\n",
       "12. 'CD4 T'\n",
       "13. 'CD8 T'\n",
       "14. 'Tumor'\n",
       "\n",
       "\n"
      ],
      "text/plain": [
       " [1] B                   Monocyte/Macrophage Endothelial        \n",
       " [4] cDC                 Fibroblast          Other T            \n",
       " [7] pDC                 NK                  CD8 T              \n",
       "[10] Tumor               Cycling T           Keratinocyte       \n",
       "[13] CD4 T               Mast               \n",
       "14 Levels: Keratinocyte Fibroblast Endothelial Mast pDC ... Tumor"
      ]
     },
     "metadata": {},
     "output_type": "display_data"
    },
    {
     "data": {
      "text/html": [
       "<style>\n",
       ".list-inline {list-style: none; margin:0; padding: 0}\n",
       ".list-inline>li {display: inline-block}\n",
       ".list-inline>li:not(:last-child)::after {content: \"\\00b7\"; padding: 0 .5ex}\n",
       "</style>\n",
       "<ol class=list-inline><li>'Plasma B'</li><li>'Macrophage M2'</li><li>'Endothelial'</li><li>'cDC1'</li><li>'Macrophage M1'</li><li>'Inflammatory fibroblast'</li><li>'cDC2'</li><li>'DN NKT'</li><li>'Monocyte non-classical'</li><li>'pDC'</li><li>'other T'</li><li>'Monocyte classical'</li><li>'Macrophage tumor-associated'</li><li>'NK'</li><li>'CD8 Texme'</li><li>'CD8 early activated Teff'</li><li>'Myofibroblast'</li><li>'CD8 HNRNPH1+ Teff'</li><li>'CD8 Tex/HS'</li><li>'CD8 Tem'</li><li>'CD8 FTL+ Tex'</li><li>'CD8 GZMK+ Teff'</li><li>'CD8 Tn'</li><li>'CD8 GNLY+ Tex'</li><li>'CD8 NKT'</li><li>'Tumor'</li><li>'Cycling T'</li><li>'mDC'</li><li>'Tumor - NA'</li><li>'Tumor - Secreted I'</li><li>'Keratinocyte'</li><li>'Tumor - Hypoxia'</li><li>'Tumor - Unassigned'</li><li>'Tumor - Stress'</li><li>'CD4 Tex'</li><li>'Tumor - Respiration'</li><li>'Tumor - Cell Cycle HMG-rich'</li><li>'CD4 Tn'</li><li>'CD4 Treg'</li><li>'CD4 Tm'</li><li>'CD4 CD69+ T'</li><li>'Mast'</li><li>'CD4 NKT'</li><li>'Transitional B'</li><li>'Tumor - Cell Cycle - G2/M'</li><li>'Tumor - Cell Cycle - G1/S'</li><li>'Tumor - Unfolded protein response'</li><li>'Naive B'</li><li>'Tumor - EMT-III'</li><li>'Tumor - MYC'</li><li>'Tumor - Protein maturation'</li><li>'Tumor - Skin-pigmentation'</li><li>'Memory B'</li><li>'Tumor - Interferon/MHC-II (I)'</li><li>'Tumor - Stress (in vitro)'</li><li>'Tumor - Translation initiation'</li><li>'Tumor - Chromatin'</li><li>'Tumor - EMT-I'</li></ol>\n"
      ],
      "text/latex": [
       "\\begin{enumerate*}\n",
       "\\item 'Plasma B'\n",
       "\\item 'Macrophage M2'\n",
       "\\item 'Endothelial'\n",
       "\\item 'cDC1'\n",
       "\\item 'Macrophage M1'\n",
       "\\item 'Inflammatory fibroblast'\n",
       "\\item 'cDC2'\n",
       "\\item 'DN NKT'\n",
       "\\item 'Monocyte non-classical'\n",
       "\\item 'pDC'\n",
       "\\item 'other T'\n",
       "\\item 'Monocyte classical'\n",
       "\\item 'Macrophage tumor-associated'\n",
       "\\item 'NK'\n",
       "\\item 'CD8 Texme'\n",
       "\\item 'CD8 early activated Teff'\n",
       "\\item 'Myofibroblast'\n",
       "\\item 'CD8 HNRNPH1+ Teff'\n",
       "\\item 'CD8 Tex/HS'\n",
       "\\item 'CD8 Tem'\n",
       "\\item 'CD8 FTL+ Tex'\n",
       "\\item 'CD8 GZMK+ Teff'\n",
       "\\item 'CD8 Tn'\n",
       "\\item 'CD8 GNLY+ Tex'\n",
       "\\item 'CD8 NKT'\n",
       "\\item 'Tumor'\n",
       "\\item 'Cycling T'\n",
       "\\item 'mDC'\n",
       "\\item 'Tumor - NA'\n",
       "\\item 'Tumor - Secreted I'\n",
       "\\item 'Keratinocyte'\n",
       "\\item 'Tumor - Hypoxia'\n",
       "\\item 'Tumor - Unassigned'\n",
       "\\item 'Tumor - Stress'\n",
       "\\item 'CD4 Tex'\n",
       "\\item 'Tumor - Respiration'\n",
       "\\item 'Tumor - Cell Cycle HMG-rich'\n",
       "\\item 'CD4 Tn'\n",
       "\\item 'CD4 Treg'\n",
       "\\item 'CD4 Tm'\n",
       "\\item 'CD4 CD69+ T'\n",
       "\\item 'Mast'\n",
       "\\item 'CD4 NKT'\n",
       "\\item 'Transitional B'\n",
       "\\item 'Tumor - Cell Cycle - G2/M'\n",
       "\\item 'Tumor - Cell Cycle - G1/S'\n",
       "\\item 'Tumor - Unfolded protein response'\n",
       "\\item 'Naive B'\n",
       "\\item 'Tumor - EMT-III'\n",
       "\\item 'Tumor - MYC'\n",
       "\\item 'Tumor - Protein maturation'\n",
       "\\item 'Tumor - Skin-pigmentation'\n",
       "\\item 'Memory B'\n",
       "\\item 'Tumor - Interferon/MHC-II (I)'\n",
       "\\item 'Tumor - Stress (in vitro)'\n",
       "\\item 'Tumor - Translation initiation'\n",
       "\\item 'Tumor - Chromatin'\n",
       "\\item 'Tumor - EMT-I'\n",
       "\\end{enumerate*}\n"
      ],
      "text/markdown": [
       "1. 'Plasma B'\n",
       "2. 'Macrophage M2'\n",
       "3. 'Endothelial'\n",
       "4. 'cDC1'\n",
       "5. 'Macrophage M1'\n",
       "6. 'Inflammatory fibroblast'\n",
       "7. 'cDC2'\n",
       "8. 'DN NKT'\n",
       "9. 'Monocyte non-classical'\n",
       "10. 'pDC'\n",
       "11. 'other T'\n",
       "12. 'Monocyte classical'\n",
       "13. 'Macrophage tumor-associated'\n",
       "14. 'NK'\n",
       "15. 'CD8 Texme'\n",
       "16. 'CD8 early activated Teff'\n",
       "17. 'Myofibroblast'\n",
       "18. 'CD8 HNRNPH1+ Teff'\n",
       "19. 'CD8 Tex/HS'\n",
       "20. 'CD8 Tem'\n",
       "21. 'CD8 FTL+ Tex'\n",
       "22. 'CD8 GZMK+ Teff'\n",
       "23. 'CD8 Tn'\n",
       "24. 'CD8 GNLY+ Tex'\n",
       "25. 'CD8 NKT'\n",
       "26. 'Tumor'\n",
       "27. 'Cycling T'\n",
       "28. 'mDC'\n",
       "29. 'Tumor - NA'\n",
       "30. 'Tumor - Secreted I'\n",
       "31. 'Keratinocyte'\n",
       "32. 'Tumor - Hypoxia'\n",
       "33. 'Tumor - Unassigned'\n",
       "34. 'Tumor - Stress'\n",
       "35. 'CD4 Tex'\n",
       "36. 'Tumor - Respiration'\n",
       "37. 'Tumor - Cell Cycle HMG-rich'\n",
       "38. 'CD4 Tn'\n",
       "39. 'CD4 Treg'\n",
       "40. 'CD4 Tm'\n",
       "41. 'CD4 CD69+ T'\n",
       "42. 'Mast'\n",
       "43. 'CD4 NKT'\n",
       "44. 'Transitional B'\n",
       "45. 'Tumor - Cell Cycle - G2/M'\n",
       "46. 'Tumor - Cell Cycle - G1/S'\n",
       "47. 'Tumor - Unfolded protein response'\n",
       "48. 'Naive B'\n",
       "49. 'Tumor - EMT-III'\n",
       "50. 'Tumor - MYC'\n",
       "51. 'Tumor - Protein maturation'\n",
       "52. 'Tumor - Skin-pigmentation'\n",
       "53. 'Memory B'\n",
       "54. 'Tumor - Interferon/MHC-II (I)'\n",
       "55. 'Tumor - Stress (in vitro)'\n",
       "56. 'Tumor - Translation initiation'\n",
       "57. 'Tumor - Chromatin'\n",
       "58. 'Tumor - EMT-I'\n",
       "\n",
       "\n"
      ],
      "text/plain": [
       " [1] \"Plasma B\"                          \"Macrophage M2\"                    \n",
       " [3] \"Endothelial\"                       \"cDC1\"                             \n",
       " [5] \"Macrophage M1\"                     \"Inflammatory fibroblast\"          \n",
       " [7] \"cDC2\"                              \"DN NKT\"                           \n",
       " [9] \"Monocyte non-classical\"            \"pDC\"                              \n",
       "[11] \"other T\"                           \"Monocyte classical\"               \n",
       "[13] \"Macrophage tumor-associated\"       \"NK\"                               \n",
       "[15] \"CD8 Texme\"                         \"CD8 early activated Teff\"         \n",
       "[17] \"Myofibroblast\"                     \"CD8 HNRNPH1+ Teff\"                \n",
       "[19] \"CD8 Tex/HS\"                        \"CD8 Tem\"                          \n",
       "[21] \"CD8 FTL+ Tex\"                      \"CD8 GZMK+ Teff\"                   \n",
       "[23] \"CD8 Tn\"                            \"CD8 GNLY+ Tex\"                    \n",
       "[25] \"CD8 NKT\"                           \"Tumor\"                            \n",
       "[27] \"Cycling T\"                         \"mDC\"                              \n",
       "[29] \"Tumor - NA\"                        \"Tumor - Secreted I\"               \n",
       "[31] \"Keratinocyte\"                      \"Tumor - Hypoxia\"                  \n",
       "[33] \"Tumor - Unassigned\"                \"Tumor - Stress\"                   \n",
       "[35] \"CD4 Tex\"                           \"Tumor - Respiration\"              \n",
       "[37] \"Tumor - Cell Cycle HMG-rich\"       \"CD4 Tn\"                           \n",
       "[39] \"CD4 Treg\"                          \"CD4 Tm\"                           \n",
       "[41] \"CD4 CD69+ T\"                       \"Mast\"                             \n",
       "[43] \"CD4 NKT\"                           \"Transitional B\"                   \n",
       "[45] \"Tumor - Cell Cycle - G2/M\"         \"Tumor - Cell Cycle - G1/S\"        \n",
       "[47] \"Tumor - Unfolded protein response\" \"Naive B\"                          \n",
       "[49] \"Tumor - EMT-III\"                   \"Tumor - MYC\"                      \n",
       "[51] \"Tumor - Protein maturation\"        \"Tumor - Skin-pigmentation\"        \n",
       "[53] \"Memory B\"                          \"Tumor - Interferon/MHC-II (I)\"    \n",
       "[55] \"Tumor - Stress (in vitro)\"         \"Tumor - Translation initiation\"   \n",
       "[57] \"Tumor - Chromatin\"                 \"Tumor - EMT-I\"                    "
      ]
     },
     "metadata": {},
     "output_type": "display_data"
    }
   ],
   "source": [
    "colnames(obj.RNA.integrated@meta.data)\n",
    "unique(obj.RNA.integrated$cell_type)\n",
    "unique(obj.RNA.integrated$cell_subtype)"
   ]
  },
  {
   "cell_type": "markdown",
   "id": "08ba528c",
   "metadata": {},
   "source": [
    "# 3. Tumor metaprograms "
   ]
  },
  {
   "cell_type": "code",
   "execution_count": 24,
   "id": "aa8916e9",
   "metadata": {},
   "outputs": [
    {
     "data": {
      "text/plain": [
       "An object of class Seurat \n",
       "56004 features across 106658 samples within 2 assays \n",
       "Active assay: RNA (28295 features, 2000 variable features)\n",
       " 3 layers present: counts, data, scale.data\n",
       " 1 other assay present: SCT\n",
       " 4 dimensional reductions calculated: pca, umap, iNMF_raw, iNMF"
      ]
     },
     "metadata": {},
     "output_type": "display_data"
    }
   ],
   "source": [
    "obj.RNA.tumor <- readRDS(paste0(path_to_objects, '3_tumor_metaprograms.rds'))\n",
    "obj.RNA.tumor"
   ]
  },
  {
   "cell_type": "code",
   "execution_count": 30,
   "id": "af54d99b",
   "metadata": {},
   "outputs": [
    {
     "data": {
      "text/html": [
       "<style>\n",
       ".list-inline {list-style: none; margin:0; padding: 0}\n",
       ".list-inline>li {display: inline-block}\n",
       ".list-inline>li:not(:last-child)::after {content: \"\\00b7\"; padding: 0 .5ex}\n",
       "</style>\n",
       "<ol class=list-inline><li>'patient_sample'</li><li>'patient'</li><li>'sample_ID_long'</li><li>'uid'</li><li>'is_multiplet'</li><li>'cell_barcode'</li><li>'total_counts'</li><li>'percent_mt'</li><li>'percent_ribo'</li><li>'percent_heme'</li><li>'n_genes'</li><li>'compartment'</li><li>'age'</li><li>'sex'</li><li>'subtype'</li><li>'treatment_group'</li><li>'state'</li><li>'response_short'</li><li>'tissue'</li><li>'day'</li><li>'pfs'</li><li>'nCount_RNA'</li><li>'nFeature_RNA'</li><li>'nCount_SCT'</li><li>'nFeature_SCT'</li><li>'S.Score'</li><li>'G2M.Score'</li><li>'Phase'</li><li>'cell_type'</li><li>'metaprogram'</li><li>'cell_subtype'</li></ol>\n"
      ],
      "text/latex": [
       "\\begin{enumerate*}\n",
       "\\item 'patient\\_sample'\n",
       "\\item 'patient'\n",
       "\\item 'sample\\_ID\\_long'\n",
       "\\item 'uid'\n",
       "\\item 'is\\_multiplet'\n",
       "\\item 'cell\\_barcode'\n",
       "\\item 'total\\_counts'\n",
       "\\item 'percent\\_mt'\n",
       "\\item 'percent\\_ribo'\n",
       "\\item 'percent\\_heme'\n",
       "\\item 'n\\_genes'\n",
       "\\item 'compartment'\n",
       "\\item 'age'\n",
       "\\item 'sex'\n",
       "\\item 'subtype'\n",
       "\\item 'treatment\\_group'\n",
       "\\item 'state'\n",
       "\\item 'response\\_short'\n",
       "\\item 'tissue'\n",
       "\\item 'day'\n",
       "\\item 'pfs'\n",
       "\\item 'nCount\\_RNA'\n",
       "\\item 'nFeature\\_RNA'\n",
       "\\item 'nCount\\_SCT'\n",
       "\\item 'nFeature\\_SCT'\n",
       "\\item 'S.Score'\n",
       "\\item 'G2M.Score'\n",
       "\\item 'Phase'\n",
       "\\item 'cell\\_type'\n",
       "\\item 'metaprogram'\n",
       "\\item 'cell\\_subtype'\n",
       "\\end{enumerate*}\n"
      ],
      "text/markdown": [
       "1. 'patient_sample'\n",
       "2. 'patient'\n",
       "3. 'sample_ID_long'\n",
       "4. 'uid'\n",
       "5. 'is_multiplet'\n",
       "6. 'cell_barcode'\n",
       "7. 'total_counts'\n",
       "8. 'percent_mt'\n",
       "9. 'percent_ribo'\n",
       "10. 'percent_heme'\n",
       "11. 'n_genes'\n",
       "12. 'compartment'\n",
       "13. 'age'\n",
       "14. 'sex'\n",
       "15. 'subtype'\n",
       "16. 'treatment_group'\n",
       "17. 'state'\n",
       "18. 'response_short'\n",
       "19. 'tissue'\n",
       "20. 'day'\n",
       "21. 'pfs'\n",
       "22. 'nCount_RNA'\n",
       "23. 'nFeature_RNA'\n",
       "24. 'nCount_SCT'\n",
       "25. 'nFeature_SCT'\n",
       "26. 'S.Score'\n",
       "27. 'G2M.Score'\n",
       "28. 'Phase'\n",
       "29. 'cell_type'\n",
       "30. 'metaprogram'\n",
       "31. 'cell_subtype'\n",
       "\n",
       "\n"
      ],
      "text/plain": [
       " [1] \"patient_sample\"  \"patient\"         \"sample_ID_long\"  \"uid\"            \n",
       " [5] \"is_multiplet\"    \"cell_barcode\"    \"total_counts\"    \"percent_mt\"     \n",
       " [9] \"percent_ribo\"    \"percent_heme\"    \"n_genes\"         \"compartment\"    \n",
       "[13] \"age\"             \"sex\"             \"subtype\"         \"treatment_group\"\n",
       "[17] \"state\"           \"response_short\"  \"tissue\"          \"day\"            \n",
       "[21] \"pfs\"             \"nCount_RNA\"      \"nFeature_RNA\"    \"nCount_SCT\"     \n",
       "[25] \"nFeature_SCT\"    \"S.Score\"         \"G2M.Score\"       \"Phase\"          \n",
       "[29] \"cell_type\"       \"metaprogram\"     \"cell_subtype\"   "
      ]
     },
     "metadata": {},
     "output_type": "display_data"
    },
    {
     "data": {
      "text/html": [
       "'Tumor'"
      ],
      "text/latex": [
       "'Tumor'"
      ],
      "text/markdown": [
       "'Tumor'"
      ],
      "text/plain": [
       "[1] \"Tumor\""
      ]
     },
     "metadata": {},
     "output_type": "display_data"
    },
    {
     "data": {
      "text/html": [
       "<style>\n",
       ".list-inline {list-style: none; margin:0; padding: 0}\n",
       ".list-inline>li {display: inline-block}\n",
       ".list-inline>li:not(:last-child)::after {content: \"\\00b7\"; padding: 0 .5ex}\n",
       "</style>\n",
       "<ol class=list-inline><li>'NA'</li><li>'Secreted I'</li><li>'Hypoxia'</li><li>'Unassigned'</li><li>'Stress'</li><li>'Respiration'</li><li>'Cell Cycle HMG-rich'</li><li>'Cell Cycle - G2/M'</li><li>'Cell Cycle - G1/S'</li><li>'Unfolded protein response'</li><li>'EMT-III'</li><li>'MYC'</li><li>'Protein maturation'</li><li>'Skin-pigmentation'</li><li>'Interferon/MHC-II (I)'</li><li>'Stress (in vitro)'</li><li>'Translation initiation'</li><li>'Chromatin'</li></ol>\n"
      ],
      "text/latex": [
       "\\begin{enumerate*}\n",
       "\\item 'NA'\n",
       "\\item 'Secreted I'\n",
       "\\item 'Hypoxia'\n",
       "\\item 'Unassigned'\n",
       "\\item 'Stress'\n",
       "\\item 'Respiration'\n",
       "\\item 'Cell Cycle HMG-rich'\n",
       "\\item 'Cell Cycle - G2/M'\n",
       "\\item 'Cell Cycle - G1/S'\n",
       "\\item 'Unfolded protein response'\n",
       "\\item 'EMT-III'\n",
       "\\item 'MYC'\n",
       "\\item 'Protein maturation'\n",
       "\\item 'Skin-pigmentation'\n",
       "\\item 'Interferon/MHC-II (I)'\n",
       "\\item 'Stress (in vitro)'\n",
       "\\item 'Translation initiation'\n",
       "\\item 'Chromatin'\n",
       "\\end{enumerate*}\n"
      ],
      "text/markdown": [
       "1. 'NA'\n",
       "2. 'Secreted I'\n",
       "3. 'Hypoxia'\n",
       "4. 'Unassigned'\n",
       "5. 'Stress'\n",
       "6. 'Respiration'\n",
       "7. 'Cell Cycle HMG-rich'\n",
       "8. 'Cell Cycle - G2/M'\n",
       "9. 'Cell Cycle - G1/S'\n",
       "10. 'Unfolded protein response'\n",
       "11. 'EMT-III'\n",
       "12. 'MYC'\n",
       "13. 'Protein maturation'\n",
       "14. 'Skin-pigmentation'\n",
       "15. 'Interferon/MHC-II (I)'\n",
       "16. 'Stress (in vitro)'\n",
       "17. 'Translation initiation'\n",
       "18. 'Chromatin'\n",
       "\n",
       "\n"
      ],
      "text/plain": [
       " [1] \"NA\"                        \"Secreted I\"               \n",
       " [3] \"Hypoxia\"                   \"Unassigned\"               \n",
       " [5] \"Stress\"                    \"Respiration\"              \n",
       " [7] \"Cell Cycle HMG-rich\"       \"Cell Cycle - G2/M\"        \n",
       " [9] \"Cell Cycle - G1/S\"         \"Unfolded protein response\"\n",
       "[11] \"EMT-III\"                   \"MYC\"                      \n",
       "[13] \"Protein maturation\"        \"Skin-pigmentation\"        \n",
       "[15] \"Interferon/MHC-II (I)\"     \"Stress (in vitro)\"        \n",
       "[17] \"Translation initiation\"    \"Chromatin\"                "
      ]
     },
     "metadata": {},
     "output_type": "display_data"
    }
   ],
   "source": [
    "colnames(obj.RNA.tumor@meta.data)\n",
    "unique(obj.RNA.tumor$cell_type)\n",
    "unique(obj.RNA.tumor$cell_subtype)"
   ]
  },
  {
   "cell_type": "markdown",
   "id": "4bc4aeb9",
   "metadata": {},
   "source": [
    "# 4. Myeloid cells \n",
    "check mDC"
   ]
  },
  {
   "cell_type": "code",
   "execution_count": 35,
   "id": "3cd7ee67",
   "metadata": {},
   "outputs": [
    {
     "data": {
      "text/plain": [
       "An object of class Seurat \n",
       "48045 features across 16308 samples within 2 assays \n",
       "Active assay: SCT (19750 features, 3000 variable features)\n",
       " 3 layers present: counts, data, scale.data\n",
       " 1 other assay present: RNA\n",
       " 3 dimensional reductions calculated: pca, umap, harmony"
      ]
     },
     "metadata": {},
     "output_type": "display_data"
    }
   ],
   "source": [
    "obj.RNA.myeloid<- readRDS(paste0(path_to_objects, '4_RNA_myeloid_cells.rds'))\n",
    "obj.RNA.myeloid"
   ]
  },
  {
   "cell_type": "code",
   "execution_count": 51,
   "id": "0f87b165",
   "metadata": {},
   "outputs": [
    {
     "data": {
      "text/html": [
       "<style>\n",
       ".list-inline {list-style: none; margin:0; padding: 0}\n",
       ".list-inline>li {display: inline-block}\n",
       ".list-inline>li:not(:last-child)::after {content: \"\\00b7\"; padding: 0 .5ex}\n",
       "</style>\n",
       "<ol class=list-inline><li>'sample_ID'</li><li>'is_multiplet'</li><li>'cell_barcode'</li><li>'total_counts'</li><li>'percent_ribo'</li><li>'percent_heme'</li><li>'n_genes'</li><li>'compartment'</li><li>'sample_ID_long'</li><li>'patient'</li><li>'uid'</li><li>'age'</li><li>'sex'</li><li>'subtype'</li><li>'treatment_group'</li><li>'state'</li><li>'tissue'</li><li>'day'</li><li>'pfs'</li><li>'nCount_RNA'</li><li>'nFeature_RNA'</li><li>'percent_mt'</li><li>'nCount_SCT'</li><li>'nFeature_SCT'</li><li>'S.Score'</li><li>'G2M.Score'</li><li>'Phase'</li><li>'cell_type'</li><li>'cell_subtype'</li><li>'patient_sample'</li><li>'is_mDC_high'</li><li>'subtyped_cell_type_percent'</li><li>'response_short'</li></ol>\n"
      ],
      "text/latex": [
       "\\begin{enumerate*}\n",
       "\\item 'sample\\_ID'\n",
       "\\item 'is\\_multiplet'\n",
       "\\item 'cell\\_barcode'\n",
       "\\item 'total\\_counts'\n",
       "\\item 'percent\\_ribo'\n",
       "\\item 'percent\\_heme'\n",
       "\\item 'n\\_genes'\n",
       "\\item 'compartment'\n",
       "\\item 'sample\\_ID\\_long'\n",
       "\\item 'patient'\n",
       "\\item 'uid'\n",
       "\\item 'age'\n",
       "\\item 'sex'\n",
       "\\item 'subtype'\n",
       "\\item 'treatment\\_group'\n",
       "\\item 'state'\n",
       "\\item 'tissue'\n",
       "\\item 'day'\n",
       "\\item 'pfs'\n",
       "\\item 'nCount\\_RNA'\n",
       "\\item 'nFeature\\_RNA'\n",
       "\\item 'percent\\_mt'\n",
       "\\item 'nCount\\_SCT'\n",
       "\\item 'nFeature\\_SCT'\n",
       "\\item 'S.Score'\n",
       "\\item 'G2M.Score'\n",
       "\\item 'Phase'\n",
       "\\item 'cell\\_type'\n",
       "\\item 'cell\\_subtype'\n",
       "\\item 'patient\\_sample'\n",
       "\\item 'is\\_mDC\\_high'\n",
       "\\item 'subtyped\\_cell\\_type\\_percent'\n",
       "\\item 'response\\_short'\n",
       "\\end{enumerate*}\n"
      ],
      "text/markdown": [
       "1. 'sample_ID'\n",
       "2. 'is_multiplet'\n",
       "3. 'cell_barcode'\n",
       "4. 'total_counts'\n",
       "5. 'percent_ribo'\n",
       "6. 'percent_heme'\n",
       "7. 'n_genes'\n",
       "8. 'compartment'\n",
       "9. 'sample_ID_long'\n",
       "10. 'patient'\n",
       "11. 'uid'\n",
       "12. 'age'\n",
       "13. 'sex'\n",
       "14. 'subtype'\n",
       "15. 'treatment_group'\n",
       "16. 'state'\n",
       "17. 'tissue'\n",
       "18. 'day'\n",
       "19. 'pfs'\n",
       "20. 'nCount_RNA'\n",
       "21. 'nFeature_RNA'\n",
       "22. 'percent_mt'\n",
       "23. 'nCount_SCT'\n",
       "24. 'nFeature_SCT'\n",
       "25. 'S.Score'\n",
       "26. 'G2M.Score'\n",
       "27. 'Phase'\n",
       "28. 'cell_type'\n",
       "29. 'cell_subtype'\n",
       "30. 'patient_sample'\n",
       "31. 'is_mDC_high'\n",
       "32. 'subtyped_cell_type_percent'\n",
       "33. 'response_short'\n",
       "\n",
       "\n"
      ],
      "text/plain": [
       " [1] \"sample_ID\"                  \"is_multiplet\"              \n",
       " [3] \"cell_barcode\"               \"total_counts\"              \n",
       " [5] \"percent_ribo\"               \"percent_heme\"              \n",
       " [7] \"n_genes\"                    \"compartment\"               \n",
       " [9] \"sample_ID_long\"             \"patient\"                   \n",
       "[11] \"uid\"                        \"age\"                       \n",
       "[13] \"sex\"                        \"subtype\"                   \n",
       "[15] \"treatment_group\"            \"state\"                     \n",
       "[17] \"tissue\"                     \"day\"                       \n",
       "[19] \"pfs\"                        \"nCount_RNA\"                \n",
       "[21] \"nFeature_RNA\"               \"percent_mt\"                \n",
       "[23] \"nCount_SCT\"                 \"nFeature_SCT\"              \n",
       "[25] \"S.Score\"                    \"G2M.Score\"                 \n",
       "[27] \"Phase\"                      \"cell_type\"                 \n",
       "[29] \"cell_subtype\"               \"patient_sample\"            \n",
       "[31] \"is_mDC_high\"                \"subtyped_cell_type_percent\"\n",
       "[33] \"response_short\"            "
      ]
     },
     "metadata": {},
     "output_type": "display_data"
    },
    {
     "data": {
      "text/html": [
       "<style>\n",
       ".list-inline {list-style: none; margin:0; padding: 0}\n",
       ".list-inline>li {display: inline-block}\n",
       ".list-inline>li:not(:last-child)::after {content: \"\\00b7\"; padding: 0 .5ex}\n",
       "</style>\n",
       "<ol class=list-inline><li>'Monocyte/Macrophage'</li><li>'cDC'</li><li>'pDC'</li><li>'Mast'</li></ol>\n"
      ],
      "text/latex": [
       "\\begin{enumerate*}\n",
       "\\item 'Monocyte/Macrophage'\n",
       "\\item 'cDC'\n",
       "\\item 'pDC'\n",
       "\\item 'Mast'\n",
       "\\end{enumerate*}\n"
      ],
      "text/markdown": [
       "1. 'Monocyte/Macrophage'\n",
       "2. 'cDC'\n",
       "3. 'pDC'\n",
       "4. 'Mast'\n",
       "\n",
       "\n"
      ],
      "text/plain": [
       "[1] \"Monocyte/Macrophage\" \"cDC\"                 \"pDC\"                \n",
       "[4] \"Mast\"               "
      ]
     },
     "metadata": {},
     "output_type": "display_data"
    },
    {
     "data": {
      "text/html": [
       "<style>\n",
       ".list-inline {list-style: none; margin:0; padding: 0}\n",
       ".list-inline>li {display: inline-block}\n",
       ".list-inline>li:not(:last-child)::after {content: \"\\00b7\"; padding: 0 .5ex}\n",
       "</style>\n",
       "<ol class=list-inline><li>Macrophage M2</li><li>cDC1</li><li>Macrophage M1</li><li>cDC2</li><li>Monocyte non-classical</li><li>pDC</li><li>Monocyte classical</li><li>Macrophage tumor-associated</li><li>mDC</li><li>Mast</li></ol>\n",
       "\n",
       "<details>\n",
       "\t<summary style=display:list-item;cursor:pointer>\n",
       "\t\t<strong>Levels</strong>:\n",
       "\t</summary>\n",
       "\t<style>\n",
       "\t.list-inline {list-style: none; margin:0; padding: 0}\n",
       "\t.list-inline>li {display: inline-block}\n",
       "\t.list-inline>li:not(:last-child)::after {content: \"\\00b7\"; padding: 0 .5ex}\n",
       "\t</style>\n",
       "\t<ol class=list-inline><li>'mDC'</li><li>'Monocyte classical'</li><li>'Monocyte non-classical'</li><li>'Macrophage M1'</li><li>'Macrophage M2'</li><li>'Macrophage tumor-associated'</li><li>'cDC1'</li><li>'cDC2'</li><li>'pDC'</li><li>'Mast'</li></ol>\n",
       "</details>"
      ],
      "text/latex": [
       "\\begin{enumerate*}\n",
       "\\item Macrophage M2\n",
       "\\item cDC1\n",
       "\\item Macrophage M1\n",
       "\\item cDC2\n",
       "\\item Monocyte non-classical\n",
       "\\item pDC\n",
       "\\item Monocyte classical\n",
       "\\item Macrophage tumor-associated\n",
       "\\item mDC\n",
       "\\item Mast\n",
       "\\end{enumerate*}\n",
       "\n",
       "\\emph{Levels}: \\begin{enumerate*}\n",
       "\\item 'mDC'\n",
       "\\item 'Monocyte classical'\n",
       "\\item 'Monocyte non-classical'\n",
       "\\item 'Macrophage M1'\n",
       "\\item 'Macrophage M2'\n",
       "\\item 'Macrophage tumor-associated'\n",
       "\\item 'cDC1'\n",
       "\\item 'cDC2'\n",
       "\\item 'pDC'\n",
       "\\item 'Mast'\n",
       "\\end{enumerate*}\n"
      ],
      "text/markdown": [
       "1. Macrophage M2\n",
       "2. cDC1\n",
       "3. Macrophage M1\n",
       "4. cDC2\n",
       "5. Monocyte non-classical\n",
       "6. pDC\n",
       "7. Monocyte classical\n",
       "8. Macrophage tumor-associated\n",
       "9. mDC\n",
       "10. Mast\n",
       "\n",
       "\n",
       "\n",
       "**Levels**: 1. 'mDC'\n",
       "2. 'Monocyte classical'\n",
       "3. 'Monocyte non-classical'\n",
       "4. 'Macrophage M1'\n",
       "5. 'Macrophage M2'\n",
       "6. 'Macrophage tumor-associated'\n",
       "7. 'cDC1'\n",
       "8. 'cDC2'\n",
       "9. 'pDC'\n",
       "10. 'Mast'\n",
       "\n",
       "\n"
      ],
      "text/plain": [
       " [1] Macrophage M2               cDC1                       \n",
       " [3] Macrophage M1               cDC2                       \n",
       " [5] Monocyte non-classical      pDC                        \n",
       " [7] Monocyte classical          Macrophage tumor-associated\n",
       " [9] mDC                         Mast                       \n",
       "10 Levels: mDC Monocyte classical Monocyte non-classical ... Mast"
      ]
     },
     "metadata": {},
     "output_type": "display_data"
    }
   ],
   "source": [
    "colnames(obj.RNA.myeloid@meta.data)\n",
    "unique(obj.RNA.myeloid$cell_type)\n",
    "unique(obj.RNA.myeloid$cell_subtype)"
   ]
  },
  {
   "cell_type": "markdown",
   "id": "b95af9d5",
   "metadata": {},
   "source": [
    "# 5. CD8 T cells "
   ]
  },
  {
   "cell_type": "code",
   "execution_count": 54,
   "id": "b459e116",
   "metadata": {},
   "outputs": [
    {
     "data": {
      "text/plain": [
       "An object of class Seurat \n",
       "48572 features across 21710 samples within 3 assays \n",
       "Active assay: SCT (18536 features, 0 variable features)\n",
       " 3 layers present: counts, data, scale.data\n",
       " 2 other assays present: RNA, integrated\n",
       " 4 dimensional reductions calculated: pca, umap, DC, harmony"
      ]
     },
     "metadata": {},
     "output_type": "display_data"
    }
   ],
   "source": [
    "obj.RNA.CD8 <- readRDS(paste0(path_to_objects, '5_RNA_CD8T_cells.rds'))\n",
    "obj.RNA.CD8"
   ]
  },
  {
   "cell_type": "code",
   "execution_count": 56,
   "id": "3a34e1fa",
   "metadata": {},
   "outputs": [
    {
     "data": {
      "text/html": [
       "<style>\n",
       ".list-inline {list-style: none; margin:0; padding: 0}\n",
       ".list-inline>li {display: inline-block}\n",
       ".list-inline>li:not(:last-child)::after {content: \"\\00b7\"; padding: 0 .5ex}\n",
       "</style>\n",
       "<ol class=list-inline><li>'patient'</li><li>'sample_ID_long'</li><li>'uid'</li><li>'is_multiplet'</li><li>'cell_barcode'</li><li>'total_counts'</li><li>'percent_mt'</li><li>'percent_ribo'</li><li>'percent_heme'</li><li>'n_genes'</li><li>'compartment'</li><li>'age'</li><li>'sex'</li><li>'subtype'</li><li>'treatment_group'</li><li>'state'</li><li>'response_short'</li><li>'tissue'</li><li>'day'</li><li>'pfs'</li><li>'nCount_RNA'</li><li>'nFeature_RNA'</li><li>'nCount_SCT'</li><li>'nFeature_SCT'</li><li>'S.Score'</li><li>'G2M.Score'</li><li>'Phase'</li><li>'cell_subtype'</li><li>'subtyped_cell_type_percent'</li><li>'SCT_snn_res.0.7'</li><li>'seurat_clusters'</li></ol>\n"
      ],
      "text/latex": [
       "\\begin{enumerate*}\n",
       "\\item 'patient'\n",
       "\\item 'sample\\_ID\\_long'\n",
       "\\item 'uid'\n",
       "\\item 'is\\_multiplet'\n",
       "\\item 'cell\\_barcode'\n",
       "\\item 'total\\_counts'\n",
       "\\item 'percent\\_mt'\n",
       "\\item 'percent\\_ribo'\n",
       "\\item 'percent\\_heme'\n",
       "\\item 'n\\_genes'\n",
       "\\item 'compartment'\n",
       "\\item 'age'\n",
       "\\item 'sex'\n",
       "\\item 'subtype'\n",
       "\\item 'treatment\\_group'\n",
       "\\item 'state'\n",
       "\\item 'response\\_short'\n",
       "\\item 'tissue'\n",
       "\\item 'day'\n",
       "\\item 'pfs'\n",
       "\\item 'nCount\\_RNA'\n",
       "\\item 'nFeature\\_RNA'\n",
       "\\item 'nCount\\_SCT'\n",
       "\\item 'nFeature\\_SCT'\n",
       "\\item 'S.Score'\n",
       "\\item 'G2M.Score'\n",
       "\\item 'Phase'\n",
       "\\item 'cell\\_subtype'\n",
       "\\item 'subtyped\\_cell\\_type\\_percent'\n",
       "\\item 'SCT\\_snn\\_res.0.7'\n",
       "\\item 'seurat\\_clusters'\n",
       "\\end{enumerate*}\n"
      ],
      "text/markdown": [
       "1. 'patient'\n",
       "2. 'sample_ID_long'\n",
       "3. 'uid'\n",
       "4. 'is_multiplet'\n",
       "5. 'cell_barcode'\n",
       "6. 'total_counts'\n",
       "7. 'percent_mt'\n",
       "8. 'percent_ribo'\n",
       "9. 'percent_heme'\n",
       "10. 'n_genes'\n",
       "11. 'compartment'\n",
       "12. 'age'\n",
       "13. 'sex'\n",
       "14. 'subtype'\n",
       "15. 'treatment_group'\n",
       "16. 'state'\n",
       "17. 'response_short'\n",
       "18. 'tissue'\n",
       "19. 'day'\n",
       "20. 'pfs'\n",
       "21. 'nCount_RNA'\n",
       "22. 'nFeature_RNA'\n",
       "23. 'nCount_SCT'\n",
       "24. 'nFeature_SCT'\n",
       "25. 'S.Score'\n",
       "26. 'G2M.Score'\n",
       "27. 'Phase'\n",
       "28. 'cell_subtype'\n",
       "29. 'subtyped_cell_type_percent'\n",
       "30. 'SCT_snn_res.0.7'\n",
       "31. 'seurat_clusters'\n",
       "\n",
       "\n"
      ],
      "text/plain": [
       " [1] \"patient\"                    \"sample_ID_long\"            \n",
       " [3] \"uid\"                        \"is_multiplet\"              \n",
       " [5] \"cell_barcode\"               \"total_counts\"              \n",
       " [7] \"percent_mt\"                 \"percent_ribo\"              \n",
       " [9] \"percent_heme\"               \"n_genes\"                   \n",
       "[11] \"compartment\"                \"age\"                       \n",
       "[13] \"sex\"                        \"subtype\"                   \n",
       "[15] \"treatment_group\"            \"state\"                     \n",
       "[17] \"response_short\"             \"tissue\"                    \n",
       "[19] \"day\"                        \"pfs\"                       \n",
       "[21] \"nCount_RNA\"                 \"nFeature_RNA\"              \n",
       "[23] \"nCount_SCT\"                 \"nFeature_SCT\"              \n",
       "[25] \"S.Score\"                    \"G2M.Score\"                 \n",
       "[27] \"Phase\"                      \"cell_subtype\"              \n",
       "[29] \"subtyped_cell_type_percent\" \"SCT_snn_res.0.7\"           \n",
       "[31] \"seurat_clusters\"           "
      ]
     },
     "metadata": {},
     "output_type": "display_data"
    },
    {
     "data": {
      "text/html": [
       "<style>\n",
       ".list-inline {list-style: none; margin:0; padding: 0}\n",
       ".list-inline>li {display: inline-block}\n",
       ".list-inline>li:not(:last-child)::after {content: \"\\00b7\"; padding: 0 .5ex}\n",
       "</style>\n",
       "<ol class=list-inline><li>Texme</li><li>early activated Teff</li><li>HNRNPH1+ Teff</li><li>Tex/HS</li><li>Tem</li><li>FTL+ Tex</li><li>GZMK+ Teff</li><li>Tn</li><li>GNLY+ Tex</li><li>NKT</li></ol>\n",
       "\n",
       "<details>\n",
       "\t<summary style=display:list-item;cursor:pointer>\n",
       "\t\t<strong>Levels</strong>:\n",
       "\t</summary>\n",
       "\t<style>\n",
       "\t.list-inline {list-style: none; margin:0; padding: 0}\n",
       "\t.list-inline>li {display: inline-block}\n",
       "\t.list-inline>li:not(:last-child)::after {content: \"\\00b7\"; padding: 0 .5ex}\n",
       "\t</style>\n",
       "\t<ol class=list-inline><li>'Tn'</li><li>'early activated Teff'</li><li>'HNRNPH1+ Teff'</li><li>'GZMK+ Teff'</li><li>'Tem'</li><li>'Texme'</li><li>'Tex/HS'</li><li>'GNLY+ Tex'</li><li>'FTL+ Tex'</li><li>'NKT'</li></ol>\n",
       "</details>"
      ],
      "text/latex": [
       "\\begin{enumerate*}\n",
       "\\item Texme\n",
       "\\item early activated Teff\n",
       "\\item HNRNPH1+ Teff\n",
       "\\item Tex/HS\n",
       "\\item Tem\n",
       "\\item FTL+ Tex\n",
       "\\item GZMK+ Teff\n",
       "\\item Tn\n",
       "\\item GNLY+ Tex\n",
       "\\item NKT\n",
       "\\end{enumerate*}\n",
       "\n",
       "\\emph{Levels}: \\begin{enumerate*}\n",
       "\\item 'Tn'\n",
       "\\item 'early activated Teff'\n",
       "\\item 'HNRNPH1+ Teff'\n",
       "\\item 'GZMK+ Teff'\n",
       "\\item 'Tem'\n",
       "\\item 'Texme'\n",
       "\\item 'Tex/HS'\n",
       "\\item 'GNLY+ Tex'\n",
       "\\item 'FTL+ Tex'\n",
       "\\item 'NKT'\n",
       "\\end{enumerate*}\n"
      ],
      "text/markdown": [
       "1. Texme\n",
       "2. early activated Teff\n",
       "3. HNRNPH1+ Teff\n",
       "4. Tex/HS\n",
       "5. Tem\n",
       "6. FTL+ Tex\n",
       "7. GZMK+ Teff\n",
       "8. Tn\n",
       "9. GNLY+ Tex\n",
       "10. NKT\n",
       "\n",
       "\n",
       "\n",
       "**Levels**: 1. 'Tn'\n",
       "2. 'early activated Teff'\n",
       "3. 'HNRNPH1+ Teff'\n",
       "4. 'GZMK+ Teff'\n",
       "5. 'Tem'\n",
       "6. 'Texme'\n",
       "7. 'Tex/HS'\n",
       "8. 'GNLY+ Tex'\n",
       "9. 'FTL+ Tex'\n",
       "10. 'NKT'\n",
       "\n",
       "\n"
      ],
      "text/plain": [
       " [1] Texme                early activated Teff HNRNPH1+ Teff       \n",
       " [4] Tex/HS               Tem                  FTL+ Tex            \n",
       " [7] GZMK+ Teff           Tn                   GNLY+ Tex           \n",
       "[10] NKT                 \n",
       "10 Levels: Tn early activated Teff HNRNPH1+ Teff GZMK+ Teff Tem ... NKT"
      ]
     },
     "metadata": {},
     "output_type": "display_data"
    }
   ],
   "source": [
    "colnames(obj.RNA.CD8@meta.data)\n",
    "unique(obj.RNA.CD8$cell_subtype)"
   ]
  },
  {
   "cell_type": "markdown",
   "id": "c6144436",
   "metadata": {},
   "source": [
    "# 6. CD4 T cells"
   ]
  },
  {
   "cell_type": "code",
   "execution_count": 57,
   "id": "c2322ff7",
   "metadata": {},
   "outputs": [
    {
     "data": {
      "text/plain": [
       "An object of class Seurat \n",
       "48572 features across 17952 samples within 3 assays \n",
       "Active assay: SCT (18536 features, 0 variable features)\n",
       " 3 layers present: counts, data, scale.data\n",
       " 2 other assays present: RNA, integrated\n",
       " 4 dimensional reductions calculated: pca, umap, harmony, DC"
      ]
     },
     "metadata": {},
     "output_type": "display_data"
    }
   ],
   "source": [
    "obj.RNA.CD4 <- readRDS(paste0(path_to_objects, '6_RNA_CD4T_cells.rds'))\n",
    "obj.RNA.CD4"
   ]
  },
  {
   "cell_type": "code",
   "execution_count": 58,
   "id": "443b813b",
   "metadata": {},
   "outputs": [
    {
     "data": {
      "text/html": [
       "<style>\n",
       ".list-inline {list-style: none; margin:0; padding: 0}\n",
       ".list-inline>li {display: inline-block}\n",
       ".list-inline>li:not(:last-child)::after {content: \"\\00b7\"; padding: 0 .5ex}\n",
       "</style>\n",
       "<ol class=list-inline><li>'patient'</li><li>'sample_ID_long'</li><li>'uid'</li><li>'is_multiplet'</li><li>'cell_barcode'</li><li>'total_counts'</li><li>'percent_mt'</li><li>'percent_ribo'</li><li>'percent_heme'</li><li>'n_genes'</li><li>'compartment'</li><li>'age'</li><li>'sex'</li><li>'subtype'</li><li>'treatment_group'</li><li>'state'</li><li>'response_short'</li><li>'tissue'</li><li>'day'</li><li>'pfs'</li><li>'nCount_RNA'</li><li>'nFeature_RNA'</li><li>'nCount_SCT'</li><li>'nFeature_SCT'</li><li>'S.Score'</li><li>'G2M.Score'</li><li>'Phase'</li><li>'cell_subtype'</li><li>'subtyped_cell_type_percent'</li><li>'SCT_snn_res.0.4'</li></ol>\n"
      ],
      "text/latex": [
       "\\begin{enumerate*}\n",
       "\\item 'patient'\n",
       "\\item 'sample\\_ID\\_long'\n",
       "\\item 'uid'\n",
       "\\item 'is\\_multiplet'\n",
       "\\item 'cell\\_barcode'\n",
       "\\item 'total\\_counts'\n",
       "\\item 'percent\\_mt'\n",
       "\\item 'percent\\_ribo'\n",
       "\\item 'percent\\_heme'\n",
       "\\item 'n\\_genes'\n",
       "\\item 'compartment'\n",
       "\\item 'age'\n",
       "\\item 'sex'\n",
       "\\item 'subtype'\n",
       "\\item 'treatment\\_group'\n",
       "\\item 'state'\n",
       "\\item 'response\\_short'\n",
       "\\item 'tissue'\n",
       "\\item 'day'\n",
       "\\item 'pfs'\n",
       "\\item 'nCount\\_RNA'\n",
       "\\item 'nFeature\\_RNA'\n",
       "\\item 'nCount\\_SCT'\n",
       "\\item 'nFeature\\_SCT'\n",
       "\\item 'S.Score'\n",
       "\\item 'G2M.Score'\n",
       "\\item 'Phase'\n",
       "\\item 'cell\\_subtype'\n",
       "\\item 'subtyped\\_cell\\_type\\_percent'\n",
       "\\item 'SCT\\_snn\\_res.0.4'\n",
       "\\end{enumerate*}\n"
      ],
      "text/markdown": [
       "1. 'patient'\n",
       "2. 'sample_ID_long'\n",
       "3. 'uid'\n",
       "4. 'is_multiplet'\n",
       "5. 'cell_barcode'\n",
       "6. 'total_counts'\n",
       "7. 'percent_mt'\n",
       "8. 'percent_ribo'\n",
       "9. 'percent_heme'\n",
       "10. 'n_genes'\n",
       "11. 'compartment'\n",
       "12. 'age'\n",
       "13. 'sex'\n",
       "14. 'subtype'\n",
       "15. 'treatment_group'\n",
       "16. 'state'\n",
       "17. 'response_short'\n",
       "18. 'tissue'\n",
       "19. 'day'\n",
       "20. 'pfs'\n",
       "21. 'nCount_RNA'\n",
       "22. 'nFeature_RNA'\n",
       "23. 'nCount_SCT'\n",
       "24. 'nFeature_SCT'\n",
       "25. 'S.Score'\n",
       "26. 'G2M.Score'\n",
       "27. 'Phase'\n",
       "28. 'cell_subtype'\n",
       "29. 'subtyped_cell_type_percent'\n",
       "30. 'SCT_snn_res.0.4'\n",
       "\n",
       "\n"
      ],
      "text/plain": [
       " [1] \"patient\"                    \"sample_ID_long\"            \n",
       " [3] \"uid\"                        \"is_multiplet\"              \n",
       " [5] \"cell_barcode\"               \"total_counts\"              \n",
       " [7] \"percent_mt\"                 \"percent_ribo\"              \n",
       " [9] \"percent_heme\"               \"n_genes\"                   \n",
       "[11] \"compartment\"                \"age\"                       \n",
       "[13] \"sex\"                        \"subtype\"                   \n",
       "[15] \"treatment_group\"            \"state\"                     \n",
       "[17] \"response_short\"             \"tissue\"                    \n",
       "[19] \"day\"                        \"pfs\"                       \n",
       "[21] \"nCount_RNA\"                 \"nFeature_RNA\"              \n",
       "[23] \"nCount_SCT\"                 \"nFeature_SCT\"              \n",
       "[25] \"S.Score\"                    \"G2M.Score\"                 \n",
       "[27] \"Phase\"                      \"cell_subtype\"              \n",
       "[29] \"subtyped_cell_type_percent\" \"SCT_snn_res.0.4\"           "
      ]
     },
     "metadata": {},
     "output_type": "display_data"
    },
    {
     "data": {
      "text/html": [
       "<style>\n",
       ".list-inline {list-style: none; margin:0; padding: 0}\n",
       ".list-inline>li {display: inline-block}\n",
       ".list-inline>li:not(:last-child)::after {content: \"\\00b7\"; padding: 0 .5ex}\n",
       "</style>\n",
       "<ol class=list-inline><li>Tex</li><li>Tn</li><li>Treg</li><li>Tm</li><li>CD69+ T</li><li>NKT</li></ol>\n",
       "\n",
       "<details>\n",
       "\t<summary style=display:list-item;cursor:pointer>\n",
       "\t\t<strong>Levels</strong>:\n",
       "\t</summary>\n",
       "\t<style>\n",
       "\t.list-inline {list-style: none; margin:0; padding: 0}\n",
       "\t.list-inline>li {display: inline-block}\n",
       "\t.list-inline>li:not(:last-child)::after {content: \"\\00b7\"; padding: 0 .5ex}\n",
       "\t</style>\n",
       "\t<ol class=list-inline><li>'Tn'</li><li>'CD69+ T'</li><li>'Tm'</li><li>'Tex'</li><li>'Treg'</li><li>'NKT'</li></ol>\n",
       "</details>"
      ],
      "text/latex": [
       "\\begin{enumerate*}\n",
       "\\item Tex\n",
       "\\item Tn\n",
       "\\item Treg\n",
       "\\item Tm\n",
       "\\item CD69+ T\n",
       "\\item NKT\n",
       "\\end{enumerate*}\n",
       "\n",
       "\\emph{Levels}: \\begin{enumerate*}\n",
       "\\item 'Tn'\n",
       "\\item 'CD69+ T'\n",
       "\\item 'Tm'\n",
       "\\item 'Tex'\n",
       "\\item 'Treg'\n",
       "\\item 'NKT'\n",
       "\\end{enumerate*}\n"
      ],
      "text/markdown": [
       "1. Tex\n",
       "2. Tn\n",
       "3. Treg\n",
       "4. Tm\n",
       "5. CD69+ T\n",
       "6. NKT\n",
       "\n",
       "\n",
       "\n",
       "**Levels**: 1. 'Tn'\n",
       "2. 'CD69+ T'\n",
       "3. 'Tm'\n",
       "4. 'Tex'\n",
       "5. 'Treg'\n",
       "6. 'NKT'\n",
       "\n",
       "\n"
      ],
      "text/plain": [
       "[1] Tex     Tn      Treg    Tm      CD69+ T NKT    \n",
       "Levels: Tn CD69+ T Tm Tex Treg NKT"
      ]
     },
     "metadata": {},
     "output_type": "display_data"
    }
   ],
   "source": [
    "colnames(obj.RNA.CD4@meta.data)\n",
    "unique(obj.RNA.CD4$cell_subtype)"
   ]
  },
  {
   "cell_type": "markdown",
   "id": "0e1fbc23",
   "metadata": {},
   "source": [
    "# 7. cDC cells "
   ]
  },
  {
   "cell_type": "code",
   "execution_count": 59,
   "id": "67f35295",
   "metadata": {},
   "outputs": [
    {
     "data": {
      "text/plain": [
       "An object of class Seurat \n",
       "57840 features across 2160 samples within 3 assays \n",
       "Active assay: SCT (26545 features, 0 variable features)\n",
       " 3 layers present: counts, data, scale.data\n",
       " 2 other assays present: RNA, integrated\n",
       " 2 dimensional reductions calculated: pca, umap"
      ]
     },
     "metadata": {},
     "output_type": "display_data"
    }
   ],
   "source": [
    "obj.RNA.cDC <- readRDS(paste0(path_to_objects, '7_RNA_cDC_cells.rds'))\n",
    "obj.RNA.cDC"
   ]
  },
  {
   "cell_type": "code",
   "execution_count": 64,
   "id": "dd4febc5",
   "metadata": {},
   "outputs": [
    {
     "data": {
      "text/html": [
       "<style>\n",
       ".list-inline {list-style: none; margin:0; padding: 0}\n",
       ".list-inline>li {display: inline-block}\n",
       ".list-inline>li:not(:last-child)::after {content: \"\\00b7\"; padding: 0 .5ex}\n",
       "</style>\n",
       "<ol class=list-inline><li>'patient'</li><li>'sample_ID_long'</li><li>'uid'</li><li>'is_multiplet'</li><li>'cell_barcode'</li><li>'total_counts'</li><li>'percent_mt'</li><li>'percent_ribo'</li><li>'percent_heme'</li><li>'n_genes'</li><li>'compartment'</li><li>'age'</li><li>'sex'</li><li>'subtype'</li><li>'treatment_group'</li><li>'state'</li><li>'response_short'</li><li>'tissue'</li><li>'day'</li><li>'pfs'</li><li>'nCount_RNA'</li><li>'nFeature_RNA'</li><li>'nCount_SCT'</li><li>'nFeature_SCT'</li><li>'cell_subtype'</li><li>'seurat_clusters'</li><li>'integrated_snn_res.0.1'</li></ol>\n"
      ],
      "text/latex": [
       "\\begin{enumerate*}\n",
       "\\item 'patient'\n",
       "\\item 'sample\\_ID\\_long'\n",
       "\\item 'uid'\n",
       "\\item 'is\\_multiplet'\n",
       "\\item 'cell\\_barcode'\n",
       "\\item 'total\\_counts'\n",
       "\\item 'percent\\_mt'\n",
       "\\item 'percent\\_ribo'\n",
       "\\item 'percent\\_heme'\n",
       "\\item 'n\\_genes'\n",
       "\\item 'compartment'\n",
       "\\item 'age'\n",
       "\\item 'sex'\n",
       "\\item 'subtype'\n",
       "\\item 'treatment\\_group'\n",
       "\\item 'state'\n",
       "\\item 'response\\_short'\n",
       "\\item 'tissue'\n",
       "\\item 'day'\n",
       "\\item 'pfs'\n",
       "\\item 'nCount\\_RNA'\n",
       "\\item 'nFeature\\_RNA'\n",
       "\\item 'nCount\\_SCT'\n",
       "\\item 'nFeature\\_SCT'\n",
       "\\item 'cell\\_subtype'\n",
       "\\item 'seurat\\_clusters'\n",
       "\\item 'integrated\\_snn\\_res.0.1'\n",
       "\\end{enumerate*}\n"
      ],
      "text/markdown": [
       "1. 'patient'\n",
       "2. 'sample_ID_long'\n",
       "3. 'uid'\n",
       "4. 'is_multiplet'\n",
       "5. 'cell_barcode'\n",
       "6. 'total_counts'\n",
       "7. 'percent_mt'\n",
       "8. 'percent_ribo'\n",
       "9. 'percent_heme'\n",
       "10. 'n_genes'\n",
       "11. 'compartment'\n",
       "12. 'age'\n",
       "13. 'sex'\n",
       "14. 'subtype'\n",
       "15. 'treatment_group'\n",
       "16. 'state'\n",
       "17. 'response_short'\n",
       "18. 'tissue'\n",
       "19. 'day'\n",
       "20. 'pfs'\n",
       "21. 'nCount_RNA'\n",
       "22. 'nFeature_RNA'\n",
       "23. 'nCount_SCT'\n",
       "24. 'nFeature_SCT'\n",
       "25. 'cell_subtype'\n",
       "26. 'seurat_clusters'\n",
       "27. 'integrated_snn_res.0.1'\n",
       "\n",
       "\n"
      ],
      "text/plain": [
       " [1] \"patient\"                \"sample_ID_long\"         \"uid\"                   \n",
       " [4] \"is_multiplet\"           \"cell_barcode\"           \"total_counts\"          \n",
       " [7] \"percent_mt\"             \"percent_ribo\"           \"percent_heme\"          \n",
       "[10] \"n_genes\"                \"compartment\"            \"age\"                   \n",
       "[13] \"sex\"                    \"subtype\"                \"treatment_group\"       \n",
       "[16] \"state\"                  \"response_short\"         \"tissue\"                \n",
       "[19] \"day\"                    \"pfs\"                    \"nCount_RNA\"            \n",
       "[22] \"nFeature_RNA\"           \"nCount_SCT\"             \"nFeature_SCT\"          \n",
       "[25] \"cell_subtype\"           \"seurat_clusters\"        \"integrated_snn_res.0.1\""
      ]
     },
     "metadata": {},
     "output_type": "display_data"
    },
    {
     "data": {
      "text/html": [
       "<style>\n",
       ".list-inline {list-style: none; margin:0; padding: 0}\n",
       ".list-inline>li {display: inline-block}\n",
       ".list-inline>li:not(:last-child)::after {content: \"\\00b7\"; padding: 0 .5ex}\n",
       "</style>\n",
       "<ol class=list-inline><li>cDC2</li><li>cDC1</li><li>mDC</li></ol>\n",
       "\n",
       "<details>\n",
       "\t<summary style=display:list-item;cursor:pointer>\n",
       "\t\t<strong>Levels</strong>:\n",
       "\t</summary>\n",
       "\t<style>\n",
       "\t.list-inline {list-style: none; margin:0; padding: 0}\n",
       "\t.list-inline>li {display: inline-block}\n",
       "\t.list-inline>li:not(:last-child)::after {content: \"\\00b7\"; padding: 0 .5ex}\n",
       "\t</style>\n",
       "\t<ol class=list-inline><li>'cDC1'</li><li>'cDC2'</li><li>'mDC'</li></ol>\n",
       "</details>"
      ],
      "text/latex": [
       "\\begin{enumerate*}\n",
       "\\item cDC2\n",
       "\\item cDC1\n",
       "\\item mDC\n",
       "\\end{enumerate*}\n",
       "\n",
       "\\emph{Levels}: \\begin{enumerate*}\n",
       "\\item 'cDC1'\n",
       "\\item 'cDC2'\n",
       "\\item 'mDC'\n",
       "\\end{enumerate*}\n"
      ],
      "text/markdown": [
       "1. cDC2\n",
       "2. cDC1\n",
       "3. mDC\n",
       "\n",
       "\n",
       "\n",
       "**Levels**: 1. 'cDC1'\n",
       "2. 'cDC2'\n",
       "3. 'mDC'\n",
       "\n",
       "\n"
      ],
      "text/plain": [
       "[1] cDC2 cDC1 mDC \n",
       "Levels: cDC1 cDC2 mDC"
      ]
     },
     "metadata": {},
     "output_type": "display_data"
    }
   ],
   "source": [
    "colnames(obj.RNA.cDC@meta.data)\n",
    "unique(obj.RNA.cDC$cell_subtype)"
   ]
  },
  {
   "cell_type": "markdown",
   "id": "bce7dc25",
   "metadata": {},
   "source": [
    "# 8. ATAC cDC cells "
   ]
  },
  {
   "cell_type": "code",
   "execution_count": 66,
   "id": "89d4de8e",
   "metadata": {},
   "outputs": [
    {
     "name": "stderr",
     "output_type": "stream",
     "text": [
      "Loading required package: Signac\n",
      "\n",
      "Signac built for for SeuratObject v4 was just loaded with SeuratObject\n",
      "v5; disabling v5 assays and validation routines, and ensuring assays\n",
      "work in strict v3/v4 compatibility mode\n",
      "\n"
     ]
    },
    {
     "data": {
      "text/plain": [
       "An object of class Seurat \n",
       "876943 features across 235 samples within 3 assays \n",
       "Active assay: gene.activities (19607 features, 18145 variable features)\n",
       " 3 layers present: counts, data, scale.data\n",
       " 2 other assays present: peaks, peaks_ChromatinAssay\n",
       " 7 dimensional reductions calculated: lsi, harmony, umap, featureumap, globalumap, pca, DEGumap"
      ]
     },
     "metadata": {},
     "output_type": "display_data"
    }
   ],
   "source": [
    "obj.ATAC.cDC <- readRDS(paste0(path_to_objects, '8_ATAC_cDC_cells.rds'))\n",
    "obj.ATAC.cDC"
   ]
  },
  {
   "cell_type": "markdown",
   "id": "d895a86f",
   "metadata": {},
   "source": [
    "colnames(obj.ATAC.cDC@meta.data)\n",
    "unique(obj.ATAC.cDC$predicted.id)"
   ]
  },
  {
   "cell_type": "code",
   "execution_count": 86,
   "id": "48836bc1",
   "metadata": {},
   "outputs": [],
   "source": [
    "saveRDS(obj.ATAC.cDC, paste0(path_to_objects, '8_ATAC_cDC_cells.rds'))"
   ]
  },
  {
   "cell_type": "markdown",
   "id": "f85a0267",
   "metadata": {},
   "source": [
    "# 9. Coembedded RNA and ATAC cDC "
   ]
  },
  {
   "cell_type": "code",
   "execution_count": 75,
   "id": "37fd6ed2",
   "metadata": {},
   "outputs": [
    {
     "data": {
      "text/plain": [
       "An object of class Seurat \n",
       "934783 features across 2395 samples within 6 assays \n",
       "Active assay: RNA (28295 features, 0 variable features)\n",
       " 3 layers present: counts, data, scale.data\n",
       " 5 other assays present: SCT, integrated, peaks, gene.activities, peaks_ChromatinAssay\n",
       " 3 dimensional reductions calculated: pca, harmony, umap"
      ]
     },
     "metadata": {},
     "output_type": "display_data"
    }
   ],
   "source": [
    "obj.coembed.cDC <- readRDS(paste0(path_to_objects, '9_coembed_cDC_cells.rds'))\n",
    "obj.coembed.cDC"
   ]
  },
  {
   "cell_type": "code",
   "execution_count": 81,
   "id": "d2eaecf4",
   "metadata": {
    "scrolled": true
   },
   "outputs": [
    {
     "data": {
      "text/html": [
       "<style>\n",
       ".list-inline {list-style: none; margin:0; padding: 0}\n",
       ".list-inline>li {display: inline-block}\n",
       ".list-inline>li:not(:last-child)::after {content: \"\\00b7\"; padding: 0 .5ex}\n",
       "</style>\n",
       "<ol class=list-inline><li>'patient'</li><li>'sample_ID_long'</li><li>'uid'</li><li>'is_multiplet'</li><li>'cell_barcode'</li><li>'total_counts'</li><li>'percent_mt'</li><li>'percent_ribo'</li><li>'percent_heme'</li><li>'n_genes'</li><li>'compartment'</li><li>'age'</li><li>'sex'</li><li>'subtype'</li><li>'treatment_group'</li><li>'state'</li><li>'response_short'</li><li>'tissue'</li><li>'day'</li><li>'pfs'</li><li>'nCount_RNA'</li><li>'nFeature_RNA'</li><li>'nCount_SCT'</li><li>'nFeature_SCT'</li><li>'Ident'</li><li>'seurat_clusters'</li><li>'integrated_snn_res.0.1'</li><li>'orig.ident'</li><li>'nCount_peaks'</li><li>'nFeature_peaks'</li><li>'total'</li><li>'duplicate'</li><li>'chimeric'</li><li>'unmapped'</li><li>'lowmapq'</li><li>'mitochondrial'</li><li>'nonprimary'</li><li>'passed_filters'</li><li>'is__cell_barcode'</li><li>'excluded_reason'</li><li>'TSS_fragments'</li><li>'DNase_sensitive_region_fragments'</li><li>'enhancer_region_fragments'</li><li>'promoter_region_fragments'</li><li>'on_target_fragments'</li><li>'blacklist_region_fragments'</li><li>'peak_region_fragments'</li><li>'peak_region_cutsites'</li><li>'nucleosome_signal'</li><li>'nucleosome_percentile'</li><li>'TSS.enrichment'</li><li>'TSS.percentile'</li><li>'pct_reads_in_peaks'</li><li>'blacklist_ratio'</li><li>'nCount_gene.activities'</li><li>'nFeature_gene.activities'</li><li>'technology'</li></ol>\n"
      ],
      "text/latex": [
       "\\begin{enumerate*}\n",
       "\\item 'patient'\n",
       "\\item 'sample\\_ID\\_long'\n",
       "\\item 'uid'\n",
       "\\item 'is\\_multiplet'\n",
       "\\item 'cell\\_barcode'\n",
       "\\item 'total\\_counts'\n",
       "\\item 'percent\\_mt'\n",
       "\\item 'percent\\_ribo'\n",
       "\\item 'percent\\_heme'\n",
       "\\item 'n\\_genes'\n",
       "\\item 'compartment'\n",
       "\\item 'age'\n",
       "\\item 'sex'\n",
       "\\item 'subtype'\n",
       "\\item 'treatment\\_group'\n",
       "\\item 'state'\n",
       "\\item 'response\\_short'\n",
       "\\item 'tissue'\n",
       "\\item 'day'\n",
       "\\item 'pfs'\n",
       "\\item 'nCount\\_RNA'\n",
       "\\item 'nFeature\\_RNA'\n",
       "\\item 'nCount\\_SCT'\n",
       "\\item 'nFeature\\_SCT'\n",
       "\\item 'Ident'\n",
       "\\item 'seurat\\_clusters'\n",
       "\\item 'integrated\\_snn\\_res.0.1'\n",
       "\\item 'orig.ident'\n",
       "\\item 'nCount\\_peaks'\n",
       "\\item 'nFeature\\_peaks'\n",
       "\\item 'total'\n",
       "\\item 'duplicate'\n",
       "\\item 'chimeric'\n",
       "\\item 'unmapped'\n",
       "\\item 'lowmapq'\n",
       "\\item 'mitochondrial'\n",
       "\\item 'nonprimary'\n",
       "\\item 'passed\\_filters'\n",
       "\\item 'is\\_\\_cell\\_barcode'\n",
       "\\item 'excluded\\_reason'\n",
       "\\item 'TSS\\_fragments'\n",
       "\\item 'DNase\\_sensitive\\_region\\_fragments'\n",
       "\\item 'enhancer\\_region\\_fragments'\n",
       "\\item 'promoter\\_region\\_fragments'\n",
       "\\item 'on\\_target\\_fragments'\n",
       "\\item 'blacklist\\_region\\_fragments'\n",
       "\\item 'peak\\_region\\_fragments'\n",
       "\\item 'peak\\_region\\_cutsites'\n",
       "\\item 'nucleosome\\_signal'\n",
       "\\item 'nucleosome\\_percentile'\n",
       "\\item 'TSS.enrichment'\n",
       "\\item 'TSS.percentile'\n",
       "\\item 'pct\\_reads\\_in\\_peaks'\n",
       "\\item 'blacklist\\_ratio'\n",
       "\\item 'nCount\\_gene.activities'\n",
       "\\item 'nFeature\\_gene.activities'\n",
       "\\item 'technology'\n",
       "\\end{enumerate*}\n"
      ],
      "text/markdown": [
       "1. 'patient'\n",
       "2. 'sample_ID_long'\n",
       "3. 'uid'\n",
       "4. 'is_multiplet'\n",
       "5. 'cell_barcode'\n",
       "6. 'total_counts'\n",
       "7. 'percent_mt'\n",
       "8. 'percent_ribo'\n",
       "9. 'percent_heme'\n",
       "10. 'n_genes'\n",
       "11. 'compartment'\n",
       "12. 'age'\n",
       "13. 'sex'\n",
       "14. 'subtype'\n",
       "15. 'treatment_group'\n",
       "16. 'state'\n",
       "17. 'response_short'\n",
       "18. 'tissue'\n",
       "19. 'day'\n",
       "20. 'pfs'\n",
       "21. 'nCount_RNA'\n",
       "22. 'nFeature_RNA'\n",
       "23. 'nCount_SCT'\n",
       "24. 'nFeature_SCT'\n",
       "25. 'Ident'\n",
       "26. 'seurat_clusters'\n",
       "27. 'integrated_snn_res.0.1'\n",
       "28. 'orig.ident'\n",
       "29. 'nCount_peaks'\n",
       "30. 'nFeature_peaks'\n",
       "31. 'total'\n",
       "32. 'duplicate'\n",
       "33. 'chimeric'\n",
       "34. 'unmapped'\n",
       "35. 'lowmapq'\n",
       "36. 'mitochondrial'\n",
       "37. 'nonprimary'\n",
       "38. 'passed_filters'\n",
       "39. 'is__cell_barcode'\n",
       "40. 'excluded_reason'\n",
       "41. 'TSS_fragments'\n",
       "42. 'DNase_sensitive_region_fragments'\n",
       "43. 'enhancer_region_fragments'\n",
       "44. 'promoter_region_fragments'\n",
       "45. 'on_target_fragments'\n",
       "46. 'blacklist_region_fragments'\n",
       "47. 'peak_region_fragments'\n",
       "48. 'peak_region_cutsites'\n",
       "49. 'nucleosome_signal'\n",
       "50. 'nucleosome_percentile'\n",
       "51. 'TSS.enrichment'\n",
       "52. 'TSS.percentile'\n",
       "53. 'pct_reads_in_peaks'\n",
       "54. 'blacklist_ratio'\n",
       "55. 'nCount_gene.activities'\n",
       "56. 'nFeature_gene.activities'\n",
       "57. 'technology'\n",
       "\n",
       "\n"
      ],
      "text/plain": [
       " [1] \"patient\"                          \"sample_ID_long\"                  \n",
       " [3] \"uid\"                              \"is_multiplet\"                    \n",
       " [5] \"cell_barcode\"                     \"total_counts\"                    \n",
       " [7] \"percent_mt\"                       \"percent_ribo\"                    \n",
       " [9] \"percent_heme\"                     \"n_genes\"                         \n",
       "[11] \"compartment\"                      \"age\"                             \n",
       "[13] \"sex\"                              \"subtype\"                         \n",
       "[15] \"treatment_group\"                  \"state\"                           \n",
       "[17] \"response_short\"                   \"tissue\"                          \n",
       "[19] \"day\"                              \"pfs\"                             \n",
       "[21] \"nCount_RNA\"                       \"nFeature_RNA\"                    \n",
       "[23] \"nCount_SCT\"                       \"nFeature_SCT\"                    \n",
       "[25] \"Ident\"                            \"seurat_clusters\"                 \n",
       "[27] \"integrated_snn_res.0.1\"           \"orig.ident\"                      \n",
       "[29] \"nCount_peaks\"                     \"nFeature_peaks\"                  \n",
       "[31] \"total\"                            \"duplicate\"                       \n",
       "[33] \"chimeric\"                         \"unmapped\"                        \n",
       "[35] \"lowmapq\"                          \"mitochondrial\"                   \n",
       "[37] \"nonprimary\"                       \"passed_filters\"                  \n",
       "[39] \"is__cell_barcode\"                 \"excluded_reason\"                 \n",
       "[41] \"TSS_fragments\"                    \"DNase_sensitive_region_fragments\"\n",
       "[43] \"enhancer_region_fragments\"        \"promoter_region_fragments\"       \n",
       "[45] \"on_target_fragments\"              \"blacklist_region_fragments\"      \n",
       "[47] \"peak_region_fragments\"            \"peak_region_cutsites\"            \n",
       "[49] \"nucleosome_signal\"                \"nucleosome_percentile\"           \n",
       "[51] \"TSS.enrichment\"                   \"TSS.percentile\"                  \n",
       "[53] \"pct_reads_in_peaks\"               \"blacklist_ratio\"                 \n",
       "[55] \"nCount_gene.activities\"           \"nFeature_gene.activities\"        \n",
       "[57] \"technology\"                      "
      ]
     },
     "metadata": {},
     "output_type": "display_data"
    },
    {
     "data": {
      "text/html": [
       "<style>\n",
       ".list-inline {list-style: none; margin:0; padding: 0}\n",
       ".list-inline>li {display: inline-block}\n",
       ".list-inline>li:not(:last-child)::after {content: \"\\00b7\"; padding: 0 .5ex}\n",
       "</style>\n",
       "<ol class=list-inline><li>'cDC2'</li><li>'cDC1'</li><li>'mDC'</li></ol>\n"
      ],
      "text/latex": [
       "\\begin{enumerate*}\n",
       "\\item 'cDC2'\n",
       "\\item 'cDC1'\n",
       "\\item 'mDC'\n",
       "\\end{enumerate*}\n"
      ],
      "text/markdown": [
       "1. 'cDC2'\n",
       "2. 'cDC1'\n",
       "3. 'mDC'\n",
       "\n",
       "\n"
      ],
      "text/plain": [
       "[1] \"cDC2\" \"cDC1\" \"mDC\" "
      ]
     },
     "metadata": {},
     "output_type": "display_data"
    }
   ],
   "source": [
    "colnames(obj.coembed.cDC@meta.data)\n",
    "unique(obj.coembed.cDC$Ident)\n"
   ]
  }
 ],
 "metadata": {
  "kernelspec": {
   "display_name": "r-kernel",
   "language": "R",
   "name": "r-kernel"
  },
  "language_info": {
   "codemirror_mode": "r",
   "file_extension": ".r",
   "mimetype": "text/x-r-source",
   "name": "R",
   "pygments_lexer": "r",
   "version": "4.2.3"
  }
 },
 "nbformat": 4,
 "nbformat_minor": 5
}
